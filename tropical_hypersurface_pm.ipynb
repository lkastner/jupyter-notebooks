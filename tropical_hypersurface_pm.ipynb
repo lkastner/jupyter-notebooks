{
 "cells": [
  {
   "cell_type": "markdown",
   "metadata": {},
   "source": [
    "# Tropical hypersurfaces in polymake\n",
    "\n",
    "This notebook illustrates how the coordinates of tropical hypersurfaces in polymake work. Furthermore it takes a look at the implications of looking at the hypersurface in the projective torus.\n",
    "\n",
    "The question resulting in this notebook was about a point on a tropical hypersurface that did not seem to be contained in it."
   ]
  },
  {
   "cell_type": "code",
   "execution_count": 1,
   "metadata": {},
   "outputs": [],
   "source": [
    "application \"tropicaal\";"
   ]
  },
  {
   "cell_type": "markdown",
   "metadata": {},
   "source": [
    "First I reproduce the example in smaller dimension."
   ]
  },
  {
   "cell_type": "code",
   "execution_count": 2,
   "metadata": {},
   "outputs": [],
   "source": [
    "#Tropical condition corresponding to {0 1 2 3 4 5}\n",
    "$h31 = new Vector<Int>(6);\n",
    "$h31->[0]=1;\n",
    "$h31->[5]=1;\n",
    "\n",
    "$h32 = new Vector<Int>(6);\n",
    "$h32->[2]=1;\n",
    "$h32->[3]=1;\n",
    "\n",
    "$h33 = new Vector<Int>(6);\n",
    "$h33->[1]=1;\n",
    "$h33->[4]=1;\n",
    "\n",
    "$H3 = new Hypersurface<Max>(MONOMIALS=> \n",
    "[$h31,$h32,$h33], COEFFICIENTS=>[0,0,0]);"
   ]
  },
  {
   "cell_type": "markdown",
   "metadata": {},
   "source": [
    "Now let us print the properties:"
   ]
  },
  {
   "cell_type": "code",
   "execution_count": 18,
   "metadata": {},
   "outputs": [
    {
     "data": {
      "text/plain": [
       "1 0 0 0 0 0 0\n",
       "0 0 1 1 1 1 1\n",
       "0 0 -1 0 0 0 0\n",
       "0 0 0 -1 0 0 0\n"
      ]
     },
     "execution_count": 18,
     "metadata": {},
     "output_type": "execute_result"
    }
   ],
   "source": [
    "print $H3->RAYS;"
   ]
  },
  {
   "cell_type": "code",
   "execution_count": 19,
   "metadata": {},
   "outputs": [
    {
     "data": {
      "text/plain": [
       "0 0 0 -1 1 0 0\n",
       "0 0 -1 0 0 1 0\n",
       "0 -1 0 0 0 0 1\n"
      ]
     },
     "execution_count": 19,
     "metadata": {},
     "output_type": "execute_result"
    }
   ],
   "source": [
    "print $H3->LINEALITY_SPACE;"
   ]
  },
  {
   "cell_type": "code",
   "execution_count": 20,
   "metadata": {},
   "outputs": [
    {
     "data": {
      "text/plain": [
       "{0 2}\n",
       "{0 3}\n",
       "{0 1}\n"
      ]
     },
     "execution_count": 20,
     "metadata": {},
     "output_type": "execute_result"
    }
   ],
   "source": [
    "print $H3->MAXIMAL_POLYTOPES;"
   ]
  },
  {
   "cell_type": "code",
   "execution_count": 21,
   "metadata": {},
   "outputs": [
    {
     "data": {
      "text/plain": [
       "x_0*x_5 + x_1*x_4 + x_2*x_3"
      ]
     },
     "execution_count": 21,
     "metadata": {},
     "output_type": "execute_result"
    }
   ],
   "source": [
    "print $H3->POLYNOMIAL;"
   ]
  },
  {
   "cell_type": "markdown",
   "metadata": {},
   "source": [
    "The first thing to notice is that this does not really fit with the rays. So there is an additional shift incorporated, meaning that the variable `x_i` actually corresponds to the $(i+1)$-th coordinate of the ambient space.\n",
    "\n",
    "E.g. the ray `0 0 -1 0 0 0 0` means: Set `x_1 = -1`. Then the second term of the polynomial is lowest and the remaining two terms are zero and maximal, so this is indeed a point on our hypersurface.\n",
    "\n",
    "But now we get to the main question: With this data I can set every coordinate to be $-1$ except for `x_0`. Instead we have this awkward vector `0 0 1 1 1 1 1` meaning setting everything but `x_0` to be 1. It serves the same purpose, but as you can see below the equivalent vector `0 -1 0 0 0 0 0` is not contained."
   ]
  },
  {
   "cell_type": "code",
   "execution_count": 13,
   "metadata": {},
   "outputs": [
    {
     "data": {
      "text/plain": [
       "true\n"
      ]
     },
     "execution_count": 13,
     "metadata": {},
     "output_type": "execute_result"
    }
   ],
   "source": [
    "# $v = new Vector(qw(0   0 0 0 1 0 1));\n",
    "$v = new Vector(qw(0   -1 0 0 0 0 0));\n",
    "print polynomial_vanishes($H3->POLYNOMIAL, new Vector<TropicalNumber<Max>>($v->slice(range(1,6)))),\"\\n\";"
   ]
  },
  {
   "cell_type": "markdown",
   "metadata": {},
   "source": [
    "First check whether it is a tropical zero."
   ]
  },
  {
   "cell_type": "code",
   "execution_count": 14,
   "metadata": {},
   "outputs": [
    {
     "data": {
      "text/plain": [
       "false\n",
       "false\n",
       "false\n"
      ]
     },
     "execution_count": 14,
     "metadata": {},
     "output_type": "execute_result"
    }
   ],
   "source": [
    "for(my $i=0; $i<3; $i++){\n",
    "    my $P = $H3->polytope($i);\n",
    "    print $P->contains($v),\"\\n\";\n",
    "}"
   ]
  },
  {
   "cell_type": "markdown",
   "metadata": {},
   "source": [
    "But it is not contained in the polyhedral structure.\n",
    "\n",
    "The reason for this can be found in the lineality space. It should contain the vector `0 1 1 1 1 1 1` where we set everything to be `1`, but it does not. Now read the manual:\n",
    "\n",
    "https://polymake.org/doku.php/documentation/master/tropical/hypersurface\n",
    "\n",
    "It explicitly says that this solution gets modded out, since it is trivial. Putting it back in makes the fan_containment procedure work"
   ]
  },
  {
   "cell_type": "code",
   "execution_count": 22,
   "metadata": {},
   "outputs": [],
   "source": [
    "$R = $H3->RAYS;\n",
    "$L = new Matrix($H3->LINEALITY_SPACE / (zero_vector(1) | ones_vector(6)));\n",
    "$MP = $H3->MAXIMAL_POLYTOPES;\n",
    "$H4 = new fan::PolyhedralComplex(INPUT_RAYS=>$R, INPUT_LINEALITY=>$L, INPUT_POLYTOPES=>$MP);"
   ]
  },
  {
   "cell_type": "code",
   "execution_count": 23,
   "metadata": {},
   "outputs": [
    {
     "data": {
      "text/plain": [
       "false\n",
       "false\n",
       "true\n"
      ]
     },
     "execution_count": 23,
     "metadata": {},
     "output_type": "execute_result"
    }
   ],
   "source": [
    "for(my $i=0; $i<3; $i++){\n",
    "    my $P = $H4->polytope($i);\n",
    "    print $P->contains($v),\"\\n\";\n",
    "}"
   ]
  },
  {
   "cell_type": "markdown",
   "metadata": {},
   "source": [
    "With this approach also your vector is contained:"
   ]
  },
  {
   "cell_type": "code",
   "execution_count": 24,
   "metadata": {},
   "outputs": [
    {
     "data": {
      "text/plain": [
       "true\n",
       "false\n",
       "false\n"
      ]
     },
     "execution_count": 24,
     "metadata": {},
     "output_type": "execute_result"
    }
   ],
   "source": [
    "$v = new Vector(qw(0 0 0 0 1 0 1));\n",
    "for(my $i=0; $i<3; $i++){\n",
    "    my $P = $H4->polytope($i);\n",
    "    print $P->contains($v),\"\\n\";\n",
    "}"
   ]
  },
  {
   "cell_type": "code",
   "execution_count": null,
   "metadata": {},
   "outputs": [],
   "source": []
  }
 ],
 "metadata": {
  "kernelspec": {
   "display_name": "polymake-4.4.1",
   "language": "polymake",
   "name": "polymake"
  },
  "language_info": {
   "codemirror_mode": "perl",
   "file_extension": ".pl",
   "mimetype": "text/x-polymake",
   "name": "polymake"
  }
 },
 "nbformat": 4,
 "nbformat_minor": 4
}
