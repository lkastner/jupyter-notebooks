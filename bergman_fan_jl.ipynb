{
 "cells": [
  {
   "cell_type": "markdown",
   "metadata": {},
   "source": [
    "# Bergman fan via `Polymake.jl` in `Oscar.jl`\n",
    "\n",
    "We will define a matroid and compute its Bergman fan."
   ]
  },
  {
   "cell_type": "code",
   "execution_count": 2,
   "metadata": {},
   "outputs": [
    {
     "name": "stderr",
     "output_type": "stream",
     "text": [
      "┌ Info: Precompiling Oscar [f1435218-dba5-11e9-1e4d-f1a5fab5fc13]\n",
      "└ @ Base loading.jl:1342\n"
     ]
    },
    {
     "name": "stdout",
     "output_type": "stream",
     "text": [
      " -----    -----    -----      -      -----   \n",
      "|     |  |     |  |     |    | |    |     |  \n",
      "|     |  |        |         |   |   |     |  \n",
      "|     |   -----   |        |     |  |-----   \n",
      "|     |        |  |        |-----|  |   |    \n",
      "|     |  |     |  |     |  |     |  |    |   \n",
      " -----    -----    -----   -     -  -     -  \n",
      "\n",
      "...combining (and extending) ANTIC, GAP, Polymake and Singular\n",
      "Version\u001b[32m 0.6.1-DEV \u001b[39m... \n",
      " ... which comes with absolutely no warranty whatsoever\n",
      "Type: '?Oscar' for more information\n",
      "(c) 2019-2021 by The Oscar Development Team\n"
     ]
    }
   ],
   "source": [
    "using Oscar"
   ]
  },
  {
   "cell_type": "code",
   "execution_count": 3,
   "metadata": {
    "scrolled": true
   },
   "outputs": [
    {
     "data": {
      "text/html": [
       "<dl> <dt>type</dt><dd> Matroid</dd> </dl>   <details>\n",
       "       <summary style='display:list-item;'>VECTORS</summary>\n",
       "       <pre>1 0 0\n",
       "1 1 0\n",
       "1 0 1\n",
       "1 1 1</pre>\n",
       "   </details>\n"
      ],
      "text/plain": [
       "type: Matroid\n",
       "\n",
       "VECTORS\n",
       "\t1 0 0\n",
       "\t1 1 0\n",
       "\t1 0 1\n",
       "\t1 1 1\n"
      ]
     },
     "execution_count": 3,
     "metadata": {},
     "output_type": "execute_result"
    }
   ],
   "source": [
    "A = [1 0 0; 1 1 0; 1 0 1; 1 1 1]\n",
    "matroid = Polymake.matroid.Matroid(VECTORS=A)"
   ]
  },
  {
   "cell_type": "markdown",
   "metadata": {},
   "source": [
    "The following constructs the Bergman fan according to https://polymake.org/doku.php/documentation/master/tropical#augmented_matroid_fan (there is also an arxiv link there to look up the definition we are using). You can choose to use `min` or `max`."
   ]
  },
  {
   "cell_type": "code",
   "execution_count": 6,
   "metadata": {},
   "outputs": [
    {
     "data": {
      "text/html": [
       "<dl> <dt>type</dt><dd> Cycle<Min></dd> </dl>   <details>\n",
       "       <summary style='display:list-item;'>MAXIMAL_POLYTOPES</summary>\n",
       "       <pre>{4 5 9 15}\n",
       "{4 5 10 15}\n",
       "{4 5 11 15}\n",
       "{4 6 9 15}\n",
       "{4 6 12 15}\n",
       "{4 6 13 15}\n",
       "{4 7 10 15}\n",
       "{4 7 12 15}\n",
       "{4 7 14 15}\n",
       "{4 8 11 15}\n",
       "{4 8 13 15}\n",
       "{4 8 14 15}\n",
       "{0 5 9 15}\n",
       "{0 5 10 15}\n",
       "{0 5 11 15}\n",
       "{1 6 9 15}\n",
       "{1 6 12 15}\n",
       "{1 6 13 15}\n",
       "{2 7 10 15}\n",
       "{2 7 12 15}\n",
       "{2 7 14 15}\n",
       "{3 8 11 15}\n",
       "{3 8 13 15}\n",
       "{3 8 14 15}\n",
       "{0 1 9 15}\n",
       "{0 2 10 15}\n",
       "{1 2 12 15}\n",
       "{0 3 11 15}\n",
       "{1 3 13 15}\n",
       "{2 3 14 15}\n",
       "{0 1 2 15}\n",
       "{0 1 3 15}\n",
       "{0 2 3 15}\n",
       "{1 2 3 15}</pre>\n",
       "   </details>\n",
       "\n",
       "   <details>\n",
       "       <summary style='display:list-item;'>PROJECTIVE_VERTICES</summary>\n",
       "       <pre>0 0 1 0 0 0\n",
       "0 0 0 1 0 0\n",
       "0 0 0 0 1 0\n",
       "0 0 0 0 0 1\n",
       "0 0 -1 -1 -1 -1\n",
       "0 0 0 -1 -1 -1\n",
       "0 0 -1 0 -1 -1\n",
       "0 0 -1 -1 0 -1\n",
       "0 0 -1 -1 -1 0\n",
       "0 0 0 0 -1 -1\n",
       "0 0 0 -1 0 -1\n",
       "0 0 0 -1 -1 0\n",
       "0 0 -1 0 0 -1\n",
       "0 0 -1 0 -1 0\n",
       "0 0 -1 -1 0 0\n",
       "1 0 0 0 0 0</pre>\n",
       "   </details>\n",
       "\n",
       "   <details>\n",
       "       <summary style='display:list-item;'>PURE</summary>\n",
       "       <pre>true</pre>\n",
       "   </details>\n",
       "\n",
       "   <details>\n",
       "       <summary style='display:list-item;'>WEIGHTS</summary>\n",
       "       <pre>1 1 1 1 1 1 1 1 1 1 1 1 1 1 1 1 1 1 1 1 1 1 1 1 1 1 1 1 1 1 1 1 1 1</pre>\n",
       "   </details>\n"
      ],
      "text/plain": [
       "type: Cycle<Min>\n",
       "\n",
       "MAXIMAL_POLYTOPES\n",
       "\t{4 5 9 15}\n",
       "\t{4 5 10 15}\n",
       "\t{4 5 11 15}\n",
       "\t{4 6 9 15}\n",
       "\t{4 6 12 15}\n",
       "\t{4 6 13 15}\n",
       "\t{4 7 10 15}\n",
       "\t{4 7 12 15}\n",
       "\t{4 7 14 15}\n",
       "\t{4 8 11 15}\n",
       "\t…\n",
       "\n",
       "PROJECTIVE_VERTICES\n",
       "\t0 0 1 0 0 0\n",
       "\t0 0 0 1 0 0\n",
       "\t0 0 0 0 1 0\n",
       "\t0 0 0 0 0 1\n",
       "\t0 0 -1 -1 -1 -1\n",
       "\t0 0 0 -1 -1 -1\n",
       "\t0 0 -1 0 -1 -1\n",
       "\t0 0 -1 -1 0 -1\n",
       "\t0 0 -1 -1 -1 0\n",
       "\t0 0 0 0 -1 -1\n",
       "\t…\n",
       "\n",
       "PURE\n",
       "\ttrue\n",
       "\n",
       "WEIGHTS\n",
       "\t1 1 1 1 1 1 1 1 1 1 1 1 1 1 1 1 1 1 1 1 1 1 1 1 1 1 1 1 1 1 1 1 1 1\n"
      ]
     },
     "execution_count": 6,
     "metadata": {},
     "output_type": "execute_result"
    }
   ],
   "source": [
    "BF = Polymake.tropical.augmented_matroid_fan{min}(matroid)"
   ]
  },
  {
   "cell_type": "markdown",
   "metadata": {},
   "source": [
    "The result is a tropical cycle. You can look up its properties [here](https://polymake.org/doku.php/documentation/master/tropical/cycle). You can access its properties in the following way:"
   ]
  },
  {
   "cell_type": "code",
   "execution_count": 7,
   "metadata": {
    "slideshow": {
     "slide_type": "subslide"
    }
   },
   "outputs": [
    {
     "data": {
      "text/plain": [
       "3"
      ]
     },
     "execution_count": 7,
     "metadata": {},
     "output_type": "execute_result"
    }
   ],
   "source": [
    "BF.PROJECTIVE_DIM"
   ]
  },
  {
   "cell_type": "code",
   "execution_count": 8,
   "metadata": {},
   "outputs": [
    {
     "data": {
      "text/plain": [
       "pm::Matrix<pm::Rational>\n",
       "0 0 1 0 0 0\n",
       "0 0 0 1 0 0\n",
       "0 0 0 0 1 0\n",
       "0 0 0 0 0 1\n",
       "0 0 -1 -1 -1 -1\n",
       "0 0 0 -1 -1 -1\n",
       "0 0 -1 0 -1 -1\n",
       "0 0 -1 -1 0 -1\n",
       "0 0 -1 -1 -1 0\n",
       "0 0 0 0 -1 -1\n",
       "0 0 0 -1 0 -1\n",
       "0 0 0 -1 -1 0\n",
       "0 0 -1 0 0 -1\n",
       "0 0 -1 0 -1 0\n",
       "0 0 -1 -1 0 0\n",
       "1 0 0 0 0 0\n"
      ]
     },
     "execution_count": 8,
     "metadata": {},
     "output_type": "execute_result"
    }
   ],
   "source": [
    "BF.PROJECTIVE_VERTICES"
   ]
  },
  {
   "cell_type": "markdown",
   "metadata": {},
   "source": [
    "There are conversion methods for many of the properties and they can be used in the following way:"
   ]
  },
  {
   "cell_type": "code",
   "execution_count": 9,
   "metadata": {},
   "outputs": [
    {
     "data": {
      "text/plain": [
       "16×6 Matrix{Rational}:\n",
       " 0//1  0//1   1//1   0//1   0//1   0//1\n",
       " 0//1  0//1   0//1   1//1   0//1   0//1\n",
       " 0//1  0//1   0//1   0//1   1//1   0//1\n",
       " 0//1  0//1   0//1   0//1   0//1   1//1\n",
       " 0//1  0//1  -1//1  -1//1  -1//1  -1//1\n",
       " 0//1  0//1   0//1  -1//1  -1//1  -1//1\n",
       " 0//1  0//1  -1//1   0//1  -1//1  -1//1\n",
       " 0//1  0//1  -1//1  -1//1   0//1  -1//1\n",
       " 0//1  0//1  -1//1  -1//1  -1//1   0//1\n",
       " 0//1  0//1   0//1   0//1  -1//1  -1//1\n",
       " 0//1  0//1   0//1  -1//1   0//1  -1//1\n",
       " 0//1  0//1   0//1  -1//1  -1//1   0//1\n",
       " 0//1  0//1  -1//1   0//1   0//1  -1//1\n",
       " 0//1  0//1  -1//1   0//1  -1//1   0//1\n",
       " 0//1  0//1  -1//1  -1//1   0//1   0//1\n",
       " 1//1  0//1   0//1   0//1   0//1   0//1"
      ]
     },
     "execution_count": 9,
     "metadata": {},
     "output_type": "execute_result"
    }
   ],
   "source": [
    "convert(Matrix{Rational}, BF.PROJECTIVE_VERTICES)"
   ]
  },
  {
   "cell_type": "code",
   "execution_count": 10,
   "metadata": {},
   "outputs": [
    {
     "data": {
      "text/plain": [
       "pm::Vector<pm::Integer>\n",
       "1 1 1 1 1 1 1 1 1 1 1 1 1 1 1 1 1 1 1 1 1 1 1 1 1 1 1 1 1 1 1 1 1 1"
      ]
     },
     "execution_count": 10,
     "metadata": {},
     "output_type": "execute_result"
    }
   ],
   "source": [
    "BF.WEIGHTS"
   ]
  },
  {
   "cell_type": "code",
   "execution_count": 11,
   "metadata": {},
   "outputs": [
    {
     "data": {
      "text/plain": [
       "34-element Vector{Int64}:\n",
       " 1\n",
       " 1\n",
       " 1\n",
       " 1\n",
       " 1\n",
       " 1\n",
       " 1\n",
       " 1\n",
       " 1\n",
       " 1\n",
       " 1\n",
       " 1\n",
       " 1\n",
       " ⋮\n",
       " 1\n",
       " 1\n",
       " 1\n",
       " 1\n",
       " 1\n",
       " 1\n",
       " 1\n",
       " 1\n",
       " 1\n",
       " 1\n",
       " 1\n",
       " 1"
      ]
     },
     "execution_count": 11,
     "metadata": {},
     "output_type": "execute_result"
    }
   ],
   "source": [
    "convert(Vector{Int64}, BF.WEIGHTS)"
   ]
  },
  {
   "cell_type": "code",
   "execution_count": null,
   "metadata": {},
   "outputs": [],
   "source": []
  }
 ],
 "metadata": {
  "kernelspec": {
   "display_name": "Julia 1.6.3",
   "language": "julia",
   "name": "julia-1.6"
  },
  "language_info": {
   "file_extension": ".jl",
   "mimetype": "application/julia",
   "name": "julia",
   "version": "1.6.3"
  }
 },
 "nbformat": 4,
 "nbformat_minor": 4
}
