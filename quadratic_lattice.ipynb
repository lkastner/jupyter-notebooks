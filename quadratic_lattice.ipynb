{
 "cells": [
  {
   "cell_type": "code",
   "execution_count": 1,
   "metadata": {},
   "outputs": [
    {
     "name": "stdout",
     "output_type": "stream",
     "text": [
      " -----    -----    -----      -      -----   \n",
      "|     |  |     |  |     |    | |    |     |  \n",
      "|     |  |        |         |   |   |     |  \n",
      "|     |   -----   |        |     |  |-----   \n",
      "|     |        |  |        |-----|  |   |    \n",
      "|     |  |     |  |     |  |     |  |    |   \n",
      " -----    -----    -----   -     -  -     -  \n",
      "\n",
      "...combining (and extending) ANTIC, GAP, Polymake and Singular\n",
      "Version\u001b[32m 0.10.1 \u001b[39m... \n",
      " ... which comes with absolutely no warranty whatsoever\n",
      "Type: '?Oscar' for more information\n",
      "(c) 2019-2022 by The Oscar Development Team\n"
     ]
    }
   ],
   "source": [
    "using Oscar"
   ]
  },
  {
   "cell_type": "code",
   "execution_count": 4,
   "metadata": {},
   "outputs": [
    {
     "data": {
      "text/plain": [
       "A polyhedral fan in ambient dimension 2"
      ]
     },
     "execution_count": 4,
     "metadata": {},
     "output_type": "execute_result"
    }
   ],
   "source": [
    "F = PolyhedralFan([-2 1; 0 1; 2 1],IncidenceMatrix([[1,2],[2,3]]))"
   ]
  },
  {
   "cell_type": "code",
   "execution_count": 6,
   "metadata": {},
   "outputs": [
    {
     "data": {
      "text/plain": [
       "true"
      ]
     },
     "execution_count": 6,
     "metadata": {},
     "output_type": "execute_result"
    }
   ],
   "source": [
    "F.pm_fan.PURE"
   ]
  },
  {
   "cell_type": "code",
   "execution_count": 8,
   "metadata": {},
   "outputs": [
    {
     "data": {
      "text/plain": [
       "true"
      ]
     },
     "execution_count": 8,
     "metadata": {},
     "output_type": "execute_result"
    }
   ],
   "source": [
    "F.pm_fan.FULL_DIM"
   ]
  },
  {
   "cell_type": "code",
   "execution_count": 9,
   "metadata": {},
   "outputs": [
    {
     "data": {
      "text/plain": [
       "3-element SubObjectIterator{Cone{fmpq}}:\n",
       " A polyhedral cone in ambient dimension 2\n",
       " A polyhedral cone in ambient dimension 2\n",
       " A polyhedral cone in ambient dimension 2"
      ]
     },
     "execution_count": 9,
     "metadata": {},
     "output_type": "execute_result"
    }
   ],
   "source": [
    "cones(F,1)"
   ]
  },
  {
   "cell_type": "code",
   "execution_count": 10,
   "metadata": {},
   "outputs": [
    {
     "data": {
      "text/plain": [
       "2-element SubObjectIterator{Cone{fmpq}}:\n",
       " A polyhedral cone in ambient dimension 2\n",
       " A polyhedral cone in ambient dimension 2"
      ]
     },
     "execution_count": 10,
     "metadata": {},
     "output_type": "execute_result"
    }
   ],
   "source": [
    "maxCones = maximal_cones(F)"
   ]
  },
  {
   "cell_type": "code",
   "execution_count": 11,
   "metadata": {},
   "outputs": [
    {
     "data": {
      "text/html": [
       "<dl> <dt>type</dt><dd> PolyhedralFan<Rational></dd> </dl>   <details>\n",
       "       <summary style='display:list-item;'>COMBINATORIAL_DIM</summary>\n",
       "       <pre>1</pre>\n",
       "   </details>\n",
       "\n",
       "   <details>\n",
       "       <summary style='display:list-item;'>FACET_NORMALS</summary>\n",
       "       <pre>1 2\n",
       "-1 0\n",
       "-1 2</pre>\n",
       "   </details>\n",
       "\n",
       "   <details>\n",
       "       <summary style='display:list-item;'>FAN_AMBIENT_DIM</summary>\n",
       "       <pre>2</pre>\n",
       "   </details>\n",
       "\n",
       "   <details>\n",
       "       <summary style='display:list-item;'>FAN_DIM</summary>\n",
       "       <pre>2</pre>\n",
       "   </details>\n",
       "\n",
       "   <details>\n",
       "       <summary style='display:list-item;'>FULL_DIM</summary>\n",
       "       <pre>true</pre>\n",
       "   </details>\n",
       "\n",
       "   <details>\n",
       "       <summary style='display:list-item;'>HASSE_DIAGRAM</summary>\n",
       "       <pre>type: Lattice<BasicDecoration, Nonsequential> as PolyhedralFan<Rational>::HASSE_DIAGRAM</pre>\n",
       "   </details>\n",
       "\n",
       "   <details>\n",
       "       <summary style='display:list-item;'>INPUT_CONES</summary>\n",
       "       <pre>{0 1}\n",
       "{1 2}</pre>\n",
       "   </details>\n",
       "\n",
       "   <details>\n",
       "       <summary style='display:list-item;'>INPUT_RAYS</summary>\n",
       "       <pre>-2 1\n",
       "0 1\n",
       "2 1</pre>\n",
       "   </details>\n",
       "\n",
       "   <details>\n",
       "       <summary style='display:list-item;'>LINEALITY_DIM</summary>\n",
       "       <pre>0</pre>\n",
       "   </details>\n",
       "\n",
       "   <details>\n",
       "       <summary style='display:list-item;'>LINEALITY_SPACE</summary>\n",
       "       <pre></pre>\n",
       "   </details>\n",
       "\n",
       "   <details>\n",
       "       <summary style='display:list-item;'>LINEAR_SPAN_NORMALS</summary>\n",
       "       <pre></pre>\n",
       "   </details>\n",
       "\n",
       "   <details>\n",
       "       <summary style='display:list-item;'>MAXIMAL_CONES</summary>\n",
       "       <pre>{0 1}\n",
       "{1 2}</pre>\n",
       "   </details>\n",
       "\n",
       "   <details>\n",
       "       <summary style='display:list-item;'>MAXIMAL_CONES_COMBINATORIAL_DIMS</summary>\n",
       "       <pre>1 1</pre>\n",
       "   </details>\n",
       "\n",
       "   <details>\n",
       "       <summary style='display:list-item;'>MAXIMAL_CONES_FACETS</summary>\n",
       "       <pre>1 1 0\n",
       "0 -1 1</pre>\n",
       "   </details>\n",
       "\n",
       "   <details>\n",
       "       <summary style='display:list-item;'>MAXIMAL_CONES_INCIDENCES</summary>\n",
       "       <pre><{0}\n",
       "{1}\n",
       ">\n",
       "<{1}\n",
       "{2}\n",
       "></pre>\n",
       "   </details>\n",
       "\n",
       "   <details>\n",
       "       <summary style='display:list-item;'>MAXIMAL_CONES_LINEAR_SPAN_NORMALS</summary>\n",
       "       <pre>{}\n",
       "{}</pre>\n",
       "   </details>\n",
       "\n",
       "   <details>\n",
       "       <summary style='display:list-item;'>N_FACET_NORMALS</summary>\n",
       "       <pre>3</pre>\n",
       "   </details>\n",
       "\n",
       "   <details>\n",
       "       <summary style='display:list-item;'>N_MAXIMAL_CONES</summary>\n",
       "       <pre>2</pre>\n",
       "   </details>\n",
       "\n",
       "   <details>\n",
       "       <summary style='display:list-item;'>PURE</summary>\n",
       "       <pre>true</pre>\n",
       "   </details>\n",
       "\n",
       "   <details>\n",
       "       <summary style='display:list-item;'>RAYS</summary>\n",
       "       <pre>-1 1/2\n",
       "0 1\n",
       "1 1/2</pre>\n",
       "   </details>\n"
      ],
      "text/plain": [
       "type: PolyhedralFan<Rational>\n",
       "\n",
       "COMBINATORIAL_DIM\n",
       "\t1\n",
       "\n",
       "FACET_NORMALS\n",
       "\t1 2\n",
       "\t-1 0\n",
       "\t-1 2\n",
       "\n",
       "FAN_AMBIENT_DIM\n",
       "\t2\n",
       "\n",
       "FAN_DIM\n",
       "\t2\n",
       "\n",
       "FULL_DIM\n",
       "\ttrue\n",
       "\n",
       "HASSE_DIAGRAM\n",
       "\ttype: Lattice<BasicDecoration, Nonsequential> as PolyhedralFan<Rational>::HASSE_DIAGRAM\n",
       "\n",
       "INPUT_CONES\n",
       "\t{0 1}\n",
       "\t{1 2}\n",
       "\n",
       "INPUT_RAYS\n",
       "\t-2 1\n",
       "\t0 1\n",
       "\t2 1\n",
       "\n",
       "LINEALITY_DIM\n",
       "\t0\n",
       "\n",
       "LINEALITY_SPACE\n",
       "\t\n",
       "\n",
       "LINEAR_SPAN_NORMALS\n",
       "\t\n",
       "\n",
       "MAXIMAL_CONES\n",
       "\t{0 1}\n",
       "\t{1 2}\n",
       "\n",
       "MAXIMAL_CONES_COMBINATORIAL_DIMS\n",
       "\t1 1\n",
       "\n",
       "MAXIMAL_CONES_FACETS\n",
       "\t1 1 0\n",
       "\t0 -1 1\n",
       "\n",
       "MAXIMAL_CONES_INCIDENCES\n",
       "\t<{0}\n",
       "\t{1}\n",
       "\t>\n",
       "\t<{1}\n",
       "\t{2}\n",
       "\t>\n",
       "\n",
       "MAXIMAL_CONES_LINEAR_SPAN_NORMALS\n",
       "\t{}\n",
       "\t{}\n",
       "\n",
       "N_FACET_NORMALS\n",
       "\t3\n",
       "\n",
       "N_MAXIMAL_CONES\n",
       "\t2\n",
       "\n",
       "PURE\n",
       "\ttrue\n",
       "\n",
       "RAYS\n",
       "\t-1 1/2\n",
       "\t0 1\n",
       "\t1 1/2\n"
      ]
     },
     "execution_count": 11,
     "metadata": {},
     "output_type": "execute_result"
    }
   ],
   "source": [
    "pmFan = F.pm_fan"
   ]
  },
  {
   "cell_type": "code",
   "execution_count": 12,
   "metadata": {},
   "outputs": [
    {
     "data": {
      "text/html": [
       "<dl> <dt>type</dt><dd> Lattice<BasicDecoration, Nonsequential> as PolyhedralFan<Rational>::HASSE_DIAGRAM</dd> </dl>   <details>\n",
       "       <summary style='display:list-item;'>ADJACENCY</summary>\n",
       "       <pre>{}\n",
       "{0}\n",
       "{0}\n",
       "{1}\n",
       "{1 2}\n",
       "{2}\n",
       "{3 4 5}</pre>\n",
       "   </details>\n",
       "\n",
       "   <details>\n",
       "       <summary style='display:list-item;'>BOTTOM_NODE</summary>\n",
       "       <pre>6</pre>\n",
       "   </details>\n",
       "\n",
       "   <details>\n",
       "       <summary style='display:list-item;'>DECORATION</summary>\n",
       "       <pre>({-1} 3)\n",
       "({0 1} 2)\n",
       "({1 2} 2)\n",
       "({0} 1)\n",
       "({1} 1)\n",
       "({2} 1)\n",
       "({} 0)</pre>\n",
       "   </details>\n",
       "\n",
       "   <details>\n",
       "       <summary style='display:list-item;'>INVERSE_RANK_MAP</summary>\n",
       "       <pre>{(0 {6}) (1 {3 4 5}) (2 {1 2}) (3 {0})}</pre>\n",
       "   </details>\n",
       "\n",
       "   <details>\n",
       "       <summary style='display:list-item;'>TOP_NODE</summary>\n",
       "       <pre>0</pre>\n",
       "   </details>\n"
      ],
      "text/plain": [
       "type: Lattice<BasicDecoration, Nonsequential> as PolyhedralFan<Rational>::HASSE_DIAGRAM\n",
       "\n",
       "ADJACENCY\n",
       "\t{}\n",
       "\t{0}\n",
       "\t{0}\n",
       "\t{1}\n",
       "\t{1 2}\n",
       "\t{2}\n",
       "\t{3 4 5}\n",
       "\n",
       "BOTTOM_NODE\n",
       "\t6\n",
       "\n",
       "DECORATION\n",
       "\t({-1} 3)\n",
       "\t({0 1} 2)\n",
       "\t({1 2} 2)\n",
       "\t({0} 1)\n",
       "\t({1} 1)\n",
       "\t({2} 1)\n",
       "\t({} 0)\n",
       "\n",
       "INVERSE_RANK_MAP\n",
       "\t{(0 {6}) (1 {3 4 5}) (2 {1 2}) (3 {0})}\n",
       "\n",
       "TOP_NODE\n",
       "\t0\n"
      ]
     },
     "execution_count": 12,
     "metadata": {},
     "output_type": "execute_result"
    }
   ],
   "source": [
    "HD = pmFan.HASSE_DIAGRAM"
   ]
  },
  {
   "cell_type": "code",
   "execution_count": 13,
   "metadata": {},
   "outputs": [
    {
     "data": {
      "text/plain": [
       "false"
      ]
     },
     "execution_count": 13,
     "metadata": {},
     "output_type": "execute_result"
    }
   ],
   "source": [
    "pmFan.COMPLETE"
   ]
  },
  {
   "cell_type": "code",
   "execution_count": 14,
   "metadata": {},
   "outputs": [
    {
     "data": {
      "text/html": [
       "<dl> <dt>type</dt><dd> PolyhedralFan<Rational></dd> </dl>   <details>\n",
       "       <summary style='display:list-item;'>COMBINATORIAL_DIM</summary>\n",
       "       <pre>1</pre>\n",
       "   </details>\n",
       "\n",
       "   <details>\n",
       "       <summary style='display:list-item;'>COMPLETE</summary>\n",
       "       <pre>false</pre>\n",
       "   </details>\n",
       "\n",
       "   <details>\n",
       "       <summary style='display:list-item;'>DUAL_GRAPH</summary>\n",
       "       <pre>type: Graph<Undirected></pre>\n",
       "   </details>\n",
       "\n",
       "   <details>\n",
       "       <summary style='display:list-item;'>FACET_NORMALS</summary>\n",
       "       <pre>1 2\n",
       "-1 0\n",
       "-1 2</pre>\n",
       "   </details>\n",
       "\n",
       "   <details>\n",
       "       <summary style='display:list-item;'>FAN_AMBIENT_DIM</summary>\n",
       "       <pre>2</pre>\n",
       "   </details>\n",
       "\n",
       "   <details>\n",
       "       <summary style='display:list-item;'>FAN_DIM</summary>\n",
       "       <pre>2</pre>\n",
       "   </details>\n",
       "\n",
       "   <details>\n",
       "       <summary style='display:list-item;'>FULL_DIM</summary>\n",
       "       <pre>true</pre>\n",
       "   </details>\n",
       "\n",
       "   <details>\n",
       "       <summary style='display:list-item;'>HASSE_DIAGRAM</summary>\n",
       "       <pre>type: Lattice<BasicDecoration, Nonsequential> as PolyhedralFan<Rational>::HASSE_DIAGRAM</pre>\n",
       "   </details>\n",
       "\n",
       "   <details>\n",
       "       <summary style='display:list-item;'>INPUT_CONES</summary>\n",
       "       <pre>{0 1}\n",
       "{1 2}</pre>\n",
       "   </details>\n",
       "\n",
       "   <details>\n",
       "       <summary style='display:list-item;'>INPUT_RAYS</summary>\n",
       "       <pre>-2 1\n",
       "0 1\n",
       "2 1</pre>\n",
       "   </details>\n",
       "\n",
       "   <details>\n",
       "       <summary style='display:list-item;'>INTERSECTION_COMPLEX</summary>\n",
       "       <pre>type: SimplicialComplex</pre>\n",
       "   </details>\n",
       "\n",
       "   <details>\n",
       "       <summary style='display:list-item;'>LINEALITY_DIM</summary>\n",
       "       <pre>0</pre>\n",
       "   </details>\n",
       "\n",
       "   <details>\n",
       "       <summary style='display:list-item;'>LINEALITY_SPACE</summary>\n",
       "       <pre></pre>\n",
       "   </details>\n",
       "\n",
       "   <details>\n",
       "       <summary style='display:list-item;'>LINEAR_SPAN_NORMALS</summary>\n",
       "       <pre></pre>\n",
       "   </details>\n",
       "\n",
       "   <details>\n",
       "       <summary style='display:list-item;'>MAXIMAL_CONES</summary>\n",
       "       <pre>{0 1}\n",
       "{1 2}</pre>\n",
       "   </details>\n",
       "\n",
       "   <details>\n",
       "       <summary style='display:list-item;'>MAXIMAL_CONES_COMBINATORIAL_DIMS</summary>\n",
       "       <pre>1 1</pre>\n",
       "   </details>\n",
       "\n",
       "   <details>\n",
       "       <summary style='display:list-item;'>MAXIMAL_CONES_FACETS</summary>\n",
       "       <pre>1 1 0\n",
       "0 -1 1</pre>\n",
       "   </details>\n",
       "\n",
       "   <details>\n",
       "       <summary style='display:list-item;'>MAXIMAL_CONES_INCIDENCES</summary>\n",
       "       <pre><{0}\n",
       "{1}\n",
       ">\n",
       "<{1}\n",
       "{2}\n",
       "></pre>\n",
       "   </details>\n",
       "\n",
       "   <details>\n",
       "       <summary style='display:list-item;'>MAXIMAL_CONES_LINEAR_SPAN_NORMALS</summary>\n",
       "       <pre>{}\n",
       "{}</pre>\n",
       "   </details>\n",
       "\n",
       "   <details>\n",
       "       <summary style='display:list-item;'>N_FACET_NORMALS</summary>\n",
       "       <pre>3</pre>\n",
       "   </details>\n",
       "\n",
       "   <details>\n",
       "       <summary style='display:list-item;'>N_MAXIMAL_CONES</summary>\n",
       "       <pre>2</pre>\n",
       "   </details>\n",
       "\n",
       "   <details>\n",
       "       <summary style='display:list-item;'>PURE</summary>\n",
       "       <pre>true</pre>\n",
       "   </details>\n",
       "\n",
       "   <details>\n",
       "       <summary style='display:list-item;'>RAYS</summary>\n",
       "       <pre>-1 1/2\n",
       "0 1\n",
       "1 1/2</pre>\n",
       "   </details>\n",
       "\n",
       "   <details>\n",
       "       <summary style='display:list-item;'>SIMPLICIAL</summary>\n",
       "       <pre>true</pre>\n",
       "   </details>\n"
      ],
      "text/plain": [
       "type: PolyhedralFan<Rational>\n",
       "\n",
       "COMBINATORIAL_DIM\n",
       "\t1\n",
       "\n",
       "COMPLETE\n",
       "\tfalse\n",
       "\n",
       "DUAL_GRAPH\n",
       "\ttype: Graph<Undirected>\n",
       "\n",
       "FACET_NORMALS\n",
       "\t1 2\n",
       "\t-1 0\n",
       "\t-1 2\n",
       "\n",
       "FAN_AMBIENT_DIM\n",
       "\t2\n",
       "\n",
       "FAN_DIM\n",
       "\t2\n",
       "\n",
       "FULL_DIM\n",
       "\ttrue\n",
       "\n",
       "HASSE_DIAGRAM\n",
       "\ttype: Lattice<BasicDecoration, Nonsequential> as PolyhedralFan<Rational>::HASSE_DIAGRAM\n",
       "\n",
       "INPUT_CONES\n",
       "\t{0 1}\n",
       "\t{1 2}\n",
       "\n",
       "INPUT_RAYS\n",
       "\t-2 1\n",
       "\t0 1\n",
       "\t2 1\n",
       "\n",
       "INTERSECTION_COMPLEX\n",
       "\ttype: SimplicialComplex\n",
       "\n",
       "LINEALITY_DIM\n",
       "\t0\n",
       "\n",
       "LINEALITY_SPACE\n",
       "\t\n",
       "\n",
       "LINEAR_SPAN_NORMALS\n",
       "\t\n",
       "\n",
       "MAXIMAL_CONES\n",
       "\t{0 1}\n",
       "\t{1 2}\n",
       "\n",
       "MAXIMAL_CONES_COMBINATORIAL_DIMS\n",
       "\t1 1\n",
       "\n",
       "MAXIMAL_CONES_FACETS\n",
       "\t1 1 0\n",
       "\t0 -1 1\n",
       "\n",
       "MAXIMAL_CONES_INCIDENCES\n",
       "\t<{0}\n",
       "\t{1}\n",
       "\t>\n",
       "\t<{1}\n",
       "\t{2}\n",
       "\t>\n",
       "\n",
       "MAXIMAL_CONES_LINEAR_SPAN_NORMALS\n",
       "\t{}\n",
       "\t{}\n",
       "\n",
       "N_FACET_NORMALS\n",
       "\t3\n",
       "\n",
       "N_MAXIMAL_CONES\n",
       "\t2\n",
       "\n",
       "PURE\n",
       "\ttrue\n",
       "\n",
       "RAYS\n",
       "\t-1 1/2\n",
       "\t0 1\n",
       "\t1 1/2\n",
       "\n",
       "SIMPLICIAL\n",
       "\ttrue\n"
      ]
     },
     "execution_count": 14,
     "metadata": {},
     "output_type": "execute_result"
    }
   ],
   "source": [
    "pmFan"
   ]
  },
  {
   "cell_type": "code",
   "execution_count": 15,
   "metadata": {},
   "outputs": [
    {
     "data": {
      "text/plain": [
       "pm::graph::Graph<pm::graph::Directed>\n",
       "{}\n",
       "{0}\n",
       "{0}\n",
       "{1}\n",
       "{1 2}\n",
       "{2}\n",
       "{3 4 5}\n"
      ]
     },
     "execution_count": 15,
     "metadata": {},
     "output_type": "execute_result"
    }
   ],
   "source": [
    "adj = HD.ADJACENCY"
   ]
  },
  {
   "cell_type": "code",
   "execution_count": 16,
   "metadata": {},
   "outputs": [
    {
     "data": {
      "text/plain": [
       "PropertyValue wrapping pm::graph::NodeMap<pm::graph::Directed, polymake::graph::lattice::BasicDecoration>\n",
       "({-1} 3)\n",
       "({0 1} 2)\n",
       "({1 2} 2)\n",
       "({0} 1)\n",
       "({1} 1)\n",
       "({2} 1)\n",
       "({} 0)\n"
      ]
     },
     "execution_count": 16,
     "metadata": {},
     "output_type": "execute_result"
    }
   ],
   "source": [
    "HD.DECORATION"
   ]
  },
  {
   "cell_type": "code",
   "execution_count": 18,
   "metadata": {},
   "outputs": [
    {
     "data": {
      "text/plain": [
       "PropertyValue wrapping std::__cxx11::list<long, std::allocator<long> >\n",
       "{3 4 5}"
      ]
     },
     "execution_count": 18,
     "metadata": {},
     "output_type": "execute_result"
    }
   ],
   "source": [
    "Polymake.graph.nodes_of_rank(HD, 1)"
   ]
  },
  {
   "cell_type": "code",
   "execution_count": 19,
   "metadata": {},
   "outputs": [
    {
     "data": {
      "text/plain": [
       "2-element SubObjectIterator{Cone{fmpq}}:\n",
       " A polyhedral cone in ambient dimension 2\n",
       " A polyhedral cone in ambient dimension 2"
      ]
     },
     "execution_count": 19,
     "metadata": {},
     "output_type": "execute_result"
    }
   ],
   "source": [
    "maxCones"
   ]
  },
  {
   "cell_type": "code",
   "execution_count": 21,
   "metadata": {},
   "outputs": [
    {
     "data": {
      "text/plain": [
       "A polyhedral cone in ambient dimension 2"
      ]
     },
     "execution_count": 21,
     "metadata": {},
     "output_type": "execute_result"
    }
   ],
   "source": [
    "c1 = maxCones[1]\n",
    "c2 = maxCones[2]"
   ]
  },
  {
   "cell_type": "code",
   "execution_count": 44,
   "metadata": {},
   "outputs": [
    {
     "data": {
      "text/plain": [
       "A polyhedral cone in ambient dimension 2"
      ]
     },
     "execution_count": 44,
     "metadata": {},
     "output_type": "execute_result"
    }
   ],
   "source": [
    "i = intersect(c1, c2)"
   ]
  },
  {
   "cell_type": "code",
   "execution_count": 24,
   "metadata": {},
   "outputs": [
    {
     "data": {
      "text/plain": [
       "true"
      ]
     },
     "execution_count": 24,
     "metadata": {},
     "output_type": "execute_result"
    }
   ],
   "source": [
    "dim(i) == dim(c1)-1"
   ]
  },
  {
   "cell_type": "code",
   "execution_count": 25,
   "metadata": {},
   "outputs": [
    {
     "data": {
      "text/plain": [
       "A polyhedral cone in ambient dimension 2"
      ]
     },
     "execution_count": 25,
     "metadata": {},
     "output_type": "execute_result"
    }
   ],
   "source": [
    "i"
   ]
  },
  {
   "cell_type": "code",
   "execution_count": 45,
   "metadata": {},
   "outputs": [
    {
     "data": {
      "text/plain": [
       "A polyhedral cone in ambient dimension 2"
      ]
     },
     "execution_count": 45,
     "metadata": {},
     "output_type": "execute_result"
    }
   ],
   "source": [
    "pdi = polarize(i)"
   ]
  },
  {
   "cell_type": "code",
   "execution_count": 27,
   "metadata": {},
   "outputs": [
    {
     "data": {
      "text/plain": [
       "A polyhedral cone in ambient dimension 2"
      ]
     },
     "execution_count": 27,
     "metadata": {},
     "output_type": "execute_result"
    }
   ],
   "source": [
    "i"
   ]
  },
  {
   "cell_type": "code",
   "execution_count": 28,
   "metadata": {},
   "outputs": [
    {
     "data": {
      "text/plain": [
       "1-element SubObjectIterator{RayVector{fmpq}}:\n",
       " [0, 1]"
      ]
     },
     "execution_count": 28,
     "metadata": {},
     "output_type": "execute_result"
    }
   ],
   "source": [
    "rays(i)"
   ]
  },
  {
   "cell_type": "code",
   "execution_count": 29,
   "metadata": {},
   "outputs": [
    {
     "ename": "LoadError",
     "evalue": "initial check failed: \ninvalid input: zero vector is not a valid entry for INPUT_RAYS at /home/lars/.julia/artifacts/e8b92adf0c63efefd4d6e7f697525c23844133fa/share/polymake/apps/polytope/rules/initial.rules line 63.\n\tPolymake::polytope::Cone::__prod__aab475(Polymake::polytope::Cone__Rational=ARRAY(0x1b6d6b28)) called at /home/lars/.julia/artifacts/e8b92adf0c63efefd4d6e7f697525c23844133fa/share/polymake/perllib/Polymake/Core/Rule.pm line 852\n\teval {...} called at /home/lars/.julia/artifacts/e8b92adf0c63efefd4d6e7f697525c23844133fa/share/polymake/perllib/Polymake/Core/Rule.pm line 844\n\tPolymake::Core::Rule::execute_me called at /home/lars/.julia/artifacts/e8b92adf0c63efefd4d6e7f697525c23844133fa/share/polymake/perllib/Polymake/Core/Rule.pm line 837\n\tPolymake::Core::Rule::execute(Polymake::Core::Rule=ARRAY(0x15f939f0), Polymake::polytope::Cone__Rational=ARRAY(0x1b6d6b28), 1) called at /home/lars/.julia/artifacts/e8b92adf0c63efefd4d6e7f697525c23844133fa/share/polymake/perllib/Polymake/Core/Scheduler.pm line 225\n\tPolymake::Core::Scheduler::RuleDeputy::execute(Polymake::Core::Scheduler::RuleDeputy=ARRAY(0x1b81af08), Polymake::polytope::Cone__Rational=ARRAY(0x1b6d6b28), 1) called at /home/lars/.julia/artifacts/e8b92adf0c63efefd4d6e7f697525c23844133fa/share/polymake/perllib/Polymake/Core/Scheduler.pm line 593\n\tPolymake::Core::Scheduler::TentativeRuleChain::execute(Polymake::Core::Scheduler::TentativeRuleChain=ARRAY(0x1a8275e0), Polymake::polytope::Cone__Rational=ARRAY(0x1b6d6b28)) called at /home/lars/.julia/artifacts/e8b92adf0c63efefd4d6e7f697525c23844133fa/share/polymake/perllib/Polymake/Core/Scheduler.pm line 1536\n\tPolymake::Core::Scheduler::InitRuleChain::resolve(Polymake::Core::Scheduler::InitRuleChain=ARRAY(0x1a90c2c8)) called at /home/lars/.julia/artifacts/e8b92adf0c63efefd4d6e7f697525c23844133fa/share/polymake/perllib/Polymake/Core/Scheduler.pm line 1638\n\tPolymake::Core::Scheduler::resolve_initial_request(Polymake::polytope::Cone__Rational=ARRAY(0x1b6d6b28), ARRAY(0x19f21448)) called at /home/lars/.julia/artifacts/e8b92adf0c63efefd4d6e7f697525c23844133fa/share/polymake/perllib/Polymake/Core/BigObject.pm line 278\n\tPolymake::Core::InitTransaction::commit(Polymake::Core::RuleTransaction=ARRAY(0x1840fa58), Polymake::polytope::Cone__Rational=ARRAY(0x1b6d6b28)) called at /home/lars/.julia/artifacts/e8b92adf0c63efefd4d6e7f697525c23844133fa/share/polymake/perllib/Polymake/Core/BigObject.pm line 1391\n\tPolymake::Core::BigObject::commit(Polymake::polytope::Cone__Rational=ARRAY(0x1b6d6b28)) called at /home/lars/.julia/artifacts/e8b92adf0c63efefd4d6e7f697525c23844133fa/share/polymake/perllib/Polymake/Core/CPlusPlus.pm line 992\n\teval {...} called at /home/lars/.julia/artifacts/e8b92adf0c63efefd4d6e7f697525c23844133fa/share/polymake/perllib/Polymake/Core/CPlusPlus.pm line 992\n\tPolymake::Core::CPlusPlus::perApplication::__ANON__ called at /home/lars/.julia/artifacts/e8b92adf0c63efefd4d6e7f697525c23844133fa/share/polymake/perllib/Polymake/Overload.pm line 789\n\tPolymake::polytope::polarize(Polymake::polytope::Cone__Rational=ARRAY(0x182157d0), HASH(0x1bc22be8)) called at -e line 0\n\teval {...} called at -e line 0\n\n",
     "output_type": "error",
     "traceback": [
      "initial check failed: \ninvalid input: zero vector is not a valid entry for INPUT_RAYS at /home/lars/.julia/artifacts/e8b92adf0c63efefd4d6e7f697525c23844133fa/share/polymake/apps/polytope/rules/initial.rules line 63.\n\tPolymake::polytope::Cone::__prod__aab475(Polymake::polytope::Cone__Rational=ARRAY(0x1b6d6b28)) called at /home/lars/.julia/artifacts/e8b92adf0c63efefd4d6e7f697525c23844133fa/share/polymake/perllib/Polymake/Core/Rule.pm line 852\n\teval {...} called at /home/lars/.julia/artifacts/e8b92adf0c63efefd4d6e7f697525c23844133fa/share/polymake/perllib/Polymake/Core/Rule.pm line 844\n\tPolymake::Core::Rule::execute_me called at /home/lars/.julia/artifacts/e8b92adf0c63efefd4d6e7f697525c23844133fa/share/polymake/perllib/Polymake/Core/Rule.pm line 837\n\tPolymake::Core::Rule::execute(Polymake::Core::Rule=ARRAY(0x15f939f0), Polymake::polytope::Cone__Rational=ARRAY(0x1b6d6b28), 1) called at /home/lars/.julia/artifacts/e8b92adf0c63efefd4d6e7f697525c23844133fa/share/polymake/perllib/Polymake/Core/Scheduler.pm line 225\n\tPolymake::Core::Scheduler::RuleDeputy::execute(Polymake::Core::Scheduler::RuleDeputy=ARRAY(0x1b81af08), Polymake::polytope::Cone__Rational=ARRAY(0x1b6d6b28), 1) called at /home/lars/.julia/artifacts/e8b92adf0c63efefd4d6e7f697525c23844133fa/share/polymake/perllib/Polymake/Core/Scheduler.pm line 593\n\tPolymake::Core::Scheduler::TentativeRuleChain::execute(Polymake::Core::Scheduler::TentativeRuleChain=ARRAY(0x1a8275e0), Polymake::polytope::Cone__Rational=ARRAY(0x1b6d6b28)) called at /home/lars/.julia/artifacts/e8b92adf0c63efefd4d6e7f697525c23844133fa/share/polymake/perllib/Polymake/Core/Scheduler.pm line 1536\n\tPolymake::Core::Scheduler::InitRuleChain::resolve(Polymake::Core::Scheduler::InitRuleChain=ARRAY(0x1a90c2c8)) called at /home/lars/.julia/artifacts/e8b92adf0c63efefd4d6e7f697525c23844133fa/share/polymake/perllib/Polymake/Core/Scheduler.pm line 1638\n\tPolymake::Core::Scheduler::resolve_initial_request(Polymake::polytope::Cone__Rational=ARRAY(0x1b6d6b28), ARRAY(0x19f21448)) called at /home/lars/.julia/artifacts/e8b92adf0c63efefd4d6e7f697525c23844133fa/share/polymake/perllib/Polymake/Core/BigObject.pm line 278\n\tPolymake::Core::InitTransaction::commit(Polymake::Core::RuleTransaction=ARRAY(0x1840fa58), Polymake::polytope::Cone__Rational=ARRAY(0x1b6d6b28)) called at /home/lars/.julia/artifacts/e8b92adf0c63efefd4d6e7f697525c23844133fa/share/polymake/perllib/Polymake/Core/BigObject.pm line 1391\n\tPolymake::Core::BigObject::commit(Polymake::polytope::Cone__Rational=ARRAY(0x1b6d6b28)) called at /home/lars/.julia/artifacts/e8b92adf0c63efefd4d6e7f697525c23844133fa/share/polymake/perllib/Polymake/Core/CPlusPlus.pm line 992\n\teval {...} called at /home/lars/.julia/artifacts/e8b92adf0c63efefd4d6e7f697525c23844133fa/share/polymake/perllib/Polymake/Core/CPlusPlus.pm line 992\n\tPolymake::Core::CPlusPlus::perApplication::__ANON__ called at /home/lars/.julia/artifacts/e8b92adf0c63efefd4d6e7f697525c23844133fa/share/polymake/perllib/Polymake/Overload.pm line 789\n\tPolymake::polytope::polarize(Polymake::polytope::Cone__Rational=ARRAY(0x182157d0), HASH(0x1bc22be8)) called at -e line 0\n\teval {...} called at -e line 0\n\n",
      "",
      "Stacktrace:",
      "  [1] internal_call_function(arg1::String, arg2::CxxWrap.StdLib.StdVectorAllocated{CxxWrap.StdLib.StdString}, arg3::Vector{Any})",
      "    @ Polymake ~/.julia/packages/CxxWrap/ptbgM/src/CxxWrap.jl:619",
      "  [2] #24",
      "    @ ~/.julia/packages/Polymake/TzeCW/src/call_function.jl:20 [inlined]",
      "  [3] disable_sigint",
      "    @ ./c.jl:473 [inlined]",
      "  [4] call_function(::Type{Polymake.PropertyValue}, app::Symbol, func::Symbol, args::Polymake.BigObjectAllocated; template_parameters::Vector{String}, kwargs::Base.Pairs{Symbol, Union{}, Tuple{}, NamedTuple{(), Tuple{}}})",
      "    @ Polymake ~/.julia/packages/Polymake/TzeCW/src/call_function.jl:19",
      "  [5] #call_function#26",
      "    @ ~/.julia/packages/Polymake/TzeCW/src/call_function.jl:27 [inlined]",
      "  [6] polarize",
      "    @ ~/.julia/packages/Polymake/TzeCW/src/meta.jl:292 [inlined]",
      "  [7] Polymake.polytope.polarize(args::Polymake.BigObjectAllocated)",
      "    @ Polymake.polytope ~/.julia/packages/Polymake/TzeCW/src/meta.jl:289",
      "  [8] polarize(C::Cone{fmpq})",
      "    @ Oscar ~/repos/Oscar.jl/src/PolyhedralGeometry/Cone/standard_constructions.jl:55",
      "  [9] top-level scope",
      "    @ In[29]:1",
      " [10] eval",
      "    @ ./boot.jl:368 [inlined]",
      " [11] include_string(mapexpr::typeof(REPL.softscope), mod::Module, code::String, filename::String)",
      "    @ Base ./loading.jl:1428"
     ]
    }
   ],
   "source": [
    "polarize(i)"
   ]
  },
  {
   "cell_type": "code",
   "execution_count": 30,
   "metadata": {},
   "outputs": [
    {
     "ename": "LoadError",
     "evalue": "initial check failed: \ninvalid input: zero vector is not a valid entry for INPUT_RAYS at /home/lars/.julia/artifacts/e8b92adf0c63efefd4d6e7f697525c23844133fa/share/polymake/apps/polytope/rules/initial.rules line 63.\n\tPolymake::polytope::Cone::__prod__aab475(Polymake::polytope::Cone__Rational=ARRAY(0x1b6d6c00)) called at /home/lars/.julia/artifacts/e8b92adf0c63efefd4d6e7f697525c23844133fa/share/polymake/perllib/Polymake/Core/Rule.pm line 852\n\teval {...} called at /home/lars/.julia/artifacts/e8b92adf0c63efefd4d6e7f697525c23844133fa/share/polymake/perllib/Polymake/Core/Rule.pm line 844\n\tPolymake::Core::Rule::execute_me called at /home/lars/.julia/artifacts/e8b92adf0c63efefd4d6e7f697525c23844133fa/share/polymake/perllib/Polymake/Core/Rule.pm line 837\n\tPolymake::Core::Rule::execute(Polymake::Core::Rule=ARRAY(0x15f939f0), Polymake::polytope::Cone__Rational=ARRAY(0x1b6d6c00), 1) called at /home/lars/.julia/artifacts/e8b92adf0c63efefd4d6e7f697525c23844133fa/share/polymake/perllib/Polymake/Core/Scheduler.pm line 225\n\tPolymake::Core::Scheduler::RuleDeputy::execute(Polymake::Core::Scheduler::RuleDeputy=ARRAY(0x18266bd8), Polymake::polytope::Cone__Rational=ARRAY(0x1b6d6c00), 1) called at /home/lars/.julia/artifacts/e8b92adf0c63efefd4d6e7f697525c23844133fa/share/polymake/perllib/Polymake/Core/Scheduler.pm line 593\n\tPolymake::Core::Scheduler::TentativeRuleChain::execute(Polymake::Core::Scheduler::TentativeRuleChain=ARRAY(0x1ab7ec40), Polymake::polytope::Cone__Rational=ARRAY(0x1b6d6c00)) called at /home/lars/.julia/artifacts/e8b92adf0c63efefd4d6e7f697525c23844133fa/share/polymake/perllib/Polymake/Core/Scheduler.pm line 1536\n\tPolymake::Core::Scheduler::InitRuleChain::resolve(Polymake::Core::Scheduler::InitRuleChain=ARRAY(0x182b0d30)) called at /home/lars/.julia/artifacts/e8b92adf0c63efefd4d6e7f697525c23844133fa/share/polymake/perllib/Polymake/Core/Scheduler.pm line 1638\n\tPolymake::Core::Scheduler::resolve_initial_request(Polymake::polytope::Cone__Rational=ARRAY(0x1b6d6c00), ARRAY(0x17e7f440)) called at /home/lars/.julia/artifacts/e8b92adf0c63efefd4d6e7f697525c23844133fa/share/polymake/perllib/Polymake/Core/BigObject.pm line 278\n\tPolymake::Core::InitTransaction::commit(Polymake::Core::RuleTransaction=ARRAY(0x1b81b550), Polymake::polytope::Cone__Rational=ARRAY(0x1b6d6c00)) called at /home/lars/.julia/artifacts/e8b92adf0c63efefd4d6e7f697525c23844133fa/share/polymake/perllib/Polymake/Core/BigObject.pm line 1391\n\tPolymake::Core::BigObject::commit(Polymake::polytope::Cone__Rational=ARRAY(0x1b6d6c00)) called at /home/lars/.julia/artifacts/e8b92adf0c63efefd4d6e7f697525c23844133fa/share/polymake/perllib/Polymake/Core/CPlusPlus.pm line 992\n\teval {...} called at /home/lars/.julia/artifacts/e8b92adf0c63efefd4d6e7f697525c23844133fa/share/polymake/perllib/Polymake/Core/CPlusPlus.pm line 992\n\tPolymake::Core::CPlusPlus::perApplication::__ANON__ called at /home/lars/.julia/artifacts/e8b92adf0c63efefd4d6e7f697525c23844133fa/share/polymake/perllib/Polymake/Overload.pm line 789\n\tPolymake::polytope::polarize(Polymake::polytope::Cone__Rational=ARRAY(0x182157d0), HASH(0x1a90c568)) called at -e line 0\n\teval {...} called at -e line 0\n\n",
     "output_type": "error",
     "traceback": [
      "initial check failed: \ninvalid input: zero vector is not a valid entry for INPUT_RAYS at /home/lars/.julia/artifacts/e8b92adf0c63efefd4d6e7f697525c23844133fa/share/polymake/apps/polytope/rules/initial.rules line 63.\n\tPolymake::polytope::Cone::__prod__aab475(Polymake::polytope::Cone__Rational=ARRAY(0x1b6d6c00)) called at /home/lars/.julia/artifacts/e8b92adf0c63efefd4d6e7f697525c23844133fa/share/polymake/perllib/Polymake/Core/Rule.pm line 852\n\teval {...} called at /home/lars/.julia/artifacts/e8b92adf0c63efefd4d6e7f697525c23844133fa/share/polymake/perllib/Polymake/Core/Rule.pm line 844\n\tPolymake::Core::Rule::execute_me called at /home/lars/.julia/artifacts/e8b92adf0c63efefd4d6e7f697525c23844133fa/share/polymake/perllib/Polymake/Core/Rule.pm line 837\n\tPolymake::Core::Rule::execute(Polymake::Core::Rule=ARRAY(0x15f939f0), Polymake::polytope::Cone__Rational=ARRAY(0x1b6d6c00), 1) called at /home/lars/.julia/artifacts/e8b92adf0c63efefd4d6e7f697525c23844133fa/share/polymake/perllib/Polymake/Core/Scheduler.pm line 225\n\tPolymake::Core::Scheduler::RuleDeputy::execute(Polymake::Core::Scheduler::RuleDeputy=ARRAY(0x18266bd8), Polymake::polytope::Cone__Rational=ARRAY(0x1b6d6c00), 1) called at /home/lars/.julia/artifacts/e8b92adf0c63efefd4d6e7f697525c23844133fa/share/polymake/perllib/Polymake/Core/Scheduler.pm line 593\n\tPolymake::Core::Scheduler::TentativeRuleChain::execute(Polymake::Core::Scheduler::TentativeRuleChain=ARRAY(0x1ab7ec40), Polymake::polytope::Cone__Rational=ARRAY(0x1b6d6c00)) called at /home/lars/.julia/artifacts/e8b92adf0c63efefd4d6e7f697525c23844133fa/share/polymake/perllib/Polymake/Core/Scheduler.pm line 1536\n\tPolymake::Core::Scheduler::InitRuleChain::resolve(Polymake::Core::Scheduler::InitRuleChain=ARRAY(0x182b0d30)) called at /home/lars/.julia/artifacts/e8b92adf0c63efefd4d6e7f697525c23844133fa/share/polymake/perllib/Polymake/Core/Scheduler.pm line 1638\n\tPolymake::Core::Scheduler::resolve_initial_request(Polymake::polytope::Cone__Rational=ARRAY(0x1b6d6c00), ARRAY(0x17e7f440)) called at /home/lars/.julia/artifacts/e8b92adf0c63efefd4d6e7f697525c23844133fa/share/polymake/perllib/Polymake/Core/BigObject.pm line 278\n\tPolymake::Core::InitTransaction::commit(Polymake::Core::RuleTransaction=ARRAY(0x1b81b550), Polymake::polytope::Cone__Rational=ARRAY(0x1b6d6c00)) called at /home/lars/.julia/artifacts/e8b92adf0c63efefd4d6e7f697525c23844133fa/share/polymake/perllib/Polymake/Core/BigObject.pm line 1391\n\tPolymake::Core::BigObject::commit(Polymake::polytope::Cone__Rational=ARRAY(0x1b6d6c00)) called at /home/lars/.julia/artifacts/e8b92adf0c63efefd4d6e7f697525c23844133fa/share/polymake/perllib/Polymake/Core/CPlusPlus.pm line 992\n\teval {...} called at /home/lars/.julia/artifacts/e8b92adf0c63efefd4d6e7f697525c23844133fa/share/polymake/perllib/Polymake/Core/CPlusPlus.pm line 992\n\tPolymake::Core::CPlusPlus::perApplication::__ANON__ called at /home/lars/.julia/artifacts/e8b92adf0c63efefd4d6e7f697525c23844133fa/share/polymake/perllib/Polymake/Overload.pm line 789\n\tPolymake::polytope::polarize(Polymake::polytope::Cone__Rational=ARRAY(0x182157d0), HASH(0x1a90c568)) called at -e line 0\n\teval {...} called at -e line 0\n\n",
      "",
      "Stacktrace:",
      "  [1] internal_call_function(arg1::String, arg2::CxxWrap.StdLib.StdVectorAllocated{CxxWrap.StdLib.StdString}, arg3::Vector{Any})",
      "    @ Polymake ~/.julia/packages/CxxWrap/ptbgM/src/CxxWrap.jl:619",
      "  [2] #24",
      "    @ ~/.julia/packages/Polymake/TzeCW/src/call_function.jl:20 [inlined]",
      "  [3] disable_sigint",
      "    @ ./c.jl:473 [inlined]",
      "  [4] call_function(::Type{Polymake.PropertyValue}, app::Symbol, func::Symbol, args::Polymake.BigObjectAllocated; template_parameters::Vector{String}, kwargs::Base.Pairs{Symbol, Union{}, Tuple{}, NamedTuple{(), Tuple{}}})",
      "    @ Polymake ~/.julia/packages/Polymake/TzeCW/src/call_function.jl:19",
      "  [5] #call_function#26",
      "    @ ~/.julia/packages/Polymake/TzeCW/src/call_function.jl:27 [inlined]",
      "  [6] polarize",
      "    @ ~/.julia/packages/Polymake/TzeCW/src/meta.jl:292 [inlined]",
      "  [7] Polymake.polytope.polarize(args::Polymake.BigObjectAllocated)",
      "    @ Polymake.polytope ~/.julia/packages/Polymake/TzeCW/src/meta.jl:289",
      "  [8] top-level scope",
      "    @ In[30]:1",
      "  [9] eval",
      "    @ ./boot.jl:368 [inlined]",
      " [10] include_string(mapexpr::typeof(REPL.softscope), mod::Module, code::String, filename::String)",
      "    @ Base ./loading.jl:1428"
     ]
    }
   ],
   "source": [
    "Polymake.polytope.polarize(i.pm_cone)"
   ]
  },
  {
   "cell_type": "code",
   "execution_count": 31,
   "metadata": {},
   "outputs": [
    {
     "data": {
      "text/html": [
       "<dl> <dt>type</dt><dd> Cone<Rational></dd>\n",
       "<dt>description</dt><dd> Intersection of cones</dd> </dl>   <details>\n",
       "       <summary style='display:list-item;'>COMBINATORIAL_DIM</summary>\n",
       "       <pre>0</pre>\n",
       "   </details>\n",
       "\n",
       "   <details>\n",
       "       <summary style='display:list-item;'>CONE_AMBIENT_DIM</summary>\n",
       "       <pre>2</pre>\n",
       "   </details>\n",
       "\n",
       "   <details>\n",
       "       <summary style='display:list-item;'>CONE_DIM</summary>\n",
       "       <pre>1</pre>\n",
       "   </details>\n",
       "\n",
       "   <details>\n",
       "       <summary style='display:list-item;'>EQUATIONS</summary>\n",
       "       <pre></pre>\n",
       "   </details>\n",
       "\n",
       "   <details>\n",
       "       <summary style='display:list-item;'>FULL_DIM</summary>\n",
       "       <pre>false</pre>\n",
       "   </details>\n",
       "\n",
       "   <details>\n",
       "       <summary style='display:list-item;'>INEQUALITIES</summary>\n",
       "       <pre>1 2\n",
       "-1 0\n",
       "1 0\n",
       "-1 2</pre>\n",
       "   </details>\n",
       "\n",
       "   <details>\n",
       "       <summary style='display:list-item;'>LINEALITY_DIM</summary>\n",
       "       <pre>0</pre>\n",
       "   </details>\n",
       "\n",
       "   <details>\n",
       "       <summary style='display:list-item;'>LINEALITY_SPACE</summary>\n",
       "       <pre></pre>\n",
       "   </details>\n",
       "\n",
       "   <details>\n",
       "       <summary style='display:list-item;'>LINEAR_SPAN</summary>\n",
       "       <pre>-1 0</pre>\n",
       "   </details>\n",
       "\n",
       "   <details>\n",
       "       <summary style='display:list-item;'>POINTED</summary>\n",
       "       <pre>true</pre>\n",
       "   </details>\n",
       "\n",
       "   <details>\n",
       "       <summary style='display:list-item;'>RAYS</summary>\n",
       "       <pre>0 1</pre>\n",
       "   </details>\n"
      ],
      "text/plain": [
       "type: Cone<Rational>\n",
       "description: Intersection of cones\n",
       "\n",
       "COMBINATORIAL_DIM\n",
       "\t0\n",
       "\n",
       "CONE_AMBIENT_DIM\n",
       "\t2\n",
       "\n",
       "CONE_DIM\n",
       "\t1\n",
       "\n",
       "EQUATIONS\n",
       "\t\n",
       "\n",
       "FULL_DIM\n",
       "\tfalse\n",
       "\n",
       "INEQUALITIES\n",
       "   1  2\n",
       "  -1  0\n",
       "   1  0\n",
       "  -1  2\n",
       "\n",
       "LINEALITY_DIM\n",
       "\t0\n",
       "\n",
       "LINEALITY_SPACE\n",
       "\t\n",
       "\n",
       "LINEAR_SPAN\n",
       "\t-1 0\n",
       "\n",
       "POINTED\n",
       "\ttrue\n",
       "\n",
       "RAYS\n",
       "\t0 1\n"
      ]
     },
     "execution_count": 31,
     "metadata": {},
     "output_type": "execute_result"
    }
   ],
   "source": [
    "i.pm_cone"
   ]
  },
  {
   "cell_type": "code",
   "execution_count": 32,
   "metadata": {},
   "outputs": [
    {
     "data": {
      "text/plain": [
       "true"
      ]
     },
     "execution_count": 32,
     "metadata": {},
     "output_type": "execute_result"
    }
   ],
   "source": [
    "contains(i, [0,0])"
   ]
  },
  {
   "cell_type": "code",
   "execution_count": 38,
   "metadata": {},
   "outputs": [
    {
     "data": {
      "text/plain": [
       "pm::Matrix<pm::Integer>\n",
       "0 1\n"
      ]
     },
     "execution_count": 38,
     "metadata": {},
     "output_type": "execute_result"
    }
   ],
   "source": [
    "M = i.pm_cone.HILBERT_BASIS_GENERATORS[1]"
   ]
  },
  {
   "cell_type": "code",
   "execution_count": 39,
   "metadata": {},
   "outputs": [
    {
     "data": {
      "text/plain": [
       "pm::Vector<pm::Integer>\n",
       "0 1"
      ]
     },
     "execution_count": 39,
     "metadata": {},
     "output_type": "execute_result"
    }
   ],
   "source": [
    "M[1,:]"
   ]
  },
  {
   "cell_type": "code",
   "execution_count": 40,
   "metadata": {},
   "outputs": [
    {
     "data": {
      "text/plain": [
       "true"
      ]
     },
     "execution_count": 40,
     "metadata": {},
     "output_type": "execute_result"
    }
   ],
   "source": [
    "contains(i, M[1,:])"
   ]
  },
  {
   "cell_type": "code",
   "execution_count": 41,
   "metadata": {},
   "outputs": [
    {
     "name": "stdout",
     "output_type": "stream",
     "text": [
      "search: \u001b[0m\u001b[1ms\u001b[22m\u001b[0m\u001b[1mo\u001b[22m\u001b[0m\u001b[1ml\u001b[22m\u001b[0m\u001b[1mv\u001b[22m\u001b[0m\u001b[1me\u001b[22m\u001b[0m\u001b[1m_\u001b[22m\u001b[0m\u001b[1mm\u001b[22m\u001b[0m\u001b[1mi\u001b[22m\u001b[0m\u001b[1mx\u001b[22m\u001b[0m\u001b[1me\u001b[22m\u001b[0m\u001b[1md\u001b[22m\n",
      "\n"
     ]
    },
    {
     "data": {
      "text/latex": [
       "\\begin{verbatim}\n",
       "solve_mixed(A::fmpz_mat, b::fmpz_mat, C::fmpz_mat, d::fmpz_mat)\n",
       "\\end{verbatim}\n",
       "Solve $Ax = b$ under $Cx >= d$, assumes a finite solution set.\n",
       "\n",
       "\\section{Examples}\n",
       "Find all $(x_1, x_2)\\in\\mathbb{Z}^2$ such that $x_1+x_2=7$, $x_1\\ge 2$, and $x_2\\ge 3$. The solutions are the rows of the output. Note that the output can be permuted, hence we sort it.\n",
       "\n",
       "\\begin{verbatim}\n",
       "julia> A = fmpz_mat([1 1]);\n",
       "\n",
       "julia> b = zero_matrix(FlintZZ, 1,1); b[1,1]=7;\n",
       "\n",
       "julia> C = fmpz_mat([1 0; 0 1]);\n",
       "\n",
       "julia> d = zero_matrix(FlintZZ,2,1); d[1,1]=2; d[2,1]=3;\n",
       "\n",
       "julia> sortslices(Matrix{BigInt}(solve_mixed(A, b, C, d)), dims=1)\n",
       "3×2 Matrix{BigInt}:\n",
       " 2  5\n",
       " 3  4\n",
       " 4  3\n",
       "\\end{verbatim}\n",
       "\\rule{\\textwidth}{1pt}\n",
       "\\begin{verbatim}\n",
       "solve_mixed(A::fmpz_mat, b::fmpz_mat, C::fmpz_mat)\n",
       "\\end{verbatim}\n",
       "Solve $Ax = b$ under $Cx >= 0$, assumes a finite solution set.\n",
       "\n",
       "\\section{Examples}\n",
       "Find all $(x_1, x_2)\\in\\mathbb{Z}^2_{\\ge 0}$ such that $x_1+x_2=3$. The solutions are the rows of the output. Note that the output can be permuted, hence we sort it.\n",
       "\n",
       "\\begin{verbatim}\n",
       "julia> A = fmpz_mat([1 1]);\n",
       "\n",
       "julia> b = zero_matrix(FlintZZ, 1,1); b[1,1]=3;\n",
       "\n",
       "julia> C = fmpz_mat([1 0; 0 1]);\n",
       "\n",
       "julia> sortslices(Matrix{BigInt}(solve_mixed(A, b, C)), dims=1)\n",
       "4×2 Matrix{BigInt}:\n",
       " 0  3\n",
       " 1  2\n",
       " 2  1\n",
       " 3  0\n",
       "\\end{verbatim}\n"
      ],
      "text/markdown": [
       "```\n",
       "solve_mixed(A::fmpz_mat, b::fmpz_mat, C::fmpz_mat, d::fmpz_mat)\n",
       "```\n",
       "\n",
       "Solve $Ax = b$ under $Cx >= d$, assumes a finite solution set.\n",
       "\n",
       "# Examples\n",
       "\n",
       "Find all $(x_1, x_2)\\in\\mathbb{Z}^2$ such that $x_1+x_2=7$, $x_1\\ge 2$, and $x_2\\ge 3$. The solutions are the rows of the output. Note that the output can be permuted, hence we sort it.\n",
       "\n",
       "```jldoctest\n",
       "julia> A = fmpz_mat([1 1]);\n",
       "\n",
       "julia> b = zero_matrix(FlintZZ, 1,1); b[1,1]=7;\n",
       "\n",
       "julia> C = fmpz_mat([1 0; 0 1]);\n",
       "\n",
       "julia> d = zero_matrix(FlintZZ,2,1); d[1,1]=2; d[2,1]=3;\n",
       "\n",
       "julia> sortslices(Matrix{BigInt}(solve_mixed(A, b, C, d)), dims=1)\n",
       "3×2 Matrix{BigInt}:\n",
       " 2  5\n",
       " 3  4\n",
       " 4  3\n",
       "```\n",
       "\n",
       "---\n",
       "\n",
       "```\n",
       "solve_mixed(A::fmpz_mat, b::fmpz_mat, C::fmpz_mat)\n",
       "```\n",
       "\n",
       "Solve $Ax = b$ under $Cx >= 0$, assumes a finite solution set.\n",
       "\n",
       "# Examples\n",
       "\n",
       "Find all $(x_1, x_2)\\in\\mathbb{Z}^2_{\\ge 0}$ such that $x_1+x_2=3$. The solutions are the rows of the output. Note that the output can be permuted, hence we sort it.\n",
       "\n",
       "```jldoctest\n",
       "julia> A = fmpz_mat([1 1]);\n",
       "\n",
       "julia> b = zero_matrix(FlintZZ, 1,1); b[1,1]=3;\n",
       "\n",
       "julia> C = fmpz_mat([1 0; 0 1]);\n",
       "\n",
       "julia> sortslices(Matrix{BigInt}(solve_mixed(A, b, C)), dims=1)\n",
       "4×2 Matrix{BigInt}:\n",
       " 0  3\n",
       " 1  2\n",
       " 2  1\n",
       " 3  0\n",
       "```\n"
      ],
      "text/plain": [
       "\u001b[36m  solve_mixed(A::fmpz_mat, b::fmpz_mat, C::fmpz_mat, d::fmpz_mat)\u001b[39m\n",
       "\n",
       "  Solve \u001b[35mAx = b\u001b[39m under \u001b[35mCx >= d\u001b[39m, assumes a finite solution set.\n",
       "\n",
       "\u001b[1m  Examples\u001b[22m\n",
       "\u001b[1m  ≡≡≡≡≡≡≡≡≡≡\u001b[22m\n",
       "\n",
       "  Find all \u001b[35m(x_1, x_2)\\in\\mathbb{Z}^2\u001b[39m such that \u001b[35mx_1+x_2=7\u001b[39m, \u001b[35mx_1\\ge 2\u001b[39m, and \u001b[35mx_2\\ge\n",
       "  3\u001b[39m. The solutions are the rows of the output. Note that the output can be\n",
       "  permuted, hence we sort it.\n",
       "\n",
       "\u001b[36m  julia> A = fmpz_mat([1 1]);\u001b[39m\n",
       "\u001b[36m  \u001b[39m\n",
       "\u001b[36m  julia> b = zero_matrix(FlintZZ, 1,1); b[1,1]=7;\u001b[39m\n",
       "\u001b[36m  \u001b[39m\n",
       "\u001b[36m  julia> C = fmpz_mat([1 0; 0 1]);\u001b[39m\n",
       "\u001b[36m  \u001b[39m\n",
       "\u001b[36m  julia> d = zero_matrix(FlintZZ,2,1); d[1,1]=2; d[2,1]=3;\u001b[39m\n",
       "\u001b[36m  \u001b[39m\n",
       "\u001b[36m  julia> sortslices(Matrix{BigInt}(solve_mixed(A, b, C, d)), dims=1)\u001b[39m\n",
       "\u001b[36m  3×2 Matrix{BigInt}:\u001b[39m\n",
       "\u001b[36m   2  5\u001b[39m\n",
       "\u001b[36m   3  4\u001b[39m\n",
       "\u001b[36m   4  3\u001b[39m\n",
       "\n",
       "  ────────────────────────────────────────────────────────────────────────────\n",
       "\n",
       "\u001b[36m  solve_mixed(A::fmpz_mat, b::fmpz_mat, C::fmpz_mat)\u001b[39m\n",
       "\n",
       "  Solve \u001b[35mAx = b\u001b[39m under \u001b[35mCx >= 0\u001b[39m, assumes a finite solution set.\n",
       "\n",
       "\u001b[1m  Examples\u001b[22m\n",
       "\u001b[1m  ≡≡≡≡≡≡≡≡≡≡\u001b[22m\n",
       "\n",
       "  Find all \u001b[35m(x_1, x_2)\\in\\mathbb{Z}^2_{\\ge 0}\u001b[39m such that \u001b[35mx_1+x_2=3\u001b[39m. The\n",
       "  solutions are the rows of the output. Note that the output can be permuted,\n",
       "  hence we sort it.\n",
       "\n",
       "\u001b[36m  julia> A = fmpz_mat([1 1]);\u001b[39m\n",
       "\u001b[36m  \u001b[39m\n",
       "\u001b[36m  julia> b = zero_matrix(FlintZZ, 1,1); b[1,1]=3;\u001b[39m\n",
       "\u001b[36m  \u001b[39m\n",
       "\u001b[36m  julia> C = fmpz_mat([1 0; 0 1]);\u001b[39m\n",
       "\u001b[36m  \u001b[39m\n",
       "\u001b[36m  julia> sortslices(Matrix{BigInt}(solve_mixed(A, b, C)), dims=1)\u001b[39m\n",
       "\u001b[36m  4×2 Matrix{BigInt}:\u001b[39m\n",
       "\u001b[36m   0  3\u001b[39m\n",
       "\u001b[36m   1  2\u001b[39m\n",
       "\u001b[36m   2  1\u001b[39m\n",
       "\u001b[36m   3  0\u001b[39m"
      ]
     },
     "execution_count": 41,
     "metadata": {},
     "output_type": "execute_result"
    }
   ],
   "source": [
    "?solve_mixed"
   ]
  },
  {
   "cell_type": "code",
   "execution_count": 42,
   "metadata": {},
   "outputs": [
    {
     "data": {
      "text/plain": [
       "pm::Matrix<pm::Integer>\n",
       "0 1\n"
      ]
     },
     "execution_count": 42,
     "metadata": {},
     "output_type": "execute_result"
    }
   ],
   "source": [
    "M"
   ]
  },
  {
   "cell_type": "code",
   "execution_count": 43,
   "metadata": {},
   "outputs": [
    {
     "data": {
      "text/plain": [
       "1"
      ]
     },
     "execution_count": 43,
     "metadata": {},
     "output_type": "execute_result"
    }
   ],
   "source": [
    "nrows(M)"
   ]
  },
  {
   "cell_type": "code",
   "execution_count": 46,
   "metadata": {},
   "outputs": [
    {
     "data": {
      "text/plain": [
       "A polyhedral cone in ambient dimension 2"
      ]
     },
     "execution_count": 46,
     "metadata": {},
     "output_type": "execute_result"
    }
   ],
   "source": [
    "c1"
   ]
  },
  {
   "cell_type": "code",
   "execution_count": 47,
   "metadata": {},
   "outputs": [
    {
     "data": {
      "text/plain": [
       "A polyhedral cone in ambient dimension 2"
      ]
     },
     "execution_count": 47,
     "metadata": {},
     "output_type": "execute_result"
    }
   ],
   "source": [
    "pdc1 = polarize(c1)"
   ]
  },
  {
   "cell_type": "code",
   "execution_count": 50,
   "metadata": {},
   "outputs": [
    {
     "data": {
      "text/plain": [
       "[ 1   2]\n",
       "[ 0   1]\n",
       "[-1   0]"
      ]
     },
     "execution_count": 50,
     "metadata": {},
     "output_type": "execute_result"
    }
   ],
   "source": [
    "hbpdc1 = matrix(ZZ,hilbert_basis(pdc1))"
   ]
  },
  {
   "cell_type": "code",
   "execution_count": 51,
   "metadata": {},
   "outputs": [
    {
     "data": {
      "text/plain": [
       "true"
      ]
     },
     "execution_count": 51,
     "metadata": {},
     "output_type": "execute_result"
    }
   ],
   "source": [
    "hbpdc1 isa fmpz_mat"
   ]
  },
  {
   "cell_type": "code",
   "execution_count": 52,
   "metadata": {},
   "outputs": [
    {
     "data": {
      "text/plain": [
       "A polyhedral cone in ambient dimension 2"
      ]
     },
     "execution_count": 52,
     "metadata": {},
     "output_type": "execute_result"
    }
   ],
   "source": [
    "pdi"
   ]
  },
  {
   "cell_type": "code",
   "execution_count": 53,
   "metadata": {},
   "outputs": [
    {
     "data": {
      "text/plain": [
       "pm::Array<pm::Matrix<pm::Integer>>\n",
       "<0 1\n",
       ">\n",
       "<1 0\n",
       ">\n"
      ]
     },
     "execution_count": 53,
     "metadata": {},
     "output_type": "execute_result"
    }
   ],
   "source": [
    "hbi = pdi.pm_cone.HILBERT_BASIS_GENERATORS"
   ]
  },
  {
   "cell_type": "code",
   "execution_count": 56,
   "metadata": {},
   "outputs": [
    {
     "data": {
      "text/plain": [
       "[-1   0]"
      ]
     },
     "execution_count": 56,
     "metadata": {},
     "output_type": "execute_result"
    }
   ],
   "source": [
    "b = matrix(ZZ, [[-1;0]])"
   ]
  },
  {
   "cell_type": "code",
   "execution_count": 57,
   "metadata": {},
   "outputs": [
    {
     "data": {
      "text/plain": [
       "[1   0   0]\n",
       "[0   1   0]\n",
       "[0   0   1]"
      ]
     },
     "execution_count": 57,
     "metadata": {},
     "output_type": "execute_result"
    }
   ],
   "source": [
    "identity_matrix(ZZ,3)"
   ]
  },
  {
   "cell_type": "code",
   "execution_count": 58,
   "metadata": {},
   "outputs": [
    {
     "data": {
      "text/plain": [
       "[1   0   -1]\n",
       "[2   1    0]"
      ]
     },
     "execution_count": 58,
     "metadata": {},
     "output_type": "execute_result"
    }
   ],
   "source": [
    "A = transpose(hbpdc1)"
   ]
  },
  {
   "cell_type": "code",
   "execution_count": 60,
   "metadata": {},
   "outputs": [
    {
     "data": {
      "text/plain": [
       "[1   0   0]\n",
       "[0   1   0]\n",
       "[0   0   1]"
      ]
     },
     "execution_count": 60,
     "metadata": {},
     "output_type": "execute_result"
    }
   ],
   "source": [
    "C = identity_matrix(ZZ, ncols(A))"
   ]
  },
  {
   "cell_type": "code",
   "execution_count": 63,
   "metadata": {},
   "outputs": [
    {
     "data": {
      "text/plain": [
       "[-1]\n",
       "[ 0]"
      ]
     },
     "execution_count": 63,
     "metadata": {},
     "output_type": "execute_result"
    }
   ],
   "source": [
    "b = transpose(b)"
   ]
  },
  {
   "cell_type": "code",
   "execution_count": 64,
   "metadata": {},
   "outputs": [
    {
     "data": {
      "text/plain": [
       "[0]\n",
       "[0]\n",
       "[0]"
      ]
     },
     "execution_count": 64,
     "metadata": {},
     "output_type": "execute_result"
    }
   ],
   "source": [
    "d = zero_matrix(ZZ, ncols(A), 1)"
   ]
  },
  {
   "cell_type": "code",
   "execution_count": 65,
   "metadata": {},
   "outputs": [
    {
     "data": {
      "text/plain": [
       "[0   0   1]"
      ]
     },
     "execution_count": 65,
     "metadata": {},
     "output_type": "execute_result"
    }
   ],
   "source": [
    "solve_mixed(A,b,C,d)"
   ]
  },
  {
   "cell_type": "code",
   "execution_count": 84,
   "metadata": {},
   "outputs": [
    {
     "data": {
      "text/plain": [
       "[1   0   0]\n",
       "[0   1   0]\n",
       "[0   0   0]"
      ]
     },
     "execution_count": 84,
     "metadata": {},
     "output_type": "execute_result"
    }
   ],
   "source": [
    "C[3,3]=0\n",
    "C"
   ]
  },
  {
   "cell_type": "code",
   "execution_count": 85,
   "metadata": {},
   "outputs": [
    {
     "data": {
      "text/plain": [
       "[0   0   1]"
      ]
     },
     "execution_count": 85,
     "metadata": {},
     "output_type": "execute_result"
    }
   ],
   "source": [
    "solve_mixed(A,b,C,d)"
   ]
  },
  {
   "cell_type": "code",
   "execution_count": 66,
   "metadata": {},
   "outputs": [
    {
     "data": {
      "text/plain": [
       "pm::Matrix<pm::Integer>\n",
       "0 1\n"
      ]
     },
     "execution_count": 66,
     "metadata": {},
     "output_type": "execute_result"
    }
   ],
   "source": [
    "M"
   ]
  },
  {
   "cell_type": "code",
   "execution_count": 72,
   "metadata": {},
   "outputs": [
    {
     "data": {
      "text/plain": [
       "[0]\n",
       "[1]"
      ]
     },
     "execution_count": 72,
     "metadata": {},
     "output_type": "execute_result"
    }
   ],
   "source": [
    "transpose(matrix(ZZ, [Vector{Int}(M[1,:])]))"
   ]
  },
  {
   "cell_type": "code",
   "execution_count": 73,
   "metadata": {},
   "outputs": [
    {
     "name": "stdout",
     "output_type": "stream",
     "text": [
      "search: \u001b[0m\u001b[1mt\u001b[22m\u001b[0m\u001b[1mo\u001b[22m\u001b[0m\u001b[1mr\u001b[22m\u001b[0m\u001b[1mi\u001b[22m\u001b[0m\u001b[1mc\u001b[22m\u001b[0m\u001b[1m_\u001b[22m\u001b[0m\u001b[1mi\u001b[22m\u001b[0m\u001b[1md\u001b[22m\u001b[0m\u001b[1me\u001b[22m\u001b[0m\u001b[1ma\u001b[22m\u001b[0m\u001b[1ml\u001b[22m\n",
      "\n"
     ]
    },
    {
     "data": {
      "text/latex": [
       "\\begin{verbatim}\n",
       "toric_ideal(pts::fmpz_mat)\n",
       "\\end{verbatim}\n",
       "Return the toric ideal generated from the linear relations between the points \\texttt{pts}. This is the ideal generated by the set of binomials $\\{x^u-x^v\\ |\\ u,v\\in\\mathbb{Z}^n_{\\ge 0}\\ (pts)^T\\cdot(u-v)=0\\}$\n",
       "\n",
       "\\section{Examples}\n",
       "\\begin{verbatim}\n",
       "julia> C = positive_hull([-2 5; 1 0]);\n",
       "\n",
       "julia> H = hilbert_basis(C);\n",
       "\n",
       "julia> toric_ideal(H)\n",
       "ideal(x2*x3 - x4^2, -x1*x3 + x2^2*x4, -x1*x4 + x2^3, -x1*x3^2 + x2*x4^3, -x1*x3^3 + x4^5)\n",
       "\\end{verbatim}\n",
       "\\rule{\\textwidth}{1pt}\n",
       "\\begin{verbatim}\n",
       "toric_ideal(R::MPolyRing, pts::fmpz_mat)\n",
       "\\end{verbatim}\n",
       "Return the toric ideal generated from the linear relations between the points \\texttt{pts}. This is the ideal generated by the set of binomials $\\{x^u-x^v\\ |\\ u,v\\in\\mathbb{Z}^n_{\\ge 0}\\ (pts)^T\\cdot(u-v)=0\\}$\n",
       "\n",
       "\\section{Examples}\n",
       "\\begin{verbatim}\n",
       "julia> C = positive_hull([-2 5; 1 0]);\n",
       "\n",
       "julia> H = hilbert_basis(C);\n",
       "\n",
       "julia> R,_ = PolynomialRing(QQ, length(H));\n",
       "\n",
       "julia> toric_ideal(R, H)\n",
       "ideal(x2*x3 - x4^2, -x1*x3 + x2^2*x4, -x1*x4 + x2^3, -x1*x3^2 + x2*x4^3, -x1*x3^3 + x4^5)\n",
       "\\end{verbatim}\n",
       "\\rule{\\textwidth}{1pt}\n",
       "\\begin{verbatim}\n",
       "toric_ideal(R::MPolyRing, antv::AffineNormalToricVariety)\n",
       "\\end{verbatim}\n",
       "Return the toric ideal defining the affine normal toric variety as an ideal in \\texttt{R}.\n",
       "\n",
       "\\section{Examples}\n",
       "Take the cone over the square at height one. The resulting toric variety has one defining equation. In projective space this corresponds to $\\mathbb{P}^1\\times\\mathbb{P}^1$. Note that this cone is self-dual, the toric ideal comes from the dual cone.\n",
       "\n",
       "\\begin{verbatim}\n",
       "julia> C = positive_hull([1 0 0; 1 1 0; 1 0 1; 1 1 1])\n",
       "A polyhedral cone in ambient dimension 3\n",
       "\n",
       "julia> antv = AffineNormalToricVariety(C)\n",
       "A normal, affine toric variety\n",
       "\n",
       "julia> R,_ = PolynomialRing(QQ, 4);\n",
       "\n",
       "julia> toric_ideal(R, antv)\n",
       "ideal(-x1*x2 + x3*x4)\n",
       "\\end{verbatim}\n",
       "\\rule{\\textwidth}{1pt}\n",
       "\\begin{verbatim}\n",
       "toric_ideal(antv::AffineNormalToricVariety)\n",
       "\\end{verbatim}\n",
       "Return the toric ideal defining the affine normal toric variety.\n",
       "\n",
       "\\section{Examples}\n",
       "Take the cone over the square at height one. The resulting toric variety has one defining equation. In projective space this corresponds to $\\mathbb{P}^1\\times\\mathbb{P}^1$. Note that this cone is self-dual, the toric ideal comes from the dual cone.\n",
       "\n",
       "\\begin{verbatim}\n",
       "julia> C = positive_hull([1 0 0; 1 1 0; 1 0 1; 1 1 1])\n",
       "A polyhedral cone in ambient dimension 3\n",
       "\n",
       "julia> antv = AffineNormalToricVariety(C)\n",
       "A normal, affine toric variety\n",
       "\n",
       "julia> toric_ideal(antv)\n",
       "ideal(-x1*x2 + x3*x4)\n",
       "\\end{verbatim}\n"
      ],
      "text/markdown": [
       "```\n",
       "toric_ideal(pts::fmpz_mat)\n",
       "```\n",
       "\n",
       "Return the toric ideal generated from the linear relations between the points `pts`. This is the ideal generated by the set of binomials $\\{x^u-x^v\\ |\\ u,v\\in\\mathbb{Z}^n_{\\ge 0}\\ (pts)^T\\cdot(u-v)=0\\}$\n",
       "\n",
       "# Examples\n",
       "\n",
       "```jldoctest\n",
       "julia> C = positive_hull([-2 5; 1 0]);\n",
       "\n",
       "julia> H = hilbert_basis(C);\n",
       "\n",
       "julia> toric_ideal(H)\n",
       "ideal(x2*x3 - x4^2, -x1*x3 + x2^2*x4, -x1*x4 + x2^3, -x1*x3^2 + x2*x4^3, -x1*x3^3 + x4^5)\n",
       "```\n",
       "\n",
       "---\n",
       "\n",
       "```\n",
       "toric_ideal(R::MPolyRing, pts::fmpz_mat)\n",
       "```\n",
       "\n",
       "Return the toric ideal generated from the linear relations between the points `pts`. This is the ideal generated by the set of binomials $\\{x^u-x^v\\ |\\ u,v\\in\\mathbb{Z}^n_{\\ge 0}\\ (pts)^T\\cdot(u-v)=0\\}$\n",
       "\n",
       "# Examples\n",
       "\n",
       "```jldoctest\n",
       "julia> C = positive_hull([-2 5; 1 0]);\n",
       "\n",
       "julia> H = hilbert_basis(C);\n",
       "\n",
       "julia> R,_ = PolynomialRing(QQ, length(H));\n",
       "\n",
       "julia> toric_ideal(R, H)\n",
       "ideal(x2*x3 - x4^2, -x1*x3 + x2^2*x4, -x1*x4 + x2^3, -x1*x3^2 + x2*x4^3, -x1*x3^3 + x4^5)\n",
       "```\n",
       "\n",
       "---\n",
       "\n",
       "```\n",
       "toric_ideal(R::MPolyRing, antv::AffineNormalToricVariety)\n",
       "```\n",
       "\n",
       "Return the toric ideal defining the affine normal toric variety as an ideal in `R`.\n",
       "\n",
       "# Examples\n",
       "\n",
       "Take the cone over the square at height one. The resulting toric variety has one defining equation. In projective space this corresponds to $\\mathbb{P}^1\\times\\mathbb{P}^1$. Note that this cone is self-dual, the toric ideal comes from the dual cone.\n",
       "\n",
       "```jldoctest\n",
       "julia> C = positive_hull([1 0 0; 1 1 0; 1 0 1; 1 1 1])\n",
       "A polyhedral cone in ambient dimension 3\n",
       "\n",
       "julia> antv = AffineNormalToricVariety(C)\n",
       "A normal, affine toric variety\n",
       "\n",
       "julia> R,_ = PolynomialRing(QQ, 4);\n",
       "\n",
       "julia> toric_ideal(R, antv)\n",
       "ideal(-x1*x2 + x3*x4)\n",
       "```\n",
       "\n",
       "---\n",
       "\n",
       "```\n",
       "toric_ideal(antv::AffineNormalToricVariety)\n",
       "```\n",
       "\n",
       "Return the toric ideal defining the affine normal toric variety.\n",
       "\n",
       "# Examples\n",
       "\n",
       "Take the cone over the square at height one. The resulting toric variety has one defining equation. In projective space this corresponds to $\\mathbb{P}^1\\times\\mathbb{P}^1$. Note that this cone is self-dual, the toric ideal comes from the dual cone.\n",
       "\n",
       "```jldoctest\n",
       "julia> C = positive_hull([1 0 0; 1 1 0; 1 0 1; 1 1 1])\n",
       "A polyhedral cone in ambient dimension 3\n",
       "\n",
       "julia> antv = AffineNormalToricVariety(C)\n",
       "A normal, affine toric variety\n",
       "\n",
       "julia> toric_ideal(antv)\n",
       "ideal(-x1*x2 + x3*x4)\n",
       "```\n"
      ],
      "text/plain": [
       "\u001b[36m  toric_ideal(pts::fmpz_mat)\u001b[39m\n",
       "\n",
       "  Return the toric ideal generated from the linear relations between the\n",
       "  points \u001b[36mpts\u001b[39m. This is the ideal generated by the set of binomials \u001b[35m\\{x^u-x^v\\\n",
       "  |\\ u,v\\in\\mathbb{Z}^n_{\\ge 0}\\ (pts)^T\\cdot(u-v)=0\\}\u001b[39m\n",
       "\n",
       "\u001b[1m  Examples\u001b[22m\n",
       "\u001b[1m  ≡≡≡≡≡≡≡≡≡≡\u001b[22m\n",
       "\n",
       "\u001b[36m  julia> C = positive_hull([-2 5; 1 0]);\u001b[39m\n",
       "\u001b[36m  \u001b[39m\n",
       "\u001b[36m  julia> H = hilbert_basis(C);\u001b[39m\n",
       "\u001b[36m  \u001b[39m\n",
       "\u001b[36m  julia> toric_ideal(H)\u001b[39m\n",
       "\u001b[36m  ideal(x2*x3 - x4^2, -x1*x3 + x2^2*x4, -x1*x4 + x2^3, -x1*x3^2 + x2*x4^3, -x1*x3^3 + x4^5)\u001b[39m\n",
       "\n",
       "  ────────────────────────────────────────────────────────────────────────────\n",
       "\n",
       "\u001b[36m  toric_ideal(R::MPolyRing, pts::fmpz_mat)\u001b[39m\n",
       "\n",
       "  Return the toric ideal generated from the linear relations between the\n",
       "  points \u001b[36mpts\u001b[39m. This is the ideal generated by the set of binomials \u001b[35m\\{x^u-x^v\\\n",
       "  |\\ u,v\\in\\mathbb{Z}^n_{\\ge 0}\\ (pts)^T\\cdot(u-v)=0\\}\u001b[39m\n",
       "\n",
       "\u001b[1m  Examples\u001b[22m\n",
       "\u001b[1m  ≡≡≡≡≡≡≡≡≡≡\u001b[22m\n",
       "\n",
       "\u001b[36m  julia> C = positive_hull([-2 5; 1 0]);\u001b[39m\n",
       "\u001b[36m  \u001b[39m\n",
       "\u001b[36m  julia> H = hilbert_basis(C);\u001b[39m\n",
       "\u001b[36m  \u001b[39m\n",
       "\u001b[36m  julia> R,_ = PolynomialRing(QQ, length(H));\u001b[39m\n",
       "\u001b[36m  \u001b[39m\n",
       "\u001b[36m  julia> toric_ideal(R, H)\u001b[39m\n",
       "\u001b[36m  ideal(x2*x3 - x4^2, -x1*x3 + x2^2*x4, -x1*x4 + x2^3, -x1*x3^2 + x2*x4^3, -x1*x3^3 + x4^5)\u001b[39m\n",
       "\n",
       "  ────────────────────────────────────────────────────────────────────────────\n",
       "\n",
       "\u001b[36m  toric_ideal(R::MPolyRing, antv::AffineNormalToricVariety)\u001b[39m\n",
       "\n",
       "  Return the toric ideal defining the affine normal toric variety as an ideal\n",
       "  in \u001b[36mR\u001b[39m.\n",
       "\n",
       "\u001b[1m  Examples\u001b[22m\n",
       "\u001b[1m  ≡≡≡≡≡≡≡≡≡≡\u001b[22m\n",
       "\n",
       "  Take the cone over the square at height one. The resulting toric variety has\n",
       "  one defining equation. In projective space this corresponds to\n",
       "  \u001b[35m\\mathbb{P}^1\\times\\mathbb{P}^1\u001b[39m. Note that this cone is self-dual, the toric\n",
       "  ideal comes from the dual cone.\n",
       "\n",
       "\u001b[36m  julia> C = positive_hull([1 0 0; 1 1 0; 1 0 1; 1 1 1])\u001b[39m\n",
       "\u001b[36m  A polyhedral cone in ambient dimension 3\u001b[39m\n",
       "\u001b[36m  \u001b[39m\n",
       "\u001b[36m  julia> antv = AffineNormalToricVariety(C)\u001b[39m\n",
       "\u001b[36m  A normal, affine toric variety\u001b[39m\n",
       "\u001b[36m  \u001b[39m\n",
       "\u001b[36m  julia> R,_ = PolynomialRing(QQ, 4);\u001b[39m\n",
       "\u001b[36m  \u001b[39m\n",
       "\u001b[36m  julia> toric_ideal(R, antv)\u001b[39m\n",
       "\u001b[36m  ideal(-x1*x2 + x3*x4)\u001b[39m\n",
       "\n",
       "  ────────────────────────────────────────────────────────────────────────────\n",
       "\n",
       "\u001b[36m  toric_ideal(antv::AffineNormalToricVariety)\u001b[39m\n",
       "\n",
       "  Return the toric ideal defining the affine normal toric variety.\n",
       "\n",
       "\u001b[1m  Examples\u001b[22m\n",
       "\u001b[1m  ≡≡≡≡≡≡≡≡≡≡\u001b[22m\n",
       "\n",
       "  Take the cone over the square at height one. The resulting toric variety has\n",
       "  one defining equation. In projective space this corresponds to\n",
       "  \u001b[35m\\mathbb{P}^1\\times\\mathbb{P}^1\u001b[39m. Note that this cone is self-dual, the toric\n",
       "  ideal comes from the dual cone.\n",
       "\n",
       "\u001b[36m  julia> C = positive_hull([1 0 0; 1 1 0; 1 0 1; 1 1 1])\u001b[39m\n",
       "\u001b[36m  A polyhedral cone in ambient dimension 3\u001b[39m\n",
       "\u001b[36m  \u001b[39m\n",
       "\u001b[36m  julia> antv = AffineNormalToricVariety(C)\u001b[39m\n",
       "\u001b[36m  A normal, affine toric variety\u001b[39m\n",
       "\u001b[36m  \u001b[39m\n",
       "\u001b[36m  julia> toric_ideal(antv)\u001b[39m\n",
       "\u001b[36m  ideal(-x1*x2 + x3*x4)\u001b[39m"
      ]
     },
     "execution_count": 73,
     "metadata": {},
     "output_type": "execute_result"
    }
   ],
   "source": [
    "?toric_ideal"
   ]
  },
  {
   "cell_type": "code",
   "execution_count": 74,
   "metadata": {},
   "outputs": [
    {
     "data": {
      "text/plain": [
       "[0   1]\n",
       "[1   1]\n",
       "[2   1]"
      ]
     },
     "execution_count": 74,
     "metadata": {},
     "output_type": "execute_result"
    }
   ],
   "source": [
    "HH = matrix(ZZ, [0 1; 1 1; 2 1])"
   ]
  },
  {
   "cell_type": "code",
   "execution_count": 75,
   "metadata": {},
   "outputs": [
    {
     "data": {
      "text/plain": [
       "ideal(x1*x3 - x2^2)"
      ]
     },
     "execution_count": 75,
     "metadata": {},
     "output_type": "execute_result"
    }
   ],
   "source": [
    "toric_ideal(HH)"
   ]
  },
  {
   "cell_type": "code",
   "execution_count": 76,
   "metadata": {},
   "outputs": [
    {
     "data": {
      "text/plain": [
       "(Multivariate Polynomial Ring in x1, x2, x3 over Rational Field, fmpq_mpoly[x1, x2, x3])"
      ]
     },
     "execution_count": 76,
     "metadata": {},
     "output_type": "execute_result"
    }
   ],
   "source": [
    "R = PolynomialRing(QQ, 3)"
   ]
  },
  {
   "cell_type": "code",
   "execution_count": 78,
   "metadata": {},
   "outputs": [
    {
     "data": {
      "text/plain": [
       "ideal(x1*x3 - x2^2)"
      ]
     },
     "execution_count": 78,
     "metadata": {},
     "output_type": "execute_result"
    }
   ],
   "source": [
    "toric_ideal(R[1], HH)"
   ]
  },
  {
   "cell_type": "code",
   "execution_count": 79,
   "metadata": {},
   "outputs": [
    {
     "data": {
      "text/plain": [
       "A polyhedral cone in ambient dimension 2"
      ]
     },
     "execution_count": 79,
     "metadata": {},
     "output_type": "execute_result"
    }
   ],
   "source": [
    "pdi"
   ]
  },
  {
   "cell_type": "code",
   "execution_count": 80,
   "metadata": {},
   "outputs": [
    {
     "data": {
      "text/plain": [
       "true"
      ]
     },
     "execution_count": 80,
     "metadata": {},
     "output_type": "execute_result"
    }
   ],
   "source": [
    "pdi isa Cone"
   ]
  },
  {
   "cell_type": "code",
   "execution_count": 81,
   "metadata": {},
   "outputs": [
    {
     "data": {
      "text/plain": [
       "[0   1]\n",
       "[1   1]\n",
       "[2   1]"
      ]
     },
     "execution_count": 81,
     "metadata": {},
     "output_type": "execute_result"
    }
   ],
   "source": [
    "HH"
   ]
  },
  {
   "cell_type": "code",
   "execution_count": 86,
   "metadata": {},
   "outputs": [
    {
     "data": {
      "text/plain": [
       "pm::Matrix<pm::Integer>\n",
       "0 1\n"
      ]
     },
     "execution_count": 86,
     "metadata": {},
     "output_type": "execute_result"
    }
   ],
   "source": [
    "M"
   ]
  },
  {
   "cell_type": "code",
   "execution_count": 87,
   "metadata": {},
   "outputs": [
    {
     "data": {
      "text/plain": [
       "[0   1]\n",
       "[1   1]\n",
       "[2   1]"
      ]
     },
     "execution_count": 87,
     "metadata": {},
     "output_type": "execute_result"
    }
   ],
   "source": [
    "HH"
   ]
  },
  {
   "cell_type": "code",
   "execution_count": 88,
   "metadata": {},
   "outputs": [
    {
     "data": {
      "text/plain": [
       "[0   1   2]\n",
       "[1   1   1]"
      ]
     },
     "execution_count": 88,
     "metadata": {},
     "output_type": "execute_result"
    }
   ],
   "source": [
    "HH = transpose(HH)"
   ]
  },
  {
   "cell_type": "code",
   "execution_count": 89,
   "metadata": {},
   "outputs": [
    {
     "data": {
      "text/plain": [
       "[0]\n",
       "[1]"
      ]
     },
     "execution_count": 89,
     "metadata": {},
     "output_type": "execute_result"
    }
   ],
   "source": [
    "vmat = HH[:,1]"
   ]
  },
  {
   "cell_type": "code",
   "execution_count": 90,
   "metadata": {},
   "outputs": [
    {
     "data": {
      "text/plain": [
       "true"
      ]
     },
     "execution_count": 90,
     "metadata": {},
     "output_type": "execute_result"
    }
   ],
   "source": [
    "vmat == HH[:,1]"
   ]
  },
  {
   "cell_type": "code",
   "execution_count": 92,
   "metadata": {},
   "outputs": [
    {
     "data": {
      "text/html": [
       "<dl> <dt>type</dt><dd> Ideal</dd> </dl>   <details>\n",
       "       <summary style='display:list-item;'>GENERATORS</summary>\n",
       "       <pre>x_0*x_5 - x_1*x_4 + x_2*x_3 x_0*x_8 - x_1*x_7 + x_2*x_6 x_0*x_9 - x_3*x_7 + x_4*x_6 x_1*x_9 - x_3*x_8 + x_5*x_6 x_2*x_9 - x_4*x_8 + x_5*x_7</pre>\n",
       "   </details>\n",
       "\n",
       "   <details>\n",
       "       <summary style='display:list-item;'>GROEBNER</summary>\n",
       "       <pre>type: Groebner as Ideal::GROEBNER</pre>\n",
       "   </details>\n"
      ],
      "text/plain": [
       "type: Ideal\n",
       "\n",
       "GENERATORS\n",
       "\tx_0*x_5 - x_1*x_4 + x_2*x_3 x_0*x_8 - x_1*x_7 + x_2*x_6 x_0*x_9 - x_3*x_7 + x_4*x_6 x_1*x_9 - x_3*x_8 + x_5*x_6 x_2*x_9 - x_4*x_8 + x_5*x_7\n",
       "\n",
       "GROEBNER\n",
       "\ttype: Groebner as Ideal::GROEBNER\n"
      ]
     },
     "execution_count": 92,
     "metadata": {},
     "output_type": "execute_result"
    }
   ],
   "source": [
    "gpi= Polymake.ideal.pluecker_ideal(3,5)"
   ]
  },
  {
   "cell_type": "code",
   "execution_count": 93,
   "metadata": {},
   "outputs": [
    {
     "data": {
      "text/plain": [
       "pm::Array<pm::Polynomial<pm::Rational, long>>\n",
       "x_0*x_5 - x_1*x_4 + x_2*x_3 x_0*x_8 - x_1*x_7 + x_2*x_6 x_0*x_9 - x_3*x_7 + x_4*x_6 x_1*x_9 - x_3*x_8 + x_5*x_6 x_2*x_9 - x_4*x_8 + x_5*x_7"
      ]
     },
     "execution_count": 93,
     "metadata": {},
     "output_type": "execute_result"
    }
   ],
   "source": [
    "gpi.GENERATORS"
   ]
  },
  {
   "cell_type": "code",
   "execution_count": 94,
   "metadata": {},
   "outputs": [
    {
     "data": {
      "text/plain": [
       "[-2    1]\n",
       "[ 1   -2]"
      ]
     },
     "execution_count": 94,
     "metadata": {},
     "output_type": "execute_result"
    }
   ],
   "source": [
    "gram = QQ[-2 1; 1 -2]"
   ]
  },
  {
   "cell_type": "code",
   "execution_count": 95,
   "metadata": {},
   "outputs": [
    {
     "data": {
      "text/plain": [
       "Quadratic lattice of rank 2 and degree 2 over the rationals"
      ]
     },
     "execution_count": 95,
     "metadata": {},
     "output_type": "execute_result"
    }
   ],
   "source": [
    "L = Zlattice(gram=gram)"
   ]
  },
  {
   "cell_type": "code",
   "execution_count": 96,
   "metadata": {},
   "outputs": [
    {
     "data": {
      "text/plain": [
       "Matrix group of degree 2 over Rational Field"
      ]
     },
     "execution_count": 96,
     "metadata": {},
     "output_type": "execute_result"
    }
   ],
   "source": [
    "orthogonal_group(L)"
   ]
  },
  {
   "cell_type": "code",
   "execution_count": 97,
   "metadata": {},
   "outputs": [
    {
     "data": {
      "text/plain": [
       "ZGenus\n",
       "Signature: (0, 2)\n",
       "Genus symbol at 2:   1^-2\n",
       "Genus symbol at 3:   1^1 3^1"
      ]
     },
     "execution_count": 97,
     "metadata": {},
     "output_type": "execute_result"
    }
   ],
   "source": [
    "genus(L)"
   ]
  },
  {
   "cell_type": "code",
   "execution_count": null,
   "metadata": {},
   "outputs": [],
   "source": []
  }
 ],
 "metadata": {
  "kernelspec": {
   "display_name": "Julia 1.8.0",
   "language": "julia",
   "name": "julia-1.8"
  },
  "language_info": {
   "file_extension": ".jl",
   "mimetype": "application/julia",
   "name": "julia",
   "version": "1.8.0"
  }
 },
 "nbformat": 4,
 "nbformat_minor": 4
}
