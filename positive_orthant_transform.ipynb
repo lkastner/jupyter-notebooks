{
 "cells": [
  {
   "cell_type": "markdown",
   "metadata": {},
   "source": [
    "# Transform a positive ZZ^m-grading such that it has positive entries only\n",
    "\n",
    "We are given generators $r_1,\\ldots, r_n$ in $ZZ^m$ of some grading on a polynomial ring such that the grading is positive, i.e. the degree 0 part has finite dimension. We want the $r_i$ to have positive entries only."
   ]
  },
  {
   "cell_type": "code",
   "execution_count": 1,
   "metadata": {},
   "outputs": [
    {
     "name": "stdout",
     "output_type": "stream",
     "text": [
      "\n",
      "You've found \n",
      "\u001b[31mDORY\u001b[39m\n",
      "Version\u001b[32m 0.1 \u001b[39m... \n",
      " ... which comes with absolutely no warranty whatsoever\n",
      "(c) 2019 by Avinash Kulkarni\n",
      "\n",
      "\n",
      "You've found \n",
      "\u001b[31mDORY\u001b[39m\n",
      "Version\u001b[32m 0.1 \u001b[39m... \n",
      " ... which comes with absolutely no warranty whatsoever\n",
      "(c) 2019 by Avinash Kulkarni\n",
      "\n",
      " -----    -----    -----      -      -----   \n",
      "|     |  |     |  |     |    | |    |     |  \n",
      "|     |  |        |         |   |   |     |  \n",
      "|     |   -----   |        |     |  |-----   \n",
      "|     |        |  |        |-----|  |   |    \n",
      "|     |  |     |  |     |  |     |  |    |   \n",
      " -----    -----    -----   -     -  -     -  \n",
      "\n",
      "...combining (and extending) ANTIC, GAP, Polymake and Singular\n",
      "Version\u001b[32m 0.8.2-DEV \u001b[39m... \n",
      " ... which comes with absolutely no warranty whatsoever\n",
      "Type: '?Oscar' for more information\n",
      "(c) 2019-2022 by The Oscar Development Team\n"
     ]
    },
    {
     "name": "stderr",
     "output_type": "stream",
     "text": [
      "┌ Info: Precompiling Oscar [f1435218-dba5-11e9-1e4d-f1a5fab5fc13]\n",
      "└ @ Base loading.jl:1423\n",
      "\u001b[33m\u001b[1m┌ \u001b[22m\u001b[39m\u001b[33m\u001b[1mWarning: \u001b[22m\u001b[39mReplacing docs for `Oscar.F :: Union{Tuple{Hecke.SRow{T}}, Tuple{T}} where T` in module `Oscar`\n",
      "\u001b[33m\u001b[1m└ \u001b[22m\u001b[39m\u001b[90m@ Base.Docs docs/Docs.jl:240\u001b[39m\n",
      "\u001b[33m\u001b[1m┌ \u001b[22m\u001b[39m\u001b[33m\u001b[1mWarning: \u001b[22m\u001b[39mReplacing docs for `Oscar.F :: Union{Tuple{Vector{T}}, Tuple{T}} where T` in module `Oscar`\n",
      "\u001b[33m\u001b[1m└ \u001b[22m\u001b[39m\u001b[90m@ Base.Docs docs/Docs.jl:240\u001b[39m\n",
      "\u001b[33m\u001b[1m┌ \u001b[22m\u001b[39m\u001b[33m\u001b[1mWarning: \u001b[22m\u001b[39mPackage Oscar does not have pAdicSolver in its dependencies:\n",
      "\u001b[33m\u001b[1m│ \u001b[22m\u001b[39m- If you have Oscar checked out for development and have\n",
      "\u001b[33m\u001b[1m│ \u001b[22m\u001b[39m  added pAdicSolver as a dependency but haven't updated your primary\n",
      "\u001b[33m\u001b[1m│ \u001b[22m\u001b[39m  environment's manifest file, try `Pkg.resolve()`.\n",
      "\u001b[33m\u001b[1m│ \u001b[22m\u001b[39m- Otherwise you may need to report an issue with Oscar\n",
      "\u001b[33m\u001b[1m└ \u001b[22m\u001b[39mLoading pAdicSolver into Oscar from project dependency, future warnings for Oscar are suppressed.\n",
      "WARNING: Method definition (::Type{Oscar.TropicalLinearSpace{M, T} where T where M})(Array{Union{Hecke.PosInf, Integer, Nemo.fmpz, Base.Rational{T} where T<:Integer}, 1}, Int64, Int64) in module Oscar at /home/lars/repos/Oscar.jl/src/TropicalGeometry/linear_space.jl:46 overwritten at /home/lars/repos/Oscar.jl/src/TropicalGeometry/linear_space.jl:64.\n",
      "  ** incremental compilation may be fatally broken for this module **\n",
      "\n",
      "WARNING: Method definition Type##kw(Any, Type{Oscar.TropicalLinearSpace{M, T} where T where M}, Array{Union{Hecke.PosInf, Integer, Nemo.fmpz, Base.Rational{T} where T<:Integer}, 1}, Int64, Int64) in module Oscar at /home/lars/repos/Oscar.jl/src/TropicalGeometry/linear_space.jl:46 overwritten at /home/lars/repos/Oscar.jl/src/TropicalGeometry/linear_space.jl:64.\n",
      "  ** incremental compilation may be fatally broken for this module **\n",
      "\n"
     ]
    }
   ],
   "source": [
    "using Oscar"
   ]
  },
  {
   "cell_type": "markdown",
   "metadata": {},
   "source": [
    "We start by doing an example:"
   ]
  },
  {
   "cell_type": "code",
   "execution_count": 2,
   "metadata": {},
   "outputs": [
    {
     "data": {
      "text/plain": [
       "4×3 Matrix{Int64}:\n",
       " -1   0   0\n",
       " -1  -1   0\n",
       " -1  -1  -1\n",
       " -1   0  -1"
      ]
     },
     "execution_count": 2,
     "metadata": {},
     "output_type": "execute_result"
    }
   ],
   "source": [
    "rs = [-1 0 0; -1 -1 0; -1 -1 -1; -1 0 -1]"
   ]
  },
  {
   "cell_type": "markdown",
   "metadata": {},
   "source": [
    "First we compute the cone $C$ that is spanned by these generators:"
   ]
  },
  {
   "cell_type": "code",
   "execution_count": 3,
   "metadata": {},
   "outputs": [
    {
     "data": {
      "text/plain": [
       "A polyhedral cone in ambient dimension 3"
      ]
     },
     "execution_count": 3,
     "metadata": {},
     "output_type": "execute_result"
    }
   ],
   "source": [
    "C = positive_hull(rs)"
   ]
  },
  {
   "cell_type": "markdown",
   "metadata": {},
   "source": [
    "Now we check that it is fulldimensional, we will stay with the full-dimensional case for now:"
   ]
  },
  {
   "cell_type": "code",
   "execution_count": 8,
   "metadata": {},
   "outputs": [],
   "source": [
    "@assert isfulldimensional(C) \"Cone spanned by generator degrees needs to be full-dimensional\""
   ]
  },
  {
   "cell_type": "markdown",
   "metadata": {},
   "source": [
    "Now we want to find a simplicial cone containing $C$. This can be done by choosing a subset of the facets which has full rank. The facet vectors have full rank because the cone is fulldimensional."
   ]
  },
  {
   "cell_type": "code",
   "execution_count": 29,
   "metadata": {},
   "outputs": [
    {
     "data": {
      "text/html": [
       "$\\begin{bmatrix}1&-1&0\\\\\n",
       "1&0&-1\\\\\n",
       "0&1&0\\\\\n",
       "0&0&1\\end{bmatrix}$"
      ],
      "text/latex": [
       "\\begin{array}{ccc}\n",
       "1 & -1 & 0 \\\\\n",
       "1 & 0 & -1 \\\\\n",
       "0 & 1 & 0 \\\\\n",
       "0 & 0 & 1\n",
       "\\end{array}"
      ],
      "text/plain": [
       "[1   -1    0]\n",
       "[1    0   -1]\n",
       "[0    1    0]\n",
       "[0    0    1]"
      ]
     },
     "execution_count": 29,
     "metadata": {},
     "output_type": "execute_result"
    }
   ],
   "source": [
    "F = linear_inequality_matrix(facets(C))"
   ]
  },
  {
   "cell_type": "code",
   "execution_count": 39,
   "metadata": {},
   "outputs": [
    {
     "name": "stdout",
     "output_type": "stream",
     "text": [
      "[1, 2, 3]"
     ]
    }
   ],
   "source": [
    "index = 2\n",
    "full_rank_subset = [1]\n",
    "full_rank = rank(F)\n",
    "current_rank = rank(F[full_rank_subset, :])\n",
    "while current_rank < full_rank\n",
    "    for i in index:nrows(F)\n",
    "        test = Vector{Int}(full_rank_subset)\n",
    "        append!(test, i)\n",
    "        testrank = rank(F[test,:])\n",
    "        if testrank > current_rank\n",
    "            index = i+1\n",
    "            current_rank = testrank\n",
    "            append!(full_rank_subset, i)\n",
    "            break\n",
    "        end\n",
    "    end\n",
    "end\n",
    "print(full_rank_subset)"
   ]
  },
  {
   "cell_type": "markdown",
   "metadata": {},
   "source": [
    "We build the associated cone from these inequalities and computes its rays."
   ]
  },
  {
   "cell_type": "code",
   "execution_count": 71,
   "metadata": {},
   "outputs": [
    {
     "data": {
      "text/plain": [
       "A polyhedral cone in ambient dimension 3"
      ]
     },
     "execution_count": 71,
     "metadata": {},
     "output_type": "execute_result"
    }
   ],
   "source": [
    "Csimplicial = cone_from_inequalities(F[full_rank_subset,:])"
   ]
  },
  {
   "cell_type": "code",
   "execution_count": 72,
   "metadata": {},
   "outputs": [
    {
     "data": {
      "text/plain": [
       "3-element SubObjectIterator{RayVector{Polymake.Rational}}:\n",
       " [-1, -1, -1]\n",
       " [-1, 0, -1]\n",
       " [0, 0, 1]"
      ]
     },
     "execution_count": 72,
     "metadata": {},
     "output_type": "execute_result"
    }
   ],
   "source": [
    "rays(Csimplicial)"
   ]
  },
  {
   "cell_type": "code",
   "execution_count": 73,
   "metadata": {},
   "outputs": [
    {
     "data": {
      "text/plain": [
       "true"
      ]
     },
     "execution_count": 73,
     "metadata": {},
     "output_type": "execute_result"
    }
   ],
   "source": [
    "ispointed(Csimplicial)"
   ]
  },
  {
   "cell_type": "code",
   "execution_count": 45,
   "metadata": {},
   "outputs": [
    {
     "data": {
      "text/plain": [
       "true"
      ]
     },
     "execution_count": 45,
     "metadata": {},
     "output_type": "execute_result"
    }
   ],
   "source": [
    "Polymake.polytope.included_polyhedra(C.pm_cone, Csimplicial.pm_cone)"
   ]
  },
  {
   "cell_type": "markdown",
   "metadata": {},
   "source": [
    "Now we can use the Hermite normal form for finding a coordinate change that brings `Csimplicial` into the positive orthant while preserving the lattice. "
   ]
  },
  {
   "cell_type": "code",
   "execution_count": 50,
   "metadata": {},
   "outputs": [
    {
     "data": {
      "text/plain": [
       "([1 0 0; 0 1 0; 0 0 1], [0 -1 0; -1 1 0; -1 0 1])"
      ]
     },
     "execution_count": 50,
     "metadata": {},
     "output_type": "execute_result"
    }
   ],
   "source": [
    "CsRays = Polymake.common.primitive(Csimplicial.pm_cone.RAYS)\n",
    "CsRays = matrix(ZZ, CsRays)\n",
    "nf = AbstractAlgebra.hnf_with_transform(transpose(CsRays))"
   ]
  },
  {
   "cell_type": "code",
   "execution_count": 52,
   "metadata": {},
   "outputs": [
    {
     "data": {
      "text/html": [
       "$\\begin{bmatrix}1&0&0\\\\\n",
       "0&1&0\\\\\n",
       "0&0&1\\end{bmatrix}$"
      ],
      "text/latex": [
       "\\begin{array}{ccc}\n",
       "1 & 0 & 0 \\\\\n",
       "0 & 1 & 0 \\\\\n",
       "0 & 0 & 1\n",
       "\\end{array}"
      ],
      "text/plain": [
       "[1   0   0]\n",
       "[0   1   0]\n",
       "[0   0   1]"
      ]
     },
     "execution_count": 52,
     "metadata": {},
     "output_type": "execute_result"
    }
   ],
   "source": [
    "CsRays_transformed = transpose(nf[1])"
   ]
  },
  {
   "cell_type": "code",
   "execution_count": 53,
   "metadata": {},
   "outputs": [
    {
     "data": {
      "text/html": [
       "$\\begin{bmatrix}0&-1&-1\\\\\n",
       "-1&1&0\\\\\n",
       "0&0&1\\end{bmatrix}$"
      ],
      "text/latex": [
       "\\begin{array}{ccc}\n",
       "0 & -1 & -1 \\\\\n",
       "-1 & 1 & 0 \\\\\n",
       "0 & 0 & 1\n",
       "\\end{array}"
      ],
      "text/plain": [
       "[ 0   -1   -1]\n",
       "[-1    1    0]\n",
       "[ 0    0    1]"
      ]
     },
     "execution_count": 53,
     "metadata": {},
     "output_type": "execute_result"
    }
   ],
   "source": [
    "transformation = transpose(nf[2])"
   ]
  },
  {
   "cell_type": "code",
   "execution_count": 61,
   "metadata": {},
   "outputs": [],
   "source": [
    "@assert CsRays * transformation == CsRays_transformed \"Maybe order of transformation is wrong?\""
   ]
  },
  {
   "cell_type": "code",
   "execution_count": 58,
   "metadata": {},
   "outputs": [
    {
     "data": {
      "text/html": [
       "$\\begin{bmatrix}-1&0&0\\\\\n",
       "-1&-1&0\\\\\n",
       "-1&-1&-1\\\\\n",
       "-1&0&-1\\end{bmatrix}$"
      ],
      "text/latex": [
       "\\begin{array}{ccc}\n",
       "-1 & 0 & 0 \\\\\n",
       "-1 & -1 & 0 \\\\\n",
       "-1 & -1 & -1 \\\\\n",
       "-1 & 0 & -1\n",
       "\\end{array}"
      ],
      "text/plain": [
       "[-1    0    0]\n",
       "[-1   -1    0]\n",
       "[-1   -1   -1]\n",
       "[-1    0   -1]"
      ]
     },
     "execution_count": 58,
     "metadata": {},
     "output_type": "execute_result"
    }
   ],
   "source": [
    "original = matrix(ZZ, rs)"
   ]
  },
  {
   "cell_type": "code",
   "execution_count": 59,
   "metadata": {},
   "outputs": [
    {
     "data": {
      "text/html": [
       "$\\begin{bmatrix}0&1&1\\\\\n",
       "1&0&1\\\\\n",
       "1&0&0\\\\\n",
       "0&1&0\\end{bmatrix}$"
      ],
      "text/latex": [
       "\\begin{array}{ccc}\n",
       "0 & 1 & 1 \\\\\n",
       "1 & 0 & 1 \\\\\n",
       "1 & 0 & 0 \\\\\n",
       "0 & 1 & 0\n",
       "\\end{array}"
      ],
      "text/plain": [
       "[0   1   1]\n",
       "[1   0   1]\n",
       "[1   0   0]\n",
       "[0   1   0]"
      ]
     },
     "execution_count": 59,
     "metadata": {},
     "output_type": "execute_result"
    }
   ],
   "source": [
    "original * transformation"
   ]
  },
  {
   "cell_type": "markdown",
   "metadata": {},
   "source": [
    "# As one function"
   ]
  },
  {
   "cell_type": "code",
   "execution_count": 64,
   "metadata": {},
   "outputs": [
    {
     "data": {
      "text/plain": [
       "transform_to_positive_orthant (generic function with 1 method)"
      ]
     },
     "execution_count": 64,
     "metadata": {},
     "output_type": "execute_result"
    }
   ],
   "source": [
    "function transform_to_positive_orthant(rs::Matrix{Int})\n",
    "    C = positive_hull(rs)\n",
    "    @assert isfulldimensional(C) \"Cone spanned by generator degrees needs to be full-dimensional\"\n",
    "    F = linear_inequality_matrix(facets(C))\n",
    "    \n",
    "    # Find a simplicial cone containing C\n",
    "    index = 2\n",
    "    full_rank_subset = [1]\n",
    "    full_rank = rank(F)\n",
    "    current_rank = rank(F[full_rank_subset, :])\n",
    "    while current_rank < full_rank\n",
    "        for i in index:nrows(F)\n",
    "            test = Vector{Int}(full_rank_subset)\n",
    "            append!(test, i)\n",
    "            testrank = rank(F[test,:])\n",
    "            if testrank > current_rank\n",
    "                index = i+1\n",
    "                current_rank = testrank\n",
    "                append!(full_rank_subset, i)\n",
    "                break\n",
    "            end\n",
    "        end\n",
    "    end\n",
    "    Csimplicial = cone_from_inequalities(F[full_rank_subset,:])\n",
    "    \n",
    "    @assert Polymake.polytope.included_polyhedra(C.pm_cone, Csimplicial.pm_cone) \"Cone containment violated\"\n",
    "    CsRays = Polymake.common.primitive(Csimplicial.pm_cone.RAYS)\n",
    "    CsRays = matrix(ZZ, CsRays)\n",
    "    nf = AbstractAlgebra.hnf_with_transform(transpose(CsRays))\n",
    "    CsRays_transformed = transpose(nf[1])\n",
    "    transformation = transpose(nf[2])\n",
    "    @assert CsRays * transformation == CsRays_transformed \"Maybe order of transformation is wrong?\"\n",
    "    original = matrix(ZZ, rs)\n",
    "    return original * transformation, transformation\n",
    "end"
   ]
  },
  {
   "cell_type": "code",
   "execution_count": 67,
   "metadata": {},
   "outputs": [
    {
     "data": {
      "text/plain": [
       "([0 1 1; 1 0 1; 1 0 0; 0 1 0], [0 -1 -1; -1 1 0; 0 0 1])"
      ]
     },
     "execution_count": 67,
     "metadata": {},
     "output_type": "execute_result"
    }
   ],
   "source": [
    "t_rs = transform_to_positive_orthant(rs)"
   ]
  },
  {
   "cell_type": "code",
   "execution_count": 68,
   "metadata": {},
   "outputs": [
    {
     "data": {
      "text/html": [
       "$\\begin{bmatrix}0&1&1\\\\\n",
       "1&0&1\\\\\n",
       "1&0&0\\\\\n",
       "0&1&0\\end{bmatrix}$"
      ],
      "text/latex": [
       "\\begin{array}{ccc}\n",
       "0 & 1 & 1 \\\\\n",
       "1 & 0 & 1 \\\\\n",
       "1 & 0 & 0 \\\\\n",
       "0 & 1 & 0\n",
       "\\end{array}"
      ],
      "text/plain": [
       "[0   1   1]\n",
       "[1   0   1]\n",
       "[1   0   0]\n",
       "[0   1   0]"
      ]
     },
     "execution_count": 68,
     "metadata": {},
     "output_type": "execute_result"
    }
   ],
   "source": [
    "t_rs[1]"
   ]
  },
  {
   "cell_type": "code",
   "execution_count": 69,
   "metadata": {},
   "outputs": [
    {
     "data": {
      "text/plain": [
       "([0 0 1; 1 0 2; 2 1 2; 2 2 1; 1 2 0; 0 1 0], [0 0 -1; 1 0 1; 0 1 -1])"
      ]
     },
     "execution_count": 69,
     "metadata": {},
     "output_type": "execute_result"
    }
   ],
   "source": [
    "hexagon = [-1 0 0; -1 1 0; -1 2 1; -1 2 2; -1 1 2; -1 0 1]\n",
    "t_hexagon = transform_to_positive_orthant(hexagon)"
   ]
  },
  {
   "cell_type": "code",
   "execution_count": 70,
   "metadata": {},
   "outputs": [
    {
     "data": {
      "text/html": [
       "$\\begin{bmatrix}1&1&0\\\\\n",
       "-1&0&1\\\\\n",
       "-1&0&0\\end{bmatrix}$"
      ],
      "text/latex": [
       "\\begin{array}{ccc}\n",
       "1 & 1 & 0 \\\\\n",
       "-1 & 0 & 1 \\\\\n",
       "-1 & 0 & 0\n",
       "\\end{array}"
      ],
      "text/plain": [
       "[ 1   1   0]\n",
       "[-1   0   1]\n",
       "[-1   0   0]"
      ]
     },
     "execution_count": 70,
     "metadata": {},
     "output_type": "execute_result"
    }
   ],
   "source": [
    "inv(t_hexagon[2])"
   ]
  },
  {
   "cell_type": "code",
   "execution_count": null,
   "metadata": {},
   "outputs": [],
   "source": []
  }
 ],
 "metadata": {
  "kernelspec": {
   "display_name": "Julia 1.7.2",
   "language": "julia",
   "name": "julia-1.7"
  },
  "language_info": {
   "file_extension": ".jl",
   "mimetype": "application/julia",
   "name": "julia",
   "version": "1.7.2"
  }
 },
 "nbformat": 4,
 "nbformat_minor": 4
}
