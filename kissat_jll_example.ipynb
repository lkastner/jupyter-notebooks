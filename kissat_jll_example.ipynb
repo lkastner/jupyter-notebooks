{
 "cells": [
  {
   "cell_type": "markdown",
   "id": "6a53cde1",
   "metadata": {},
   "source": [
    "# Using Kissat from Julia\n",
    "Julia already has a package that can install the binaries of Kissat, named `Kissat_jll`."
   ]
  },
  {
   "cell_type": "code",
   "execution_count": 1,
   "id": "55f64c8a",
   "metadata": {},
   "outputs": [
    {
     "name": "stderr",
     "output_type": "stream",
     "text": [
      "\u001b[32m\u001b[1m    Updating\u001b[22m\u001b[39m registry at `~/.julia/registries/General.toml`\n",
      "\u001b[32m\u001b[1m   Resolving\u001b[22m\u001b[39m package versions...\n",
      "\u001b[32m\u001b[1m  No Changes\u001b[22m\u001b[39m to `~/.julia/environments/v1.8/Project.toml`\n",
      "\u001b[32m\u001b[1m  No Changes\u001b[22m\u001b[39m to `~/.julia/environments/v1.8/Manifest.toml`\n"
     ]
    }
   ],
   "source": [
    "using Pkg; Pkg.add(\"Kissat_jll\")"
   ]
  },
  {
   "cell_type": "code",
   "execution_count": 2,
   "id": "cf780799",
   "metadata": {},
   "outputs": [],
   "source": [
    "using Kissat_jll"
   ]
  },
  {
   "cell_type": "markdown",
   "id": "a74a8041",
   "metadata": {},
   "source": [
    "We use the example from [the minisat user guide](https://dwheeler.com/essays/minisat-user-guide.html):"
   ]
  },
  {
   "cell_type": "code",
   "execution_count": 37,
   "id": "4a4047c6",
   "metadata": {},
   "outputs": [
    {
     "data": {
      "text/plain": [
       "\"c Here is a comment.\\np cnf 5 3\\n1 -5 4 0\\n-1 5 3 4 0\\n-3 -4 0\""
      ]
     },
     "execution_count": 37,
     "metadata": {},
     "output_type": "execute_result"
    }
   ],
   "source": [
    "s = \"c Here is a comment.\n",
    "p cnf 5 3\n",
    "1 -5 4 0\n",
    "-1 5 3 4 0\n",
    "-3 -4 0\""
   ]
  },
  {
   "cell_type": "markdown",
   "id": "ab413743",
   "metadata": {},
   "source": [
    "Now we write this string to a file in a new temporary directory:"
   ]
  },
  {
   "cell_type": "code",
   "execution_count": 38,
   "id": "39195fc7",
   "metadata": {},
   "outputs": [
    {
     "name": "stdout",
     "output_type": "stream",
     "text": [
      "Tempdir is /tmp/jl_rbyM3u\n"
     ]
    },
    {
     "data": {
      "text/plain": [
       "58"
      ]
     },
     "execution_count": 38,
     "metadata": {},
     "output_type": "execute_result"
    }
   ],
   "source": [
    "path = mktempdir()\n",
    "println(\"Tempdir is $path\")\n",
    "filename = path * \"/example.cnf\"\n",
    "open(filename, \"w\") do file\n",
    "    write(file, s)\n",
    "end"
   ]
  },
  {
   "cell_type": "code",
   "execution_count": 39,
   "id": "eac95dde",
   "metadata": {},
   "outputs": [
    {
     "data": {
      "text/plain": [
       "setenv(`\u001b[4m/home/lars/.julia/artifacts/97c8d6272ffe420241a5ec8f5bf6702987307e29/bin/kissat\u001b[24m`,[\"EDITOR=/usr/bin/vim\", \"PATH=/home/lars/.julia/artifacts/97c8d6272ffe420241a5ec8f5bf6702987307e29/bin:/home/lars/ompi/bin:/home/lars/ompi/bin:/usr/lib64/qt-3.3/bin:/usr/share/Modules/bin:/usr/condabin:/usr/lib64/ccache:/usr/local/bin:/usr/local/sbin:/usr/bin:/usr/sbin:/var/lib/snapd/snap/bin:/home/lars/.local/bin:/home/lars/bin\", \"QTDIR=/usr/lib64/qt-3.3\", \"LD_LIBRARY_PATH=/home/lars/.julia/artifacts/97c8d6272ffe420241a5ec8f5bf6702987307e29/lib:/home/lars/installed/julia-1.8.5/bin/../lib/julia:/home/lars/installed/julia-1.8.5/bin/../lib::/usr/local/lib:/usr/local/lib\", \"DBUS_SESSION_BUS_ADDRESS=unix:path=/run/user/1000/bus\", \"DESKTOP_STARTUP_ID=i3/i3-sensible-terminal/2667-828-nomurai_TIME344518329\", \"MANPATH=/usr/share/man:\", \"MODULEPATH=/etc/scl/modulefiles:/etc/scl/modulefiles:/usr/share/Modules/modulefiles:/etc/modulefiles:/usr/share/modulefiles\", \"XDG_SESSION_DESKTOP=i3\", \"SSH_AGENT_PID=2717\"  …  \"HISTCONTROL=ignoredups\", \"MAIL=/var/spool/mail/lars\", \"BASH_FUNC_scl%%=() {  if [ \\\"\\$1\\\" = \\\"load\\\" -o \\\"\\$1\\\" = \\\"unload\\\" ]; then\\n eval \\\"module \\$@\\\";\\n else\\n /usr/bin/scl \\\"\\$@\\\";\\n fi\\n}\", \"WINDOWID=25165833\", \"XDG_VTNR=2\", \"XDG_SESSION_ID=4\", \"KDEDIRS=/usr\", \"WINDOWPATH=2\", \"LS_COLORS=rs=0:di=01;34:ln=01;36:mh=00:pi=40;33:so=01;35:do=01;35:bd=40;33;01:cd=40;33;01:or=40;31;01:mi=01;37;41:su=37;41:sg=30;43:ca=00:tw=30;42:ow=34;42:st=37;44:ex=01;32:*.tar=01;31:*.tgz=01;31:*.arc=01;31:*.arj=01;31:*.taz=01;31:*.lha=01;31:*.lz4=01;31:*.lzh=01;31:*.lzma=01;31:*.tlz=01;31:*.txz=01;31:*.tzo=01;31:*.t7z=01;31:*.zip=01;31:*.z=01;31:*.dz=01;31:*.gz=01;31:*.lrz=01;31:*.lz=01;31:*.lzo=01;31:*.xz=01;31:*.zst=01;31:*.tzst=01;31:*.bz2=01;31:*.bz=01;31:*.tbz=01;31:*.tbz2=01;31:*.tz=01;31:*.deb=01;31:*.rpm=01;31:*.jar=01;31:*.war=01;31:*.ear=01;31:*.sar=01;31:*.rar=01;31:*.alz=01;31:*.ace=01;31:*.zoo=01;31:*.cpio=01;31:*.7z=01;31:*.rz=01;31:*.cab=01;31:*.wim=01;31:*.swm=01;31:*.dwm=01;31:*.esd=01;31:*.avif=01;35:*.jpg=01;35:*.jpeg=01;35:*.mjpg=01;35:*.mjpeg=01;35:*.gif=01;35:*.bmp=01;35:*.pbm=01;35:*.pgm=01;35:*.ppm=01;35:*.tga=01;35:*.xbm=01;35:*.xpm=01;35:*.tif=01;35:*.tiff=01;35:*.png=01;35:*.svg=01;35:*.svgz=01;35:*.mng=01;35:*.pcx=01;35:*.mov=01;35:*.mpg=01;35:*.mpeg=01;35:*.m2v=01;35:*.mkv=01;35:*.webm=01;35:*.webp=01;35:*.ogm=01;35:*.mp4=01;35:*.m4v=01;35:*.mp4v=01;35:*.vob=01;35:*.qt=01;35:*.nuv=01;35:*.wmv=01;35:*.asf=01;35:*.rm=01;35:*.rmvb=01;35:*.flc=01;35:*.avi=01;35:*.fli=01;35:*.flv=01;35:*.gl=01;35:*.dl=01;35:*.xcf=01;35:*.xwd=01;35:*.yuv=01;35:*.cgm=01;35:*.emf=01;35:*.ogv=01;35:*.ogx=01;35:*.aac=01;36:*.au=01;36:*.flac=01;36:*.m4a=01;36:*.mid=01;36:*.midi=01;36:*.mka=01;36:*.mp3=01;36:*.mpc=01;36:*.ogg=01;36:*.ra=01;36:*.wav=01;36:*.oga=01;36:*.opus=01;36:*.spx=01;36:*.xspf=01;36:*~=00;90:*#=00;90:*.bak=00;90:*.old=00;90:*.orig=00;90:*.part=00;90:*.rej=00;90:*.swp=00;90:*.tmp=00;90:*.dpkg-dist=00;90:*.dpkg-old=00;90:*.ucf-dist=00;90:*.ucf-new=00;90:*.ucf-old=00;90:*.rpmnew=00;90:*.rpmorig=00;90:*.rpmsave=00;90:\", \"BASH_FUNC__module_raw%%=() {  eval \\\"\\$(/usr/bin/tclsh /usr/share/Modules/libexec/modulecmd.tcl bash \\\"\\$@\\\")\\\";\\n _mlstatus=\\$?;\\n return \\$_mlstatus\\n}\"])"
      ]
     },
     "execution_count": 39,
     "metadata": {},
     "output_type": "execute_result"
    }
   ],
   "source": [
    "cmd = Kissat_jll.kissat()"
   ]
  },
  {
   "cell_type": "code",
   "execution_count": 46,
   "id": "3e63d81d",
   "metadata": {},
   "outputs": [
    {
     "data": {
      "text/plain": [
       "Process(setenv(`\u001b[4m/home/lars/.julia/artifacts/97c8d6272ffe420241a5ec8f5bf6702987307e29/bin/kissat\u001b[24m \u001b[4m/tmp/jl_rbyM3u/example.cnf\u001b[24m`,[\"EDITOR=/usr/bin/vim\", \"PATH=/home/lars/.julia/artifacts/97c8d6272ffe420241a5ec8f5bf6702987307e29/bin:/home/lars/ompi/bin:/home/lars/ompi/bin:/usr/lib64/qt-3.3/bin:/usr/share/Modules/bin:/usr/condabin:/usr/lib64/ccache:/usr/local/bin:/usr/local/sbin:/usr/bin:/usr/sbin:/var/lib/snapd/snap/bin:/home/lars/.local/bin:/home/lars/bin\", \"QTDIR=/usr/lib64/qt-3.3\", \"LD_LIBRARY_PATH=/home/lars/.julia/artifacts/97c8d6272ffe420241a5ec8f5bf6702987307e29/lib:/home/lars/installed/julia-1.8.5/bin/../lib/julia:/home/lars/installed/julia-1.8.5/bin/../lib::/usr/local/lib:/usr/local/lib\", \"DBUS_SESSION_BUS_ADDRESS=unix:path=/run/user/1000/bus\", \"DESKTOP_STARTUP_ID=i3/i3-sensible-terminal/2667-828-nomurai_TIME344518329\", \"MANPATH=/usr/share/man:\", \"MODULEPATH=/etc/scl/modulefiles:/etc/scl/modulefiles:/usr/share/Modules/modulefiles:/etc/modulefiles:/usr/share/modulefiles\", \"XDG_SESSION_DESKTOP=i3\", \"SSH_AGENT_PID=2717\"  …  \"HISTCONTROL=ignoredups\", \"MAIL=/var/spool/mail/lars\", \"BASH_FUNC_scl%%=() {  if [ \\\"\\$1\\\" = \\\"load\\\" -o \\\"\\$1\\\" = \\\"unload\\\" ]; then\\n eval \\\"module \\$@\\\";\\n else\\n /usr/bin/scl \\\"\\$@\\\";\\n fi\\n}\", \"WINDOWID=25165833\", \"XDG_VTNR=2\", \"XDG_SESSION_ID=4\", \"KDEDIRS=/usr\", \"WINDOWPATH=2\", \"LS_COLORS=rs=0:di=01;34:ln=01;36:mh=00:pi=40;33:so=01;35:do=01;35:bd=40;33;01:cd=40;33;01:or=40;31;01:mi=01;37;41:su=37;41:sg=30;43:ca=00:tw=30;42:ow=34;42:st=37;44:ex=01;32:*.tar=01;31:*.tgz=01;31:*.arc=01;31:*.arj=01;31:*.taz=01;31:*.lha=01;31:*.lz4=01;31:*.lzh=01;31:*.lzma=01;31:*.tlz=01;31:*.txz=01;31:*.tzo=01;31:*.t7z=01;31:*.zip=01;31:*.z=01;31:*.dz=01;31:*.gz=01;31:*.lrz=01;31:*.lz=01;31:*.lzo=01;31:*.xz=01;31:*.zst=01;31:*.tzst=01;31:*.bz2=01;31:*.bz=01;31:*.tbz=01;31:*.tbz2=01;31:*.tz=01;31:*.deb=01;31:*.rpm=01;31:*.jar=01;31:*.war=01;31:*.ear=01;31:*.sar=01;31:*.rar=01;31:*.alz=01;31:*.ace=01;31:*.zoo=01;31:*.cpio=01;31:*.7z=01;31:*.rz=01;31:*.cab=01;31:*.wim=01;31:*.swm=01;31:*.dwm=01;31:*.esd=01;31:*.avif=01;35:*.jpg=01;35:*.jpeg=01;35:*.mjpg=01;35:*.mjpeg=01;35:*.gif=01;35:*.bmp=01;35:*.pbm=01;35:*.pgm=01;35:*.ppm=01;35:*.tga=01;35:*.xbm=01;35:*.xpm=01;35:*.tif=01;35:*.tiff=01;35:*.png=01;35:*.svg=01;35:*.svgz=01;35:*.mng=01;35:*.pcx=01;35:*.mov=01;35:*.mpg=01;35:*.mpeg=01;35:*.m2v=01;35:*.mkv=01;35:*.webm=01;35:*.webp=01;35:*.ogm=01;35:*.mp4=01;35:*.m4v=01;35:*.mp4v=01;35:*.vob=01;35:*.qt=01;35:*.nuv=01;35:*.wmv=01;35:*.asf=01;35:*.rm=01;35:*.rmvb=01;35:*.flc=01;35:*.avi=01;35:*.fli=01;35:*.flv=01;35:*.gl=01;35:*.dl=01;35:*.xcf=01;35:*.xwd=01;35:*.yuv=01;35:*.cgm=01;35:*.emf=01;35:*.ogv=01;35:*.ogx=01;35:*.aac=01;36:*.au=01;36:*.flac=01;36:*.m4a=01;36:*.mid=01;36:*.midi=01;36:*.mka=01;36:*.mp3=01;36:*.mpc=01;36:*.ogg=01;36:*.ra=01;36:*.wav=01;36:*.oga=01;36:*.opus=01;36:*.spx=01;36:*.xspf=01;36:*~=00;90:*#=00;90:*.bak=00;90:*.old=00;90:*.orig=00;90:*.part=00;90:*.rej=00;90:*.swp=00;90:*.tmp=00;90:*.dpkg-dist=00;90:*.dpkg-old=00;90:*.ucf-dist=00;90:*.ucf-new=00;90:*.ucf-old=00;90:*.rpmnew=00;90:*.rpmorig=00;90:*.rpmsave=00;90:\", \"BASH_FUNC__module_raw%%=() {  eval \\\"\\$(/usr/bin/tclsh /usr/share/Modules/libexec/modulecmd.tcl bash \\\"\\$@\\\")\\\";\\n _mlstatus=\\$?;\\n return \\$_mlstatus\\n}\"]), ProcessExited(10))"
      ]
     },
     "execution_count": 46,
     "metadata": {},
     "output_type": "execute_result"
    }
   ],
   "source": [
    "out = Pipe()\n",
    "err = Pipe()\n",
    "status = run(pipeline(Cmd(`$cmd $filename`, ignorestatus=true), stdout=out, stderr=err))"
   ]
  },
  {
   "cell_type": "markdown",
   "id": "7649605e",
   "metadata": {},
   "source": [
    "This looks bulky, but apparently sat solvers will give a non-zero exit code even on success and we want to capture this instead of having to catch an error."
   ]
  },
  {
   "cell_type": "code",
   "execution_count": 47,
   "id": "51678624",
   "metadata": {},
   "outputs": [
    {
     "data": {
      "text/plain": [
       "10"
      ]
     },
     "execution_count": 47,
     "metadata": {},
     "output_type": "execute_result"
    }
   ],
   "source": [
    "status.exitcode"
   ]
  },
  {
   "cell_type": "code",
   "execution_count": 48,
   "id": "224124df",
   "metadata": {},
   "outputs": [],
   "source": [
    "close(out.in)\n",
    "close(err.in)"
   ]
  },
  {
   "cell_type": "code",
   "execution_count": 49,
   "id": "21b70bcf",
   "metadata": {},
   "outputs": [
    {
     "data": {
      "text/plain": [
       "Base.PipeEndpoint(RawFD(61) open, 0 bytes waiting)"
      ]
     },
     "execution_count": 49,
     "metadata": {},
     "output_type": "execute_result"
    }
   ],
   "source": [
    "out.out"
   ]
  },
  {
   "cell_type": "markdown",
   "id": "2c1bda37",
   "metadata": {},
   "source": [
    "Print the entire output:"
   ]
  },
  {
   "cell_type": "code",
   "execution_count": 50,
   "id": "205f2fba",
   "metadata": {
    "scrolled": true
   },
   "outputs": [
    {
     "data": {
      "text/plain": [
       "60-element Vector{String}:\n",
       " \"c ---- [ banner ] ------------------------------------------------------------\"\n",
       " \"c\"\n",
       " \"c Kissat SAT Solver\"\n",
       " \"c \"\n",
       " \"c Copyright (c) 2021-2022 Armin Biere University of Freiburg\"\n",
       " \"c Copyright (c) 2019-2021 Armin Biere Johannes Kepler University Linz\"\n",
       " \"c \"\n",
       " \"c Version 3.0.0 c25429fbce1b5c74d5372e39d681826b33ddaf18\"\n",
       " \"c cc -W -O -DNDEBUG -fpic \"\n",
       " \"c Mon Dec 5 20:39:39 UTC 2022 Linux amdci7 5.4.0-122-generic x86_64\"\n",
       " \"c\"\n",
       " \"c ---- [ parsing ] -----------------------------------------------------------\"\n",
       " \"c\"\n",
       " ⋮\n",
       " \"c conflicts:                                0                0.00 per second\"\n",
       " \"c decisions:                                2                0.00 per conflict\"\n",
       " \"c propagations:                             4             1987    per second\"\n",
       " \"c\"\n",
       " \"c ---- [ resources ] ---------------------------------------------------------\"\n",
       " \"c\"\n",
       " \"c maximum-resident-set-size:        549072896 bytes        524 MB\"\n",
       " \"c process-time:                                              0.00 seconds\"\n",
       " \"c\"\n",
       " \"c ---- [ shutting down ] -----------------------------------------------------\"\n",
       " \"c\"\n",
       " \"c exit 10\""
      ]
     },
     "execution_count": 50,
     "metadata": {},
     "output_type": "execute_result"
    }
   ],
   "source": [
    "outputlines = collect(eachline(out))"
   ]
  },
  {
   "cell_type": "markdown",
   "id": "96901b9c",
   "metadata": {},
   "source": [
    "Note that we can only call `eachline` once ont the output pipe. Afterward the result is gone, unless we save it to a variable. Now let us get at the interesting lines, there should be one starting with `s` giving us the status:"
   ]
  },
  {
   "cell_type": "code",
   "execution_count": 53,
   "id": "e8eeb604",
   "metadata": {},
   "outputs": [
    {
     "data": {
      "text/plain": [
       "\"s SATISFIABLE\""
      ]
     },
     "execution_count": 53,
     "metadata": {},
     "output_type": "execute_result"
    }
   ],
   "source": [
    "status = outputlines[findfirst(line -> line[1] == 's', outputlines)]"
   ]
  },
  {
   "cell_type": "code",
   "execution_count": 56,
   "id": "241b4792",
   "metadata": {},
   "outputs": [
    {
     "name": "stdout",
     "output_type": "stream",
     "text": [
      "v 1 2 3 -4 5 0\n"
     ]
    }
   ],
   "source": [
    "if status == \"s SATISFIABLE\"\n",
    "    solution = outputlines[findfirst(line -> line[1] == 'v', outputlines)]\n",
    "    println(solution)\n",
    "end"
   ]
  },
  {
   "cell_type": "code",
   "execution_count": null,
   "id": "7ebc5ada",
   "metadata": {},
   "outputs": [],
   "source": []
  }
 ],
 "metadata": {
  "kernelspec": {
   "display_name": "Julia 1.8.5",
   "language": "julia",
   "name": "julia-1.8"
  },
  "language_info": {
   "file_extension": ".jl",
   "mimetype": "application/julia",
   "name": "julia",
   "version": "1.8.5"
  }
 },
 "nbformat": 4,
 "nbformat_minor": 5
}
