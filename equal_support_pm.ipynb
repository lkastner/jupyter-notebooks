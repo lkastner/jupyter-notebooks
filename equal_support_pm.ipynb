{
 "cells": [
  {
   "cell_type": "markdown",
   "id": "3f67fd3b",
   "metadata": {},
   "source": [
    "# Check whether two fans have the same support\n",
    "\n",
    "Preconditions: Both fans are pure and full-dimensional.\n",
    "\n",
    "Note: This notebook is written to be understandable and work on small examples. It is by no means tuned for high performance, and it will most likely perform badly on big examples."
   ]
  },
  {
   "cell_type": "code",
   "execution_count": 1,
   "id": "644ce617",
   "metadata": {},
   "outputs": [],
   "source": [
    "application \"fan\";"
   ]
  },
  {
   "cell_type": "markdown",
   "id": "6d6e253f",
   "metadata": {},
   "source": [
    "We will proceed by example. Let us first make three fans, two of which have the same support."
   ]
  },
  {
   "cell_type": "code",
   "execution_count": 2,
   "id": "693a639d",
   "metadata": {},
   "outputs": [],
   "source": [
    "$f1 = new PolyhedralFan(INPUT_RAYS=>[[1,0],[-1,-1],[0,1]], INPUT_CONES=>[[0,1],[1,2]]);\n",
    "$f2 = new PolyhedralFan(INPUT_RAYS=>[[1,0],[0,-1],[-1,0],[0,1]], INPUT_CONES=>[[0,1],[1,2],[2,3]]);\n",
    "$f3 = normal_fan(cube(2));"
   ]
  },
  {
   "cell_type": "markdown",
   "id": "2c4b1d6e",
   "metadata": {},
   "source": [
    "The fans `$f1` and `f2` have the same support, which is the whole twodimensional space, without the positive orthant. In contrast, the fan `$f3` is complete."
   ]
  },
  {
   "cell_type": "markdown",
   "id": "cfdfb4b5",
   "metadata": {},
   "source": [
    "## Comparing `$f1` and `$f2`\n",
    "\n",
    "The first step is to compute the common refinement."
   ]
  },
  {
   "cell_type": "code",
   "execution_count": 3,
   "id": "18894060",
   "metadata": {},
   "outputs": [
    {
     "data": {
      "text/html": [
       "<details><summary><pre style=\"display:inline\"><small>Click here for additional output</small></pre></summary>\n",
       "<pre>\n",
       "polymake: used package cdd\n",
       "  cddlib\n",
       "  Implementation of the double description method of Motzkin et al.\n",
       "  Copyright by Komei Fukuda.\n",
       "  http://www-oldurls.inf.ethz.ch/personal/fukudak/cdd_home/\n",
       "\n",
       "</pre>\n",
       "</details>\n"
      ]
     },
     "metadata": {},
     "output_type": "display_data"
    }
   ],
   "source": [
    "$f12 = common_refinement($f1, $f2);"
   ]
  },
  {
   "cell_type": "markdown",
   "id": "1af90ed8",
   "metadata": {},
   "source": [
    "A simple first check is to see whether the common refinement is pure and full-dimensional too:"
   ]
  },
  {
   "cell_type": "code",
   "execution_count": 4,
   "id": "b2b3973d",
   "metadata": {},
   "outputs": [
    {
     "data": {
      "text/plain": [
       "Pure? true\n",
       "Full-dim? true\n"
      ]
     },
     "execution_count": 4,
     "metadata": {},
     "output_type": "execute_result"
    }
   ],
   "source": [
    "print \"Pure? \", $f12->PURE, \"\\n\";\n",
    "print \"Full-dim? \", $f12->FULL_DIM, \"\\n\";"
   ]
  },
  {
   "cell_type": "markdown",
   "id": "c8e2fd0e",
   "metadata": {},
   "source": [
    "Now the general procedure is easy to describe: We need to check that the common refinement covers all the cones of `$f1` and `$f2`. Since this is symmetric, we will only check for `$f1`. And we will only do so for the first maximal cone of `$f1`, before we assemble a general method."
   ]
  },
  {
   "cell_type": "code",
   "execution_count": 5,
   "id": "10ea8ca0",
   "metadata": {},
   "outputs": [],
   "source": [
    "$c1 = $f1->cone(0);"
   ]
  },
  {
   "cell_type": "markdown",
   "id": "9c1cf909",
   "metadata": {},
   "source": [
    "Now select those cones of `$f12` contained in `$c1`:"
   ]
  },
  {
   "cell_type": "code",
   "execution_count": 6,
   "id": "86b1c504",
   "metadata": {},
   "outputs": [
    {
     "data": {
      "text/plain": [
       "0,1\n"
      ]
     },
     "execution_count": 6,
     "metadata": {},
     "output_type": "execute_result"
    }
   ],
   "source": [
    "@cover = grep(included_polyhedra($f12->cone($_), $c1), 0..($f12->N_MAXIMAL_CONES-1));\n",
    "print join(\",\", @cover), \"\\n\";"
   ]
  },
  {
   "cell_type": "markdown",
   "id": "daa46d50",
   "metadata": {},
   "source": [
    "Next we write a small helper method that constructs us the facets of a cone as cones:"
   ]
  },
  {
   "cell_type": "code",
   "execution_count": 7,
   "id": "87b3446b",
   "metadata": {},
   "outputs": [],
   "source": [
    "sub facets_of_cone {\n",
    "    my $c = shift;\n",
    "    my @cfacets = @{$c->FACETS_THRU_RAYS};\n",
    "    my $R = $c->RAYS;\n",
    "    my $L = $c->LINEALITY_SPACE;\n",
    "    return map(new Cone(INPUT_RAYS=>$R->minor($_, All), INPUT_LINEALITY=>$L), @cfacets);\n",
    "}"
   ]
  },
  {
   "cell_type": "markdown",
   "id": "ef559ee6",
   "metadata": {},
   "source": [
    "The idea is now to collect all the facets of the covering cones, remove those that are contained in the facets of the original `$c1` and then checking that the remaining facets appear exactly twice. This is similar to the algorithm for checking completeness of a fan."
   ]
  },
  {
   "cell_type": "code",
   "execution_count": 8,
   "id": "1eb262cc",
   "metadata": {},
   "outputs": [
    {
     "data": {
      "text/plain": [
       "Total number of facets: 4\n"
      ]
     },
     "execution_count": 8,
     "metadata": {},
     "output_type": "execute_result"
    }
   ],
   "source": [
    "@covercones = map($f12->cone($_), @cover);\n",
    "@coverfacets = map(facets_of_cone($_), @covercones);\n",
    "@c1facets = facets_of_cone($c1);\n",
    "print \"Total number of facets: \", scalar(@coverfacets), \"\\n\";"
   ]
  },
  {
   "cell_type": "code",
   "execution_count": 9,
   "id": "f5506e80",
   "metadata": {},
   "outputs": [
    {
     "data": {
      "text/plain": [
       "There are 2 facets left\n"
      ]
     },
     "execution_count": 9,
     "metadata": {},
     "output_type": "execute_result"
    }
   ],
   "source": [
    "foreach my $facet (@c1facets){\n",
    "    @coverfacets = grep(!equal_polyhedra($_, $facet), @coverfacets);\n",
    "}\n",
    "print \"There are \", scalar(@coverfacets), \" facets left\\n\";"
   ]
  },
  {
   "cell_type": "code",
   "execution_count": 10,
   "id": "99269f79",
   "metadata": {},
   "outputs": [
    {
     "data": {
      "text/plain": [
       "Facet 0 has 1 copies\n"
      ]
     },
     "execution_count": 10,
     "metadata": {},
     "output_type": "execute_result"
    }
   ],
   "source": [
    "for(my $i=0; $i<scalar(@coverfacets)-1; $i++){\n",
    "    my $equals = 0;\n",
    "    my $facet1 = $coverfacets[$i];\n",
    "    for(my $j=$i+1; $j<scalar(@coverfacets); $j++){\n",
    "        my $facet2 = $coverfacets[$j];\n",
    "        if(equal_polyhedra($facet1, $facet2)){\n",
    "            $equals++;\n",
    "        }\n",
    "    }\n",
    "    print \"Facet $i has $equals copies\\n\";\n",
    "}"
   ]
  },
  {
   "cell_type": "markdown",
   "id": "43bfb27e",
   "metadata": {},
   "source": [
    "## General method\n",
    "\n",
    "We assemble the previous methods to give a general function."
   ]
  },
  {
   "cell_type": "code",
   "execution_count": 11,
   "id": "27c22b5c",
   "metadata": {},
   "outputs": [],
   "source": [
    "sub facets_of_cone {\n",
    "    my $c = shift;\n",
    "    my @cfacets = @{$c->FACETS_THRU_RAYS};\n",
    "    my $R = $c->RAYS;\n",
    "    my $L = $c->LINEALITY_SPACE;\n",
    "    return map(new Cone(INPUT_RAYS=>$R->minor($_, All), INPUT_LINEALITY=>$L), @cfacets);\n",
    "}\n",
    "\n",
    "sub cone_is_covered {\n",
    "    my($cone, $fan) = @_;\n",
    "    my @cover = grep(included_polyhedra($fan->cone($_), $cone), 0..($fan->N_MAXIMAL_CONES-1));\n",
    "    if(scalar(@cover) == 0){\n",
    "        # If there are no cones for covering then we must return false\n",
    "        return false;\n",
    "    }\n",
    "    my @covercones = map($fan->cone($_), @cover);\n",
    "    my @coverfacets = map(facets_of_cone($_), @covercones);\n",
    "    my @conefacets = facets_of_cone($cone);\n",
    "    foreach my $facet (@conefacets){\n",
    "        @coverfacets = grep(!equal_polyhedra($_, $facet), @coverfacets);\n",
    "    }\n",
    "    for(my $i=0; $i<scalar(@coverfacets)-1; $i++){\n",
    "        my $equals = 0;\n",
    "        my $facet1 = $coverfacets[$i];\n",
    "        for(my $j=$i+1; $j<scalar(@coverfacets); $j++){\n",
    "            my $facet2 = $coverfacets[$j];\n",
    "            if(equal_polyhedra($facet1, $facet2)){\n",
    "                $equals++;\n",
    "            }\n",
    "            if($equals > 1){\n",
    "                return false;\n",
    "            }\n",
    "        }\n",
    "        if($equals != 1){\n",
    "            return false;\n",
    "        }\n",
    "    }\n",
    "    return true;\n",
    "}\n",
    "\n",
    "sub fan_is_covered {\n",
    "    my($fan, $cover) = @_;\n",
    "    for(my $i=0; $i<$fan->N_MAXIMAL_CONES; $i++){\n",
    "        my $cone = $fan->cone($i);\n",
    "        if(!cone_is_covered($cone, $cover)){\n",
    "            return false;\n",
    "        }\n",
    "    }\n",
    "    return true;\n",
    "}\n",
    "\n",
    "sub equal_support{\n",
    "    my($f1, $f2) = @_;\n",
    "    # Not checking that $f1 and $f2 satisfy preconditions.\n",
    "    my $f12 = common_refinement($f1, $f2);\n",
    "    if(!fan_is_covered($f1, $f12)){\n",
    "        return false;\n",
    "    }\n",
    "    return fan_is_covered($f2, $f12);\n",
    "}"
   ]
  },
  {
   "cell_type": "code",
   "execution_count": 12,
   "id": "b5d56cba",
   "metadata": {},
   "outputs": [
    {
     "data": {
      "text/plain": [
       "$f1 and $f2: true\n",
       "$f1 and $f3: false\n",
       "$f2 and $f3: false\n"
      ]
     },
     "execution_count": 12,
     "metadata": {},
     "output_type": "execute_result"
    }
   ],
   "source": [
    "print \"\\$f1 and \\$f2: \", equal_support($f1, $f2), \"\\n\";\n",
    "print \"\\$f1 and \\$f3: \", equal_support($f1, $f3), \"\\n\";\n",
    "print \"\\$f2 and \\$f3: \", equal_support($f2, $f3), \"\\n\";"
   ]
  },
  {
   "cell_type": "code",
   "execution_count": null,
   "id": "2e41e7e2",
   "metadata": {},
   "outputs": [],
   "source": []
  },
  {
   "cell_type": "code",
   "execution_count": null,
   "id": "519fe101",
   "metadata": {},
   "outputs": [],
   "source": []
  }
 ],
 "metadata": {
  "kernelspec": {
   "display_name": "polymake-4.4.1",
   "language": "polymake",
   "name": "polymake"
  },
  "language_info": {
   "codemirror_mode": "perl",
   "file_extension": ".pl",
   "mimetype": "text/x-polymake",
   "name": "polymake"
  }
 },
 "nbformat": 4,
 "nbformat_minor": 5
}
