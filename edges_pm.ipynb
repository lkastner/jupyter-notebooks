{
 "cells": [
  {
   "cell_type": "markdown",
   "metadata": {},
   "source": [
    "# Edges of a polytope\n",
    "\n",
    "We just make a cube and ask for its edges."
   ]
  },
  {
   "cell_type": "code",
   "execution_count": 1,
   "metadata": {},
   "outputs": [],
   "source": [
    "$c = cube(3);"
   ]
  },
  {
   "cell_type": "markdown",
   "metadata": {},
   "source": [
    "The following gives the edges of the cube as index sets of the vertices. I.e. the entry $\\{0 1\\}$ means there is an edge between the 0th vertex and the first vertex."
   ]
  },
  {
   "cell_type": "code",
   "execution_count": 3,
   "metadata": {},
   "outputs": [
    {
     "data": {
      "text/plain": [
       "{0 1}\n",
       "{0 2}\n",
       "{1 3}\n",
       "{2 3}\n",
       "{0 4}\n",
       "{1 5}\n",
       "{4 5}\n",
       "{2 6}\n",
       "{4 6}\n",
       "{3 7}\n",
       "{5 7}\n",
       "{6 7}\n"
      ]
     },
     "execution_count": 3,
     "metadata": {},
     "output_type": "execute_result"
    }
   ],
   "source": [
    "print $c->GRAPH->EDGES;"
   ]
  },
  {
   "cell_type": "markdown",
   "metadata": {},
   "source": [
    "You can access this in the following way:"
   ]
  },
  {
   "cell_type": "code",
   "execution_count": 6,
   "metadata": {},
   "outputs": [
    {
     "data": {
      "text/plain": [
       "{0 1}\n",
       "Set<Int>\n",
       "0 1\n"
      ]
     },
     "execution_count": 6,
     "metadata": {},
     "output_type": "execute_result"
    }
   ],
   "source": [
    "$E = $c->GRAPH->EDGES;\n",
    "print $E->[0],\"\\n\";\n",
    "$first = $E->[0];\n",
    "print $first->type->full_name,\"\\n\";\n",
    "print $first->front,\" \",$first->back,\"\\n\";"
   ]
  },
  {
   "cell_type": "markdown",
   "metadata": {},
   "source": [
    "You can also get a matrix of edge directions:"
   ]
  },
  {
   "cell_type": "code",
   "execution_count": 7,
   "metadata": {},
   "outputs": [
    {
     "data": {
      "text/plain": [
       "0 -2 0 0\n",
       "0 0 -2 0\n",
       "0 0 -2 0\n",
       "0 -2 0 0\n",
       "0 0 0 -2\n",
       "0 0 0 -2\n",
       "0 -2 0 0\n",
       "0 0 0 -2\n",
       "0 0 -2 0\n",
       "0 0 0 -2\n",
       "0 0 -2 0\n",
       "0 -2 0 0\n"
      ]
     },
     "execution_count": 7,
     "metadata": {},
     "output_type": "execute_result"
    }
   ],
   "source": [
    "print $c->GRAPH->EDGE_DIRECTIONS;"
   ]
  },
  {
   "cell_type": "code",
   "execution_count": null,
   "metadata": {},
   "outputs": [],
   "source": []
  }
 ],
 "metadata": {
  "kernelspec": {
   "display_name": "polymake-4.4.1",
   "language": "polymake",
   "name": "polymake"
  },
  "language_info": {
   "codemirror_mode": "perl",
   "file_extension": ".pl",
   "mimetype": "text/x-polymake",
   "name": "polymake"
  }
 },
 "nbformat": 4,
 "nbformat_minor": 4
}
