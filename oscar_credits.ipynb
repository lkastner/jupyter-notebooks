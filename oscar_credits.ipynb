{
 "cells": [
  {
   "cell_type": "markdown",
   "metadata": {},
   "source": [
    "# Sketch of handling credits to other software in Oscar/Julia\n",
    "\n",
    "\n",
    "We want to give proper credit to other software used. To this end we introduce a `Credits` struct that retains the information of the credits we want to display.\n",
    "\n",
    "- Printing of the credits can be enabled on demand with a macro `@print_credits`.\n",
    "- Credits are only printed once.\n",
    "- Another macro will offer the possibility to collect all credits in a specific computation.\n",
    "\n",
    "I suspect that not every dev is happy if we suddenly spew credits everywhere. Nevertheless, if later in the refereeing Oscar code appears, referees can use this approach to find missing references."
   ]
  },
  {
   "cell_type": "code",
   "execution_count": 1,
   "metadata": {},
   "outputs": [],
   "source": [
    "using MacroTools"
   ]
  },
  {
   "cell_type": "code",
   "execution_count": 2,
   "metadata": {},
   "outputs": [],
   "source": [
    "struct Credits\n",
    "    name::String\n",
    "    bibtex::String\n",
    "end"
   ]
  },
  {
   "cell_type": "markdown",
   "metadata": {},
   "source": [
    "With the `MutableBool`, we can now check whether the credits were already displayed or not, and only diplay them once."
   ]
  },
  {
   "cell_type": "code",
   "execution_count": 3,
   "metadata": {},
   "outputs": [
    {
     "data": {
      "text/plain": [
       "display_credits (generic function with 1 method)"
      ]
     },
     "execution_count": 3,
     "metadata": {},
     "output_type": "execute_result"
    }
   ],
   "source": [
    "function default_display_credits(cr::Credits, func::String)\n",
    "    # Do nothing, when not asked.\n",
    "end\n",
    "\n",
    "# Internally every annotated function will have this function prepended.\n",
    "display_credits(cr::Credits, func::String) = default_display_credits(cr::Credits, func::String)"
   ]
  },
  {
   "cell_type": "markdown",
   "metadata": {},
   "source": [
    "Every function that should have credits will be prepended with the `display_credits` function. As a default this will just do nothing. The other macros then work by changing the behavior of `display_credits` temporarily."
   ]
  },
  {
   "cell_type": "code",
   "execution_count": 4,
   "metadata": {},
   "outputs": [
    {
     "data": {
      "text/plain": [
       "Credits(\"credits of B\", \"bibtex of credits of B\")"
      ]
     },
     "execution_count": 4,
     "metadata": {},
     "output_type": "execute_result"
    }
   ],
   "source": [
    "creditsA = Credits(\"credits of A\", \"bibtex of credits of A\")\n",
    "creditsB = Credits(\"credits of B\", \"bibtex of credits of B\")"
   ]
  },
  {
   "cell_type": "markdown",
   "metadata": {},
   "source": [
    "As default, nothing happens."
   ]
  },
  {
   "cell_type": "code",
   "execution_count": 5,
   "metadata": {},
   "outputs": [],
   "source": [
    "display_credits(creditsA, \"ggg\")"
   ]
  },
  {
   "cell_type": "markdown",
   "metadata": {},
   "source": [
    "Then we can attach the credits to functions with a macro. The following is a modified copy of the `@attr` macro of `AbstractAlgebra.jl`."
   ]
  },
  {
   "cell_type": "code",
   "execution_count": 6,
   "metadata": {},
   "outputs": [
    {
     "data": {
      "text/plain": [
       "@annotate_credits (macro with 1 method)"
      ]
     },
     "execution_count": 6,
     "metadata": {},
     "output_type": "execute_result"
    }
   ],
   "source": [
    "macro annotate_credits(ex1, exs...)\n",
    "    # TODO: Is there some nicer way to pass on the Credits object?\n",
    "    credits = eval(ex1)\n",
    "    isa(credits, Credits) || error(\"First argument must be credits.\")\n",
    "\n",
    "    if length(exs) == 0\n",
    "        throw(ArgumentError(\"Too few macro arguments\"))\n",
    "    else\n",
    "        expr = exs[1]\n",
    "    end\n",
    "    d = MacroTools.splitdef(expr)\n",
    "\n",
    "    # store the original function name\n",
    "    name = d[:name]\n",
    "\n",
    "    # take the original function and rename it; use a unique name to ensure\n",
    "    # there are no clashes caused by spurious additional methods\n",
    "    compute_name = gensym(\"compute_$(name)\")\n",
    "    compute_def = copy(d)\n",
    "    compute_def[:name] = compute_name\n",
    "    compute = MacroTools.combinedef(compute_def)\n",
    "\n",
    "    argname = d[:args][1]\n",
    "    wrapper_def = copy(d)\n",
    "    wrapper_def[:name] = name\n",
    "    wrapper_def[:body] = quote\n",
    "        # TODO: Do not pass string here, but symbol instead?\n",
    "        display_credits($credits, string($name))\n",
    "        return $(compute_name)($argname)\n",
    "    end\n",
    "    # insert the correct line number, so that `functionloc(name)` works correctly\n",
    "    wrapper_def[:body].args[1] = __source__\n",
    "    wrapper = MacroTools.combinedef(wrapper_def)\n",
    "\n",
    "    result = quote\n",
    "        $(compute)\n",
    "        Base.@__doc__ $(wrapper)\n",
    "    end\n",
    "\n",
    "    return esc(result)\n",
    "end\n"
   ]
  },
  {
   "cell_type": "code",
   "execution_count": 7,
   "metadata": {},
   "outputs": [
    {
     "data": {
      "text/plain": [
       "h (generic function with 1 method)"
      ]
     },
     "execution_count": 7,
     "metadata": {},
     "output_type": "execute_result"
    }
   ],
   "source": [
    "@annotate_credits creditsA function g(x::Int)\n",
    "    2*x\n",
    "end\n",
    "\n",
    "@annotate_credits creditsB function h(x::Int)\n",
    "    5*x\n",
    "end"
   ]
  },
  {
   "cell_type": "code",
   "execution_count": 8,
   "metadata": {},
   "outputs": [
    {
     "data": {
      "text/plain": [
       "4"
      ]
     },
     "execution_count": 8,
     "metadata": {},
     "output_type": "execute_result"
    }
   ],
   "source": [
    "g(2)"
   ]
  },
  {
   "cell_type": "code",
   "execution_count": 9,
   "metadata": {},
   "outputs": [
    {
     "data": {
      "text/plain": [
       "6"
      ]
     },
     "execution_count": 9,
     "metadata": {},
     "output_type": "execute_result"
    }
   ],
   "source": [
    "g(3)"
   ]
  },
  {
   "cell_type": "markdown",
   "metadata": {},
   "source": [
    "## @print_credits\n",
    "\n",
    "We make a macro that temporarily changes the `display_credits` function to print something."
   ]
  },
  {
   "cell_type": "code",
   "execution_count": 10,
   "metadata": {},
   "outputs": [
    {
     "data": {
      "text/plain": [
       "@print_credits (macro with 1 method)"
      ]
     },
     "execution_count": 10,
     "metadata": {},
     "output_type": "execute_result"
    }
   ],
   "source": [
    "macro print_credits(exp)\n",
    "    tmp = quote\n",
    "        DisplayedCredits = Set{Credits}()\n",
    "        function display_credits(cr::Credits, func::String)\n",
    "            if !(cr in DisplayedCredits)\n",
    "                push!(DisplayedCredits, cr)\n",
    "                println(\"Using $(cr.name)\")\n",
    "                println(\"in function $(func)\")\n",
    "            end\n",
    "        end\n",
    "        result = $exp\n",
    "        display_credits(cr::Credits, func::String) = default_display_credits(cr::Credits, func::String)\n",
    "        result\n",
    "    end\n",
    "    return esc(tmp)\n",
    "end"
   ]
  },
  {
   "cell_type": "markdown",
   "metadata": {},
   "source": [
    "Displays credits correctly:"
   ]
  },
  {
   "cell_type": "code",
   "execution_count": 11,
   "metadata": {},
   "outputs": [
    {
     "name": "stdout",
     "output_type": "stream",
     "text": [
      "Using credits of A\n",
      "in function g\n"
     ]
    },
    {
     "data": {
      "text/plain": [
       "6"
      ]
     },
     "execution_count": 11,
     "metadata": {},
     "output_type": "execute_result"
    }
   ],
   "source": [
    "@print_credits g(3)"
   ]
  },
  {
   "cell_type": "markdown",
   "metadata": {},
   "source": [
    "And only once:"
   ]
  },
  {
   "cell_type": "code",
   "execution_count": 12,
   "metadata": {},
   "outputs": [
    {
     "name": "stdout",
     "output_type": "stream",
     "text": [
      "Using credits of A\n",
      "in function g\n"
     ]
    },
    {
     "data": {
      "text/plain": [
       "12"
      ]
     },
     "execution_count": 12,
     "metadata": {},
     "output_type": "execute_result"
    }
   ],
   "source": [
    "@print_credits g(g(3))"
   ]
  },
  {
   "cell_type": "markdown",
   "metadata": {},
   "source": [
    "Multiple credits:"
   ]
  },
  {
   "cell_type": "code",
   "execution_count": 13,
   "metadata": {},
   "outputs": [
    {
     "name": "stdout",
     "output_type": "stream",
     "text": [
      "Using credits of A\n",
      "in function g\n",
      "Using credits of B\n",
      "in function h\n"
     ]
    },
    {
     "data": {
      "text/plain": [
       "30"
      ]
     },
     "execution_count": 13,
     "metadata": {},
     "output_type": "execute_result"
    }
   ],
   "source": [
    "@print_credits h(g(3))"
   ]
  },
  {
   "cell_type": "markdown",
   "metadata": {},
   "source": [
    "Back to default:"
   ]
  },
  {
   "cell_type": "code",
   "execution_count": 14,
   "metadata": {},
   "outputs": [
    {
     "data": {
      "text/plain": [
       "25"
      ]
     },
     "execution_count": 14,
     "metadata": {},
     "output_type": "execute_result"
    }
   ],
   "source": [
    "h(5)"
   ]
  },
  {
   "cell_type": "markdown",
   "metadata": {},
   "source": [
    "## @collect_credits"
   ]
  },
  {
   "cell_type": "code",
   "execution_count": 15,
   "metadata": {},
   "outputs": [
    {
     "data": {
      "text/plain": [
       "@collect_credits (macro with 1 method)"
      ]
     },
     "execution_count": 15,
     "metadata": {},
     "output_type": "execute_result"
    }
   ],
   "source": [
    "macro collect_credits(exp)\n",
    "    tmp = quote\n",
    "        CollectedCredits = Dict{Credits, Set{String}}()\n",
    "        function display_credits(cr::Credits, func::String)\n",
    "            if !haskey(CollectedCredits, cr)\n",
    "                CollectedCredits[cr] = Set{String}([func])\n",
    "            else\n",
    "                push!(CollectedCredits[cr], func)\n",
    "            end\n",
    "        end\n",
    "        result = $exp\n",
    "        display_credits(cr::Credits, func::String) = default_display_credits(cr::Credits, func::String)\n",
    "        CollectedCredits, result\n",
    "    end\n",
    "    return esc(tmp)\n",
    "end"
   ]
  },
  {
   "cell_type": "code",
   "execution_count": 16,
   "metadata": {},
   "outputs": [
    {
     "data": {
      "text/plain": [
       "gh (generic function with 1 method)"
      ]
     },
     "execution_count": 16,
     "metadata": {},
     "output_type": "execute_result"
    }
   ],
   "source": [
    "gh(a) = g(h(a))"
   ]
  },
  {
   "cell_type": "code",
   "execution_count": 17,
   "metadata": {},
   "outputs": [
    {
     "data": {
      "text/plain": [
       "(Dict{Credits, Set{String}}(Credits(\"credits of B\", \"bibtex of credits of B\") => Set([\"h\"]), Credits(\"credits of A\", \"bibtex of credits of A\") => Set([\"g\"])), 30)"
      ]
     },
     "execution_count": 17,
     "metadata": {},
     "output_type": "execute_result"
    }
   ],
   "source": [
    "CC,R = @collect_credits gh(3)"
   ]
  },
  {
   "cell_type": "code",
   "execution_count": 18,
   "metadata": {},
   "outputs": [
    {
     "data": {
      "text/plain": [
       "Dict{Credits, Set{String}} with 2 entries:\n",
       "  Credits(\"credits of B\", \"bibtex of credits of B\") => Set([\"h\"])\n",
       "  Credits(\"credits of A\", \"bibtex of credits of A\") => Set([\"g\"])"
      ]
     },
     "execution_count": 18,
     "metadata": {},
     "output_type": "execute_result"
    }
   ],
   "source": [
    "CC"
   ]
  },
  {
   "cell_type": "markdown",
   "metadata": {},
   "source": [
    "The advantage is that the user can even track the location of the usage of the external software."
   ]
  }
 ],
 "metadata": {
  "kernelspec": {
   "display_name": "Julia 1.7.2",
   "language": "julia",
   "name": "julia-1.7"
  },
  "language_info": {
   "file_extension": ".jl",
   "mimetype": "application/julia",
   "name": "julia",
   "version": "1.7.2"
  }
 },
 "nbformat": 4,
 "nbformat_minor": 4
}
