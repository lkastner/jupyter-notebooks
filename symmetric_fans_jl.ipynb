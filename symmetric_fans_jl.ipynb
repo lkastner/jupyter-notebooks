{
 "cells": [
  {
   "cell_type": "code",
   "execution_count": 1,
   "id": "26e57578",
   "metadata": {},
   "outputs": [
    {
     "name": "stdout",
     "output_type": "stream",
     "text": [
      " -----    -----    -----      -      -----   \n",
      "|     |  |     |  |     |    | |    |     |  \n",
      "|     |  |        |         |   |   |     |  \n",
      "|     |   -----   |        |     |  |-----   \n",
      "|     |        |  |        |-----|  |   |    \n",
      "|     |  |     |  |     |  |     |  |    |   \n",
      " -----    -----    -----   -     -  -     -  \n",
      "\n",
      "...combining (and extending) ANTIC, GAP, Polymake and Singular\n",
      "Version\u001b[32m 0.5.3-DEV \u001b[39m... \n",
      " ... which comes with absolutely no warranty whatsoever\n",
      "Type: '?Oscar' for more information\n",
      "(c) 2019-2021 by The Oscar Development Team\n"
     ]
    }
   ],
   "source": [
    "using Oscar"
   ]
  },
  {
   "cell_type": "markdown",
   "id": "22cfb3ec",
   "metadata": {},
   "source": [
    "# Make fan from scratch in polymake\n",
    "First make the data in Julia"
   ]
  },
  {
   "cell_type": "code",
   "execution_count": 40,
   "id": "272b321b",
   "metadata": {},
   "outputs": [
    {
     "data": {
      "text/html": [
       "[[$0$, $2$]]"
      ],
      "text/plain": [
       "1-element Vector{Vector{Int64}}:\n",
       " [0, 2]"
      ]
     },
     "execution_count": 40,
     "metadata": {},
     "output_type": "execute_result"
    }
   ],
   "source": [
    "rays = [1 0; -1 0; 0 1; 0 -1]\n",
    "gens = [[1,0,3,2],[2,3,1,0]]\n",
    "mc_reps = [[0,2]]"
   ]
  },
  {
   "cell_type": "markdown",
   "id": "95ca48eb",
   "metadata": {},
   "source": [
    "Now convert to polymake types. This is important, since we cannot specify the `GROUP` properties via the usual constructor. Instead we have to use polymakes `take` syntax."
   ]
  },
  {
   "cell_type": "code",
   "execution_count": 41,
   "id": "bae1825c",
   "metadata": {},
   "outputs": [
    {
     "data": {
      "text/plain": [
       "pm::Array<pm::Array<long>>\n",
       "0 2\n"
      ]
     },
     "execution_count": 41,
     "metadata": {},
     "output_type": "execute_result"
    }
   ],
   "source": [
    "pm_rays = Polymake.Matrix(rays)\n",
    "pm_gens = @Polymake.convert_to Array{Array{Int}} gens\n",
    "pm_mc_reps = @Polymake.convert_to Array{Array{Int}} mc_reps"
   ]
  },
  {
   "cell_type": "markdown",
   "id": "bf04629f",
   "metadata": {},
   "source": [
    "Now plug together the fan."
   ]
  },
  {
   "cell_type": "code",
   "execution_count": 42,
   "id": "be5d781d",
   "metadata": {},
   "outputs": [
    {
     "data": {
      "text/html": [
       "<dl> <dt>type</dt><dd> PolyhedralFan<Rational></dd> </dl>   <details>\n",
       "       <summary style='display:list-item;'>GROUP</summary>\n",
       "       <pre>type: Group as PolyhedralFan<Rational>::GROUP</pre>\n",
       "   </details>\n",
       "\n",
       "   <details>\n",
       "       <summary style='display:list-item;'>RAYS</summary>\n",
       "       <pre>1 0\n",
       "-1 0\n",
       "0 1\n",
       "0 -1</pre>\n",
       "   </details>\n"
      ],
      "text/plain": [
       "type: PolyhedralFan<Rational>\n",
       "\n",
       "GROUP\n",
       "\ttype: Group as PolyhedralFan<Rational>::GROUP\n",
       "\n",
       "RAYS\n",
       "\t1 0\n",
       "\t-1 0\n",
       "\t0 1\n",
       "\t0 -1\n"
      ]
     },
     "execution_count": 42,
     "metadata": {},
     "output_type": "execute_result"
    }
   ],
   "source": [
    "pf = Polymake.fan.PolyhedralFan()\n",
    "Polymake.take(pf, \"RAYS\", pm_rays)\n",
    "Polymake.take(pf, \"GROUP.REPRESENTATIVE_MAXIMAL_CONES\", pm_mc_reps)\n",
    "Polymake.take(pf, \"GROUP.RAYS_ACTION.GENERATORS\", pm_gens)\n",
    "pf"
   ]
  },
  {
   "cell_type": "code",
   "execution_count": 43,
   "id": "76ffdbb5",
   "metadata": {},
   "outputs": [
    {
     "data": {
      "text/html": [
       "<dl> <dt>type</dt><dd> Group as PolyhedralFan<Rational>::GROUP</dd> </dl>   <details>\n",
       "       <summary style='display:list-item;'>RAYS_ACTION</summary>\n",
       "       <pre>type: PermutationAction<Int, Rational></pre>\n",
       "   </details>\n",
       "\n",
       "   <details>\n",
       "       <summary style='display:list-item;'>REPRESENTATIVE_MAXIMAL_CONES</summary>\n",
       "       <pre>{0 2}</pre>\n",
       "   </details>\n"
      ],
      "text/plain": [
       "type: Group as PolyhedralFan<Rational>::GROUP\n",
       "\n",
       "RAYS_ACTION\n",
       "\ttype: PermutationAction<Int, Rational>\n",
       "\n",
       "REPRESENTATIVE_MAXIMAL_CONES\n",
       "\t{0 2}\n"
      ]
     },
     "execution_count": 43,
     "metadata": {},
     "output_type": "execute_result"
    }
   ],
   "source": [
    "pf.GROUP"
   ]
  },
  {
   "cell_type": "code",
   "execution_count": 44,
   "id": "105be166",
   "metadata": {},
   "outputs": [
    {
     "data": {
      "text/plain": [
       "pm::Vector<pm::Integer>\n",
       "4 4"
      ]
     },
     "execution_count": 44,
     "metadata": {},
     "output_type": "execute_result"
    }
   ],
   "source": [
    "pf.F_VECTOR"
   ]
  },
  {
   "cell_type": "code",
   "execution_count": 45,
   "id": "f426bd9c",
   "metadata": {},
   "outputs": [
    {
     "data": {
      "text/html": [
       "$3$"
      ],
      "text/plain": [
       "3"
      ]
     },
     "execution_count": 45,
     "metadata": {},
     "output_type": "execute_result"
    }
   ],
   "source": [
    "pf.FAN_DIM"
   ]
  },
  {
   "cell_type": "code",
   "execution_count": 46,
   "id": "13aef01a",
   "metadata": {},
   "outputs": [
    {
     "name": "stderr",
     "output_type": "stream",
     "text": [
      "polymake:  WARNING: available properties insufficient to compute 'MAXIMAL_CONES'\n"
     ]
    }
   ],
   "source": [
    "pf.MAXIMAL_CONES"
   ]
  },
  {
   "cell_type": "markdown",
   "id": "be5cb79b",
   "metadata": {},
   "source": [
    "We see that polymake cannot compute the maximal cones. This is due to the fact that there is no rule that expands these orbits."
   ]
  },
  {
   "cell_type": "code",
   "execution_count": 47,
   "id": "795eac17",
   "metadata": {},
   "outputs": [
    {
     "data": {
      "text/html": [
       "<dl> <dt>type</dt><dd> PolyhedralFan<Rational></dd> </dl>   <details>\n",
       "       <summary style='display:list-item;'>COMBINATORIAL_DIM</summary>\n",
       "       <pre>2</pre>\n",
       "   </details>\n",
       "\n",
       "   <details>\n",
       "       <summary style='display:list-item;'>FAN_DIM</summary>\n",
       "       <pre>3</pre>\n",
       "   </details>\n",
       "\n",
       "   <details>\n",
       "       <summary style='display:list-item;'>F_VECTOR</summary>\n",
       "       <pre>4 4</pre>\n",
       "   </details>\n",
       "\n",
       "   <details>\n",
       "       <summary style='display:list-item;'>GROUP</summary>\n",
       "       <pre>type: Group as PolyhedralFan<Rational>::GROUP</pre>\n",
       "   </details>\n",
       "\n",
       "   <details>\n",
       "       <summary style='display:list-item;'>LINEALITY_DIM</summary>\n",
       "       <pre>0</pre>\n",
       "   </details>\n",
       "\n",
       "   <details>\n",
       "       <summary style='display:list-item;'>LINEALITY_SPACE</summary>\n",
       "       <pre></pre>\n",
       "   </details>\n",
       "\n",
       "   <details>\n",
       "       <summary style='display:list-item;'>MAXIMAL_CONES</summary>\n",
       "       <pre>==UNDEF==</pre>\n",
       "   </details>\n",
       "\n",
       "   <details>\n",
       "       <summary style='display:list-item;'>PURE</summary>\n",
       "       <pre>true</pre>\n",
       "   </details>\n",
       "\n",
       "   <details>\n",
       "       <summary style='display:list-item;'>RAYS</summary>\n",
       "       <pre>1 0\n",
       "-1 0\n",
       "0 1\n",
       "0 -1</pre>\n",
       "   </details>\n"
      ],
      "text/plain": [
       "type: PolyhedralFan<Rational>\n",
       "\n",
       "COMBINATORIAL_DIM\n",
       "\t2\n",
       "\n",
       "FAN_DIM\n",
       "\t3\n",
       "\n",
       "F_VECTOR\n",
       "\t4 4\n",
       "\n",
       "GROUP\n",
       "\ttype: Group as PolyhedralFan<Rational>::GROUP\n",
       "\n",
       "LINEALITY_DIM\n",
       "\t0\n",
       "\n",
       "LINEALITY_SPACE\n",
       "\t\n",
       "\n",
       "MAXIMAL_CONES\n",
       "\t==UNDEF==\n",
       "\n",
       "PURE\n",
       "\ttrue\n",
       "\n",
       "RAYS\n",
       "\t1 0\n",
       "\t-1 0\n",
       "\t0 1\n",
       "\t0 -1\n"
      ]
     },
     "execution_count": 47,
     "metadata": {},
     "output_type": "execute_result"
    }
   ],
   "source": [
    "pf"
   ]
  },
  {
   "cell_type": "code",
   "execution_count": null,
   "id": "f7de3e00",
   "metadata": {},
   "outputs": [],
   "source": []
  }
 ],
 "metadata": {
  "kernelspec": {
   "display_name": "Julia 1.6.1",
   "language": "julia",
   "name": "julia-1.6"
  },
  "language_info": {
   "file_extension": ".jl",
   "mimetype": "application/julia",
   "name": "julia",
   "version": "1.6.1"
  }
 },
 "nbformat": 4,
 "nbformat_minor": 5
}
