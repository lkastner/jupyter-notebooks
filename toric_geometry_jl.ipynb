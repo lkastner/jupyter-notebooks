{
 "cells": [
  {
   "cell_type": "markdown",
   "metadata": {},
   "source": [
    "# Toric geometry in `Oscar.jl`\n",
    "\n",
    "This notebook gives an overview of functionality in `Oscar.jl` that is relevant to toric geometry. It is divided into two parts, one on polyhedral geometry and one on toric geometry.\n",
    "\n",
    "We will mainly deal with *normal* toric varieties, since these correspond to combinatorially \"easy\" objects."
   ]
  },
  {
   "cell_type": "code",
   "execution_count": 3,
   "metadata": {},
   "outputs": [],
   "source": [
    "using Oscar"
   ]
  },
  {
   "cell_type": "markdown",
   "metadata": {},
   "source": [
    "## Polyhedral geometry\n",
    "\n",
    "The main objects one needs on the polyhedral side are cones, fans, and polyhedra. We will give a short overview on how to construct these and ask for various properties."
   ]
  },
  {
   "cell_type": "markdown",
   "metadata": {},
   "source": [
    "### Cones\n",
    "\n",
    "We will make the cone associated to the two-dimensional cyclic quotient singularity $Y_{2,5}$. You can just take the following as a definition."
   ]
  },
  {
   "cell_type": "code",
   "execution_count": 6,
   "metadata": {},
   "outputs": [
    {
     "data": {
      "text/plain": [
       "2-element VectorIterator{RayVector{Polymake.Rational}}:\n",
       " [-1, 5/2]\n",
       " [1, 0]"
      ]
     },
     "execution_count": 6,
     "metadata": {},
     "output_type": "execute_result"
    }
   ],
   "source": [
    "Y_2_5 = positive_hull([-2 5; 1 0])\n",
    "rays(Y_2_5)"
   ]
  },
  {
   "cell_type": "code",
   "execution_count": 7,
   "metadata": {},
   "outputs": [
    {
     "data": {
      "text/plain": [
       "2-element HalfspaceIterator{Halfspace}:\n",
       " The Halfspace of R^2 described by\n",
       "1: -5*x₁ - 2*x₂ ≦ 0\n",
       "\n",
       " The Halfspace of R^2 described by\n",
       "1: -x₂ ≦ 0\n"
      ]
     },
     "execution_count": 7,
     "metadata": {},
     "output_type": "execute_result"
    }
   ],
   "source": [
    "facets(Y_2_5)"
   ]
  },
  {
   "cell_type": "markdown",
   "metadata": {},
   "source": [
    "To dualize the cone, one needs to access `polymake` functionality directly. This will be wrapped in the future, however it is useful to demonstrate how this can be done for any other functionality that you might encounter which is not attached yet."
   ]
  },
  {
   "cell_type": "code",
   "execution_count": 11,
   "metadata": {},
   "outputs": [
    {
     "data": {
      "text/plain": [
       "A polyhedral cone in ambient dimension 2"
      ]
     },
     "execution_count": 11,
     "metadata": {},
     "output_type": "execute_result"
    }
   ],
   "source": [
    "Y_2_5_dual = Cone(Polymake.polytope.polarize(Y_2_5.pm_cone))"
   ]
  },
  {
   "cell_type": "code",
   "execution_count": 12,
   "metadata": {},
   "outputs": [
    {
     "data": {
      "text/plain": [
       "2-element VectorIterator{RayVector{Polymake.Rational}}:\n",
       " [1, 2/5]\n",
       " [0, 1]"
      ]
     },
     "execution_count": 12,
     "metadata": {},
     "output_type": "execute_result"
    }
   ],
   "source": [
    "rays(Y_2_5_dual)"
   ]
  },
  {
   "cell_type": "markdown",
   "metadata": {},
   "source": [
    "The Hilbert basis of the dual cone gives rise to the toric ideal defining `Y_{2,5}`."
   ]
  },
  {
   "cell_type": "code",
   "execution_count": 13,
   "metadata": {},
   "outputs": [
    {
     "data": {
      "text/plain": [
       "4-element VectorIterator{PointVector{Polymake.Integer}}:\n",
       " [5, 2]\n",
       " [0, 1]\n",
       " [2, 1]\n",
       " [1, 1]"
      ]
     },
     "execution_count": 13,
     "metadata": {},
     "output_type": "execute_result"
    }
   ],
   "source": [
    "hilbert_basis(Y_2_5_dual)"
   ]
  },
  {
   "cell_type": "markdown",
   "metadata": {},
   "source": [
    "Again to get at the toric ideal one currently has to go via `polymake`'s property system. This will also be wrapped in the future."
   ]
  },
  {
   "cell_type": "code",
   "execution_count": 15,
   "metadata": {},
   "outputs": [
    {
     "data": {
      "text/plain": [
       "pm::Matrix<long>\n",
       "-1 -1 2 1\n",
       "-1 0 3 -1\n",
       "0 -1 -1 2\n"
      ]
     },
     "execution_count": 15,
     "metadata": {},
     "output_type": "execute_result"
    }
   ],
   "source": [
    "Y_2_5_dual.pm_cone.CONE_TORIC_IDEAL.BINOMIAL_GENERATORS"
   ]
  },
  {
   "cell_type": "markdown",
   "metadata": {},
   "source": [
    "### Polyhedra\n",
    "\n",
    "We start by constructing a polyhedron as the convex hull of some points and then ask for some properties of it."
   ]
  },
  {
   "cell_type": "code",
   "execution_count": 16,
   "metadata": {},
   "outputs": [
    {
     "data": {
      "text/plain": [
       "6-element VectorIterator{PointVector{Polymake.Rational}}:\n",
       " [0, 0]\n",
       " [1, 0]\n",
       " [2, 1]\n",
       " [2, 2]\n",
       " [1, 2]\n",
       " [0, 1]"
      ]
     },
     "execution_count": 16,
     "metadata": {},
     "output_type": "execute_result"
    }
   ],
   "source": [
    "hexagon = convex_hull([0 0; 1 0; 2 1; 2 2; 1 2; 0 1])\n",
    "vertices(hexagon)"
   ]
  },
  {
   "cell_type": "code",
   "execution_count": 19,
   "metadata": {},
   "outputs": [
    {
     "data": {
      "text/plain": [
       "true"
      ]
     },
     "execution_count": 19,
     "metadata": {},
     "output_type": "execute_result"
    }
   ],
   "source": [
    "isnormal(hexagon)"
   ]
  },
  {
   "cell_type": "code",
   "execution_count": 20,
   "metadata": {},
   "outputs": [
    {
     "data": {
      "text/plain": [
       "7-element VectorIterator{PointVector{Polymake.Integer}}:\n",
       " [0, 0]\n",
       " [2, 1]\n",
       " [1, 2]\n",
       " [1, 0]\n",
       " [1, 1]\n",
       " [0, 1]\n",
       " [2, 2]"
      ]
     },
     "execution_count": 20,
     "metadata": {},
     "output_type": "execute_result"
    }
   ],
   "source": [
    "lattice_points(hexagon)"
   ]
  },
  {
   "cell_type": "markdown",
   "metadata": {},
   "source": [
    "### Polyhedral fans\n",
    "\n",
    "We continue with the hexagon and construct its normal fan."
   ]
  },
  {
   "cell_type": "code",
   "execution_count": 21,
   "metadata": {},
   "outputs": [
    {
     "data": {
      "text/plain": [
       "A polyhedral fan in ambient dimension 2"
      ]
     },
     "execution_count": 21,
     "metadata": {},
     "output_type": "execute_result"
    }
   ],
   "source": [
    "nfh = normal_fan(hexagon)"
   ]
  },
  {
   "cell_type": "code",
   "execution_count": 23,
   "metadata": {},
   "outputs": [
    {
     "data": {
      "text/plain": [
       "6-element VectorIterator{RayVector{Polymake.Rational}}:\n",
       " [1, 0]\n",
       " [0, 1]\n",
       " [1, -1]\n",
       " [-1, 1]\n",
       " [-1, 0]\n",
       " [0, -1]"
      ]
     },
     "execution_count": 23,
     "metadata": {},
     "output_type": "execute_result"
    }
   ],
   "source": [
    "rays(nfh)"
   ]
  },
  {
   "cell_type": "code",
   "execution_count": 24,
   "metadata": {},
   "outputs": [
    {
     "data": {
      "text/plain": [
       "Oscar.MaximalConeIterator(A polyhedral fan in ambient dimension 2)"
      ]
     },
     "execution_count": 24,
     "metadata": {},
     "output_type": "execute_result"
    }
   ],
   "source": [
    "maximal_cones(nfh)"
   ]
  },
  {
   "cell_type": "code",
   "execution_count": 26,
   "metadata": {},
   "outputs": [
    {
     "name": "stdout",
     "output_type": "stream",
     "text": [
      "RayVector{Polymake.Rational}[[1, 0], [0, 1]]\n",
      "RayVector{Polymake.Rational}[[0, 1], [-1, 1]]\n",
      "RayVector{Polymake.Rational}[[-1, 1], [-1, 0]]\n",
      "RayVector{Polymake.Rational}[[-1, 0], [0, -1]]\n",
      "RayVector{Polymake.Rational}[[1, -1], [0, -1]]\n",
      "RayVector{Polymake.Rational}[[1, 0], [1, -1]]\n"
     ]
    }
   ],
   "source": [
    "for mc in maximal_cones(nfh)\n",
    "    println(rays(mc))\n",
    "end"
   ]
  },
  {
   "cell_type": "markdown",
   "metadata": {},
   "source": [
    "# Toric geometry"
   ]
  },
  {
   "cell_type": "code",
   "execution_count": null,
   "metadata": {},
   "outputs": [],
   "source": []
  }
 ],
 "metadata": {
  "kernelspec": {
   "display_name": "Julia 1.6.1",
   "language": "julia",
   "name": "julia-1.6"
  },
  "language_info": {
   "file_extension": ".jl",
   "mimetype": "application/julia",
   "name": "julia",
   "version": "1.6.1"
  }
 },
 "nbformat": 4,
 "nbformat_minor": 4
}
