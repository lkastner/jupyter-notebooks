{
 "cells": [
  {
   "cell_type": "markdown",
   "id": "88779800",
   "metadata": {},
   "source": [
    "# Counting simplical faces of a Polytope\n",
    "\n",
    "Goal: Count the simplicial faces of a polytope using `Polymake.jl`."
   ]
  },
  {
   "cell_type": "code",
   "execution_count": 1,
   "id": "f3b72224",
   "metadata": {},
   "outputs": [
    {
     "name": "stdout",
     "output_type": "stream",
     "text": [
      "polymake version 4.4\n",
      "Copyright (c) 1997-2021\n",
      "Ewgenij Gawrilow, Michael Joswig, and the polymake team\n",
      "Technische Universität Berlin, Germany\n",
      "https://polymake.org\n",
      "\n",
      "This is free software licensed under GPL; see the source for copying conditions.\n",
      "There is NO warranty; not even for MERCHANTABILITY or FITNESS FOR A PARTICULAR PURPOSE.\n",
      "\n"
     ]
    }
   ],
   "source": [
    "using Polymake"
   ]
  },
  {
   "cell_type": "markdown",
   "id": "4d066eb3",
   "metadata": {},
   "source": [
    "We will do this for the example of the cube, since this is the first thing that came to my mind which has some faces that are non-simplicial."
   ]
  },
  {
   "cell_type": "code",
   "execution_count": 2,
   "id": "3d2c30f0",
   "metadata": {
    "slideshow": {
     "slide_type": "subslide"
    }
   },
   "outputs": [
    {
     "data": {
      "text/html": [
       "<dl> <dt>type</dt><dd> Polytope<Rational></dd>\n",
       "<dt>description</dt><dd> cube of dimension 3</dd> </dl>   <details>\n",
       "       <summary style='display:list-item;'>AFFINE_HULL</summary>\n",
       "       <pre></pre>\n",
       "   </details>\n",
       "\n",
       "   <details>\n",
       "       <summary style='display:list-item;'>BOUNDED</summary>\n",
       "       <pre>true</pre>\n",
       "   </details>\n",
       "\n",
       "   <details>\n",
       "       <summary style='display:list-item;'>CONE_AMBIENT_DIM</summary>\n",
       "       <pre>4</pre>\n",
       "   </details>\n",
       "\n",
       "   <details>\n",
       "       <summary style='display:list-item;'>CONE_DIM</summary>\n",
       "       <pre>4</pre>\n",
       "   </details>\n",
       "\n",
       "   <details>\n",
       "       <summary style='display:list-item;'>FACETS</summary>\n",
       "       <pre>1 1 0 0\n",
       "1 -1 0 0\n",
       "1 0 1 0\n",
       "1 0 -1 0\n",
       "1 0 0 1\n",
       "1 0 0 -1</pre>\n",
       "   </details>\n",
       "\n",
       "   <details>\n",
       "       <summary style='display:list-item;'>VERTICES_IN_FACETS</summary>\n",
       "       <pre>{0 2 4 6}\n",
       "{1 3 5 7}\n",
       "{0 1 4 5}\n",
       "{2 3 6 7}\n",
       "{0 1 2 3}\n",
       "{4 5 6 7}</pre>\n",
       "   </details>\n"
      ],
      "text/plain": [
       "type: Polytope<Rational>\n",
       "description: cube of dimension 3\n",
       "\n",
       "AFFINE_HULL\n",
       "\t\n",
       "\n",
       "BOUNDED\n",
       "\ttrue\n",
       "\n",
       "CONE_AMBIENT_DIM\n",
       "\t4\n",
       "\n",
       "CONE_DIM\n",
       "\t4\n",
       "\n",
       "FACETS\n",
       "  1   1   0   0\n",
       "  1  -1   0   0\n",
       "  1   0   1   0\n",
       "  1   0  -1   0\n",
       "  1   0   0   1\n",
       "  1   0   0  -1\n",
       "\n",
       "VERTICES_IN_FACETS\n",
       "\t{0 2 4 6}\n",
       "\t{1 3 5 7}\n",
       "\t{0 1 4 5}\n",
       "\t{2 3 6 7}\n",
       "\t{0 1 2 3}\n",
       "\t{4 5 6 7}\n"
      ]
     },
     "execution_count": 2,
     "metadata": {},
     "output_type": "execute_result"
    }
   ],
   "source": [
    "c = Polymake.polytope.cube(3)"
   ]
  },
  {
   "cell_type": "markdown",
   "id": "4dae07ed",
   "metadata": {},
   "source": [
    "Unfortunately we cannot work with the Hasse diagram directly, since it is not attached as a Julia type yet. The same is true for the `DECORATION` of the Hasse diagram. Instead we will use the function `faces_of_dim` that accesses the Hasse diagram for us."
   ]
  },
  {
   "cell_type": "code",
   "execution_count": 3,
   "id": "a831b654",
   "metadata": {},
   "outputs": [
    {
     "data": {
      "text/plain": [
       "pm::Array<pm::Set<long, pm::operations::cmp>>\n",
       "{0 2 4 6}\n",
       "{1 3 5 7}\n",
       "{0 1 4 5}\n",
       "{2 3 6 7}\n",
       "{0 1 2 3}\n",
       "{4 5 6 7}\n"
      ]
     },
     "execution_count": 3,
     "metadata": {},
     "output_type": "execute_result"
    }
   ],
   "source": [
    "Polymake.polytope.faces_of_dim(c, 2)"
   ]
  },
  {
   "cell_type": "markdown",
   "id": "4168983e",
   "metadata": {},
   "source": [
    "Every line here corresponds to a two-dimensional face of the cube. E.g. `{0 2 4 6}` means that the cube has a face which is the convex hull of the $0$th, second, $4$th, and $6$th vertex.\n",
    "\n",
    "One can check whether a face is simplicial just by checking whether it is the convex hull of exactly dim$+1$ vertices. This is the check we will use."
   ]
  },
  {
   "cell_type": "code",
   "execution_count": 4,
   "id": "131b9ca3",
   "metadata": {},
   "outputs": [
    {
     "data": {
      "text/plain": [
       "3"
      ]
     },
     "execution_count": 4,
     "metadata": {},
     "output_type": "execute_result"
    }
   ],
   "source": [
    "d = Polymake.polytope.dim(c)"
   ]
  },
  {
   "cell_type": "code",
   "execution_count": 5,
   "id": "643942ad",
   "metadata": {},
   "outputs": [
    {
     "name": "stdout",
     "output_type": "stream",
     "text": [
      "There are 8 simplicial faces of dim 0.\n",
      "There are 12 simplicial faces of dim 1.\n",
      "There are 0 simplicial faces of dim 2.\n"
     ]
    }
   ],
   "source": [
    "for i in 0:(d-1)\n",
    "    counter = 0\n",
    "    ddimfaces = Polymake.polytope.faces_of_dim(c, i)\n",
    "    for face in ddimfaces\n",
    "        if(i+1 == length(face))\n",
    "            counter += 1\n",
    "        end\n",
    "    end\n",
    "    println(\"There are $(counter) simplicial faces of dim $(i).\")\n",
    "end"
   ]
  },
  {
   "cell_type": "markdown",
   "id": "6c75f790",
   "metadata": {},
   "source": [
    "Note that for some reason this loop will not run up to $d$. So for the polytope itself one has to check manually whether it is simplicial."
   ]
  },
  {
   "cell_type": "code",
   "execution_count": 6,
   "id": "a2390665",
   "metadata": {},
   "outputs": [
    {
     "name": "stdout",
     "output_type": "stream",
     "text": [
      "false\n"
     ]
    }
   ],
   "source": [
    "println(c.SIMPLICIAL)"
   ]
  },
  {
   "cell_type": "code",
   "execution_count": null,
   "id": "58345492",
   "metadata": {},
   "outputs": [],
   "source": []
  }
 ],
 "metadata": {
  "kernelspec": {
   "display_name": "Julia 1.6.1",
   "language": "julia",
   "name": "julia-1.6"
  },
  "language_info": {
   "file_extension": ".jl",
   "mimetype": "application/julia",
   "name": "julia",
   "version": "1.6.1"
  }
 },
 "nbformat": 4,
 "nbformat_minor": 5
}
