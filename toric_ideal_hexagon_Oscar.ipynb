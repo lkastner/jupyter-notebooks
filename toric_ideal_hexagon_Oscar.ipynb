{
 "cells": [
  {
   "cell_type": "markdown",
   "metadata": {},
   "source": [
    "# Toric ideal of the hexagon\n",
    "In this notebook we want to compute the toric ideal of the toric variety from the cone over the hexagon.\n",
    "\n",
    "We start by loading Oscar."
   ]
  },
  {
   "cell_type": "code",
   "execution_count": 1,
   "metadata": {},
   "outputs": [
    {
     "name": "stdout",
     "output_type": "stream",
     "text": [
      "\r",
      " -----    -----    -----      -      -----   \n",
      "|     |  |     |  |     |    | |    |     |  \n",
      "|     |  |        |         |   |   |     |  \n",
      "|     |   -----   |        |     |  |-----   \n",
      "|     |        |  |        |-----|  |   |    \n",
      "|     |  |     |  |     |  |     |  |    |   \n",
      " -----    -----    -----   -     -  -     -  \n",
      "\n",
      "...combining (and extending) ANTIC, GAP, Polymake and Singular\n",
      "Version\u001b[32m 0.9.0-DEV \u001b[39m... \n",
      " ... which comes with absolutely no warranty whatsoever\n",
      "Type: '?Oscar' for more information\n",
      "(c) 2019-2022 by The Oscar Development Team\n"
     ]
    }
   ],
   "source": [
    "using Oscar"
   ]
  },
  {
   "cell_type": "markdown",
   "metadata": {},
   "source": [
    "Now we construct the cone over the hexagon. The first coordinate is the height. Then we turn this into a normal toric variety."
   ]
  },
  {
   "cell_type": "code",
   "execution_count": 5,
   "metadata": {},
   "outputs": [
    {
     "data": {
      "text/html": [
       "ideal(-x1*x2 + x5^2, -x1*x2 + x4*x6, -x1*x2 + x3*x7, -x1*x7 + x4*x5, -x1*x6 + x3*x5, -x1*x5 + x3*x4, -x1*x7^2 + x2*x4^2, -x1*x6^2 + x2*x3^2, -x2*x3 + x5*x6, -x2*x4 + x5*x7, -x2*x5 + x6*x7)"
      ],
      "text/latex": [
       "\\mathop{\\mathrm{ideal}}\\left(-\\mathop{\\mathrm{x1}} \\mathop{\\mathrm{x2}} + \\mathop{\\mathrm{x5}}^{2}, -\\mathop{\\mathrm{x1}} \\mathop{\\mathrm{x2}} + \\mathop{\\mathrm{x4}} \\mathop{\\mathrm{x6}}, -\\mathop{\\mathrm{x1}} \\mathop{\\mathrm{x2}} + \\mathop{\\mathrm{x3}} \\mathop{\\mathrm{x7}}, -\\mathop{\\mathrm{x1}} \\mathop{\\mathrm{x7}} + \\mathop{\\mathrm{x4}} \\mathop{\\mathrm{x5}}, -\\mathop{\\mathrm{x1}} \\mathop{\\mathrm{x6}} + \\mathop{\\mathrm{x3}} \\mathop{\\mathrm{x5}}, -\\mathop{\\mathrm{x1}} \\mathop{\\mathrm{x5}} + \\mathop{\\mathrm{x3}} \\mathop{\\mathrm{x4}}, -\\mathop{\\mathrm{x1}} \\mathop{\\mathrm{x7}}^{2} + \\mathop{\\mathrm{x2}} \\mathop{\\mathrm{x4}}^{2}, -\\mathop{\\mathrm{x1}} \\mathop{\\mathrm{x6}}^{2} + \\mathop{\\mathrm{x2}} \\mathop{\\mathrm{x3}}^{2}, -\\mathop{\\mathrm{x2}} \\mathop{\\mathrm{x3}} + \\mathop{\\mathrm{x5}} \\mathop{\\mathrm{x6}}, -\\mathop{\\mathrm{x2}} \\mathop{\\mathrm{x4}} + \\mathop{\\mathrm{x5}} \\mathop{\\mathrm{x7}}, -\\mathop{\\mathrm{x2}} \\mathop{\\mathrm{x5}} + \\mathop{\\mathrm{x6}} \\mathop{\\mathrm{x7}}\\right)"
      ],
      "text/plain": [
       "ideal(-x1*x2 + x5^2, -x1*x2 + x4*x6, -x1*x2 + x3*x7, -x1*x7 + x4*x5, -x1*x6 + x3*x5, -x1*x5 + x3*x4, -x1*x7^2 + x2*x4^2, -x1*x6^2 + x2*x3^2, -x2*x3 + x5*x6, -x2*x4 + x5*x7, -x2*x5 + x6*x7)"
      ]
     },
     "execution_count": 5,
     "metadata": {},
     "output_type": "execute_result"
    }
   ],
   "source": [
    "hex = positive_hull([1 -1 -1; 1 0 -1; 1 1 0; 1 1 1; 1 0 1; 1 -1 0])\n",
    "ntv = NormalToricVariety(hex)\n",
    "I = toric_ideal(ntv)"
   ]
  },
  {
   "cell_type": "markdown",
   "metadata": {},
   "source": [
    "This is a small interlude on how to access the underlying polymake objects. The `WEIGHT_CONE` is the dual of the cone `hex` and its Hilbert basis gives the degrees of the variables in the toric ideal."
   ]
  },
  {
   "cell_type": "code",
   "execution_count": 33,
   "metadata": {},
   "outputs": [
    {
     "data": {
      "text/html": [
       "<dl> <dt>type</dt><dd> Ideal</dd> </dl>   <details>\n",
       "       <summary style='display:list-item;'>BINOMIAL</summary>\n",
       "       <pre>true</pre>\n",
       "   </details>\n",
       "\n",
       "   <details>\n",
       "       <summary style='display:list-item;'>BINOMIAL_GENERATORS</summary>\n",
       "       <pre>-1 -1 0 0 2 0 0\n",
       "-1 -1 0 1 0 1 0\n",
       "-1 -1 1 0 0 0 1\n",
       "-1 0 0 1 1 0 -1\n",
       "-1 0 1 0 1 -1 0\n",
       "-1 0 1 1 -1 0 0\n",
       "-1 1 0 2 0 0 -2\n",
       "-1 1 2 0 0 -2 0\n",
       "0 -1 -1 0 1 1 0\n",
       "0 -1 0 -1 1 0 1\n",
       "0 -1 0 0 -1 1 1</pre>\n",
       "   </details>\n",
       "\n",
       "   <details>\n",
       "       <summary style='display:list-item;'>GROEBNER</summary>\n",
       "       <pre>type: Groebner as Ideal::GROEBNER</pre>\n",
       "   </details>\n"
      ],
      "text/plain": [
       "type: Ideal\n",
       "\n",
       "BINOMIAL\n",
       "\ttrue\n",
       "\n",
       "BINOMIAL_GENERATORS\n",
       "\t-1 -1 0 0 2 0 0\n",
       "\t-1 -1 0 1 0 1 0\n",
       "\t-1 -1 1 0 0 0 1\n",
       "\t-1 0 0 1 1 0 -1\n",
       "\t-1 0 1 0 1 -1 0\n",
       "\t-1 0 1 1 -1 0 0\n",
       "\t-1 1 0 2 0 0 -2\n",
       "\t-1 1 2 0 0 -2 0\n",
       "\t0 -1 -1 0 1 1 0\n",
       "\t0 -1 0 -1 1 0 1\n",
       "\t0 -1 0 0 -1 1 1\n",
       "\n",
       "GROEBNER\n",
       "\ttype: Groebner as Ideal::GROEBNER\n"
      ]
     },
     "execution_count": 33,
     "metadata": {},
     "output_type": "execute_result"
    }
   ],
   "source": [
    "ntv.polymakeNTV\n",
    "ntv.polymakeNTV.WEIGHT_CONE\n",
    "ntv.polymakeNTV.WEIGHT_CONE.CONE_TORIC_IDEAL"
   ]
  },
  {
   "cell_type": "markdown",
   "metadata": {},
   "source": [
    "Now we take the ring `R` of `I` and construct all subsets of our generators."
   ]
  },
  {
   "cell_type": "code",
   "execution_count": 9,
   "metadata": {},
   "outputs": [
    {
     "data": {
      "text/html": [
       "$\\text{Multivariate Polynomial Ring in 7 variables:} [x1, x2, x3, x4, x5, x6, x7]\\text{ over }\\text{Rational Field}$"
      ],
      "text/latex": [
       "$\\text{Multivariate Polynomial Ring in 7 variables:} [x1, x2, x3, x4, x5, x6, x7]\\text{ over }\\text{Rational Field}$"
      ],
      "text/plain": [
       "Multivariate Polynomial Ring in 7 variables x1, x2, x3, x4, ..., x7 over Rational Field"
      ]
     },
     "execution_count": 9,
     "metadata": {},
     "output_type": "execute_result"
    }
   ],
   "source": [
    "R = base_ring(I)"
   ]
  },
  {
   "cell_type": "code",
   "execution_count": 22,
   "metadata": {},
   "outputs": [
    {
     "data": {
      "text/plain": [
       "11-element Vector{fmpq_mpoly}:\n",
       " -x1*x2 + x5^2\n",
       " -x1*x2 + x4*x6\n",
       " -x1*x2 + x3*x7\n",
       " -x1*x7 + x4*x5\n",
       " -x1*x6 + x3*x5\n",
       " -x1*x5 + x3*x4\n",
       " -x1*x7^2 + x2*x4^2\n",
       " -x1*x6^2 + x2*x3^2\n",
       " -x2*x3 + x5*x6\n",
       " -x2*x4 + x5*x7\n",
       " -x2*x5 + x6*x7"
      ]
     },
     "execution_count": 22,
     "metadata": {},
     "output_type": "execute_result"
    }
   ],
   "source": [
    "G = gens(I)"
   ]
  },
  {
   "cell_type": "markdown",
   "metadata": {},
   "source": [
    "We can now loop over all subsets of `G`. For every subset we construct the corresponding subideal and check whether all the elements of `G` can be reduced to 0. If they can, then this subset already generated `I` and we stop."
   ]
  },
  {
   "cell_type": "code",
   "execution_count": 35,
   "metadata": {},
   "outputs": [
    {
     "name": "stdout",
     "output_type": "stream",
     "text": [
      "Set(fmpq_mpoly[-x2*x4 + x5*x7, -x2*x5 + x6*x7, -x1*x7 + x4*x5, -x1*x6 + x3*x5, -x1*x2 + x3*x7, -x2*x3 + x5*x6, -x1*x2 + x4*x6, -x1*x5 + x3*x4, -x1*x2 + x5^2])\n",
      "9\n"
     ]
    }
   ],
   "source": [
    "i = 0\n",
    "result = 0\n",
    "for s in Hecke.subsets(Set(G))\n",
    "    tmp = ideal(R, [s...])\n",
    "    check = all(f->normal_form(f,tmp)==0, G)\n",
    "    if check\n",
    "        println(s)\n",
    "        println(ngens(tmp))\n",
    "        result = tmp\n",
    "        break\n",
    "    end\n",
    "end"
   ]
  },
  {
   "cell_type": "code",
   "execution_count": null,
   "metadata": {},
   "outputs": [],
   "source": []
  }
 ],
 "metadata": {
  "kernelspec": {
   "display_name": "Julia 1.7.2",
   "language": "julia",
   "name": "julia-1.7"
  },
  "language_info": {
   "file_extension": ".jl",
   "mimetype": "application/julia",
   "name": "julia",
   "version": "1.7.2"
  }
 },
 "nbformat": 4,
 "nbformat_minor": 4
}
