{
 "cells": [
  {
   "cell_type": "markdown",
   "metadata": {},
   "source": [
    "# Sketch of handling credits in Oscar/Julia\n",
    "\n",
    "\n",
    "We want to give proper credit to other software used. To this end we introduce a `Credits` struct that retains the information of the credits we want to display.\n",
    "\n",
    "- Printing of the credits can be enabled on demand, by setting a global variable. If this variable does not exist, nothing is printed.\n",
    "- Credits are only printed once.\n",
    "- Another macro will offer the possibility to collect all credits in a specific computation.\n",
    "\n",
    "I suspect that not every dev is happy if we suddenly spew credits everywhere. Nevertheless, if later in the refereeing Oscar code appears, referees can use this approach to find missing references."
   ]
  },
  {
   "cell_type": "code",
   "execution_count": 1,
   "metadata": {},
   "outputs": [],
   "source": [
    "using MacroTools"
   ]
  },
  {
   "cell_type": "code",
   "execution_count": 2,
   "metadata": {},
   "outputs": [
    {
     "data": {
      "text/plain": [
       "Credits"
      ]
     },
     "execution_count": 2,
     "metadata": {},
     "output_type": "execute_result"
    }
   ],
   "source": [
    "mutable struct MutableBool\n",
    "    x::Bool\n",
    "end\n",
    "\n",
    "struct Credits\n",
    "    name::String\n",
    "    bibtex::String\n",
    "    displayed::MutableBool\n",
    "end\n",
    "\n",
    "Credits(x,y) = Credits(x,y, MutableBool(false))"
   ]
  },
  {
   "cell_type": "markdown",
   "metadata": {},
   "source": [
    "With the `MutableBool`, we can now check whether the credits were already displayed or not, and only diplay them once."
   ]
  },
  {
   "cell_type": "code",
   "execution_count": 3,
   "metadata": {},
   "outputs": [
    {
     "data": {
      "text/plain": [
       "display_credits (generic function with 1 method)"
      ]
     },
     "execution_count": 3,
     "metadata": {},
     "output_type": "execute_result"
    }
   ],
   "source": [
    "function display_credits(cr::Credits, func::String)\n",
    "    if @isdefined print_credits\n",
    "        if print_credits\n",
    "            if !cr.displayed.x\n",
    "                cr.displayed.x = true\n",
    "                println(\"Using $(cr.name)\")\n",
    "                println(\"in function $(func)\")\n",
    "            end\n",
    "        end\n",
    "    end\n",
    "end"
   ]
  },
  {
   "cell_type": "code",
   "execution_count": 4,
   "metadata": {},
   "outputs": [
    {
     "data": {
      "text/plain": [
       "Credits(\"credits of B\", \"bibtex of credits of B\", MutableBool(false))"
      ]
     },
     "execution_count": 4,
     "metadata": {},
     "output_type": "execute_result"
    }
   ],
   "source": [
    "creditsA = Credits(\"credits of A\", \"bibtex of credits of A\")\n",
    "creditsB = Credits(\"credits of B\", \"bibtex of credits of B\")"
   ]
  },
  {
   "cell_type": "code",
   "execution_count": 5,
   "metadata": {},
   "outputs": [],
   "source": [
    "display_credits(creditsA, \"ggg\")"
   ]
  },
  {
   "cell_type": "markdown",
   "metadata": {},
   "source": [
    "Then we can attach the credits to functions with a macro. The following is a modified copy of the `@attr` macro of `AbstractAlgebra.jl`."
   ]
  },
  {
   "cell_type": "code",
   "execution_count": 6,
   "metadata": {},
   "outputs": [
    {
     "data": {
      "text/plain": [
       "@annotate_credits (macro with 1 method)"
      ]
     },
     "execution_count": 6,
     "metadata": {},
     "output_type": "execute_result"
    }
   ],
   "source": [
    "macro annotate_credits(ex1, exs...)\n",
    "    # TODO: Is there some nicer way to pass on the Credits object?\n",
    "    credits = eval(ex1)\n",
    "    isa(credits, Credits) || error(\"First argument must be credits.\")\n",
    "\n",
    "    if length(exs) == 0\n",
    "        throw(ArgumentError(\"Too few macro arguments\"))\n",
    "    else\n",
    "        expr = exs[1]\n",
    "    end\n",
    "    d = MacroTools.splitdef(expr)\n",
    "\n",
    "    # store the original function name\n",
    "    name = d[:name]\n",
    "\n",
    "    # take the original function and rename it; use a unique name to ensure\n",
    "    # there are no clashes caused by spurious additional methods\n",
    "    compute_name = gensym(\"compute_$(name)\")\n",
    "    compute_def = copy(d)\n",
    "    compute_def[:name] = compute_name\n",
    "    compute = MacroTools.combinedef(compute_def)\n",
    "\n",
    "    argname = d[:args][1]\n",
    "    wrapper_def = copy(d)\n",
    "    wrapper_def[:name] = name\n",
    "    wrapper_def[:body] = quote\n",
    "        # TODO: Do not pass string here, but symbol instead?\n",
    "        display_credits($credits, string($name))\n",
    "        return $(compute_name)($argname)\n",
    "    end\n",
    "    # insert the correct line number, so that `functionloc(name)` works correctly\n",
    "    wrapper_def[:body].args[1] = __source__\n",
    "    wrapper = MacroTools.combinedef(wrapper_def)\n",
    "\n",
    "    result = quote\n",
    "        $(compute)\n",
    "        Base.@__doc__ $(wrapper)\n",
    "    end\n",
    "\n",
    "    return esc(result)\n",
    "end\n"
   ]
  },
  {
   "cell_type": "code",
   "execution_count": 7,
   "metadata": {},
   "outputs": [
    {
     "data": {
      "text/plain": [
       "h (generic function with 1 method)"
      ]
     },
     "execution_count": 7,
     "metadata": {},
     "output_type": "execute_result"
    }
   ],
   "source": [
    "@annotate_credits creditsA function g(x::Int)\n",
    "    2*x\n",
    "end\n",
    "\n",
    "@annotate_credits creditsB function h(x::Int)\n",
    "    5*x\n",
    "end"
   ]
  },
  {
   "cell_type": "code",
   "execution_count": 8,
   "metadata": {},
   "outputs": [
    {
     "data": {
      "text/plain": [
       "4"
      ]
     },
     "execution_count": 8,
     "metadata": {},
     "output_type": "execute_result"
    }
   ],
   "source": [
    "g(2)"
   ]
  },
  {
   "cell_type": "code",
   "execution_count": 9,
   "metadata": {},
   "outputs": [
    {
     "name": "stdout",
     "output_type": "stream",
     "text": [
      "Using credits of A\n",
      "in function g\n"
     ]
    },
    {
     "data": {
      "text/plain": [
       "6"
      ]
     },
     "execution_count": 9,
     "metadata": {},
     "output_type": "execute_result"
    }
   ],
   "source": [
    "print_credits = true\n",
    "g(3)"
   ]
  },
  {
   "cell_type": "markdown",
   "metadata": {},
   "source": [
    "# Collecting credits\n",
    "\n",
    "This can be achieved by manipulating the `display_credits` method."
   ]
  },
  {
   "cell_type": "code",
   "execution_count": 10,
   "metadata": {},
   "outputs": [
    {
     "data": {
      "text/plain": [
       "display_credits (generic function with 1 method)"
      ]
     },
     "execution_count": 10,
     "metadata": {},
     "output_type": "execute_result"
    }
   ],
   "source": [
    "function display_credits(cr::Credits, func::String)\n",
    "    if @isdefined print_credits\n",
    "        if print_credits\n",
    "            if !cr.displayed.x\n",
    "                cr.displayed.x = true\n",
    "                println(\"Using $(cr.name)\")\n",
    "                println(\"in function $(func)\")\n",
    "            end\n",
    "        end\n",
    "    end\n",
    "    if @isdefined CollectedCredits\n",
    "        if isa(CollectedCredits, Dict{Credits, Set{String}})\n",
    "            if !haskey(CollectedCredits, cr)\n",
    "                CollectedCredits[cr] = Set{String}([func])\n",
    "            else\n",
    "                push!(CollectedCredits[cr], func)\n",
    "            end\n",
    "        end\n",
    "    end\n",
    "end"
   ]
  },
  {
   "cell_type": "code",
   "execution_count": 11,
   "metadata": {},
   "outputs": [
    {
     "data": {
      "text/plain": [
       "Dict{Credits, Set{String}}()"
      ]
     },
     "execution_count": 11,
     "metadata": {},
     "output_type": "execute_result"
    }
   ],
   "source": [
    "CollectedCredits = Dict{Credits, Set{String}}()"
   ]
  },
  {
   "cell_type": "code",
   "execution_count": 12,
   "metadata": {},
   "outputs": [
    {
     "name": "stdout",
     "output_type": "stream",
     "text": [
      "Using credits of B\n",
      "in function h\n"
     ]
    },
    {
     "data": {
      "text/plain": [
       "35"
      ]
     },
     "execution_count": 12,
     "metadata": {},
     "output_type": "execute_result"
    }
   ],
   "source": [
    "g(3)\n",
    "h(7)"
   ]
  },
  {
   "cell_type": "code",
   "execution_count": 13,
   "metadata": {},
   "outputs": [
    {
     "data": {
      "text/plain": [
       "Dict{Credits, Set{String}} with 2 entries:\n",
       "  Credits(\"credits of B\", \"bibtex of credits of B\", MutableBool(t… => Set([\"h\"])\n",
       "  Credits(\"credits of A\", \"bibtex of credits of A\", MutableBool(t… => Set([\"g\"])"
      ]
     },
     "execution_count": 13,
     "metadata": {},
     "output_type": "execute_result"
    }
   ],
   "source": [
    "CollectedCredits"
   ]
  },
  {
   "cell_type": "markdown",
   "metadata": {},
   "source": [
    "The advantage is that the user can even track the location of the usage of the external software."
   ]
  },
  {
   "cell_type": "code",
   "execution_count": null,
   "metadata": {},
   "outputs": [],
   "source": []
  }
 ],
 "metadata": {
  "kernelspec": {
   "display_name": "Julia 1.7.2",
   "language": "julia",
   "name": "julia-1.7"
  },
  "language_info": {
   "file_extension": ".jl",
   "mimetype": "application/julia",
   "name": "julia",
   "version": "1.7.2"
  }
 },
 "nbformat": 4,
 "nbformat_minor": 4
}
