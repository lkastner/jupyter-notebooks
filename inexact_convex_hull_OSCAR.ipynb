{
 "cells": [
  {
   "cell_type": "markdown",
   "metadata": {},
   "source": [
    "# Inexact convex hull computations in Oscar.jl\n",
    "\n",
    "This notebook illustrates what goes wrong when using inexact coordinates, i.e. `Float64` in `Oscar.jl` when computing convex hulls. Here by computing the convex hull we mean to switch from a representation of a polytope as a convex hull of finitely many points to a representation as the intersection of finitely many halfspaces."
   ]
  },
  {
   "cell_type": "code",
   "execution_count": 1,
   "metadata": {},
   "outputs": [
    {
     "name": "stdout",
     "output_type": "stream",
     "text": [
      " -----    -----    -----      -      -----   \n",
      "|     |  |     |  |     |    | |    |     |  \n",
      "|     |  |        |         |   |   |     |  \n",
      "|     |   -----   |        |     |  |-----   \n",
      "|     |        |  |        |-----|  |   |    \n",
      "|     |  |     |  |     |  |     |  |    |   \n",
      " -----    -----    -----   -     -  -     -  \n",
      "\n",
      "...combining (and extending) ANTIC, GAP, Polymake and Singular\n",
      "Version\u001b[32m 0.9.0-DEV \u001b[39m... \n",
      " ... which comes with absolutely no warranty whatsoever\n",
      "Type: '?Oscar' for more information\n",
      "(c) 2019-2022 by The Oscar Development Team\n"
     ]
    }
   ],
   "source": [
    "using Oscar"
   ]
  },
  {
   "cell_type": "code",
   "execution_count": 2,
   "metadata": {},
   "outputs": [
    {
     "data": {
      "text/plain": [
       "A polyhedron in ambient dimension 8"
      ]
     },
     "execution_count": 2,
     "metadata": {},
     "output_type": "execute_result"
    }
   ],
   "source": [
    "C = Polyhedron(Polymake.polytope.cyclic(4,20))\n",
    "P = C*C"
   ]
  },
  {
   "cell_type": "markdown",
   "metadata": {},
   "source": [
    "We will repeatedly compute the convex hull of `P`, from it's vertices or facets, and with exact coordinates the polytope stays the same. The numbered output lines contain the numbers of vertices and facets. We can see that these stay the same of course, since the polytopes stay the same.\n",
    "\n",
    "We switch to a slightly smaller `P`, since the original is too large for the exact computation."
   ]
  },
  {
   "cell_type": "code",
   "execution_count": 6,
   "metadata": {},
   "outputs": [
    {
     "name": "stdout",
     "output_type": "stream",
     "text": [
      "1: 49 20\n",
      "1 next: 49 20\n",
      "true\n",
      "2: 49 20\n",
      "2 next: 49 20\n",
      "true\n",
      "3: 49 20\n",
      "3 next: 49 20\n",
      "true\n",
      "4: 49 20\n",
      "4 next: 49 20\n",
      "true\n",
      "5: 49 20\n",
      "5 next: 49 20\n",
      "true\n"
     ]
    }
   ],
   "source": [
    "Ptmp = cyclic_polytope(3,7) * cyclic_polytope(3,7)\n",
    "PF = Polyhedron(facets(Ptmp))\n",
    "for i in 1:5\n",
    "    println(\"$(i): $(nvertices(PF)) $(nfacets(PF))\")\n",
    "    next = convex_hull(vertices(PF))\n",
    "    println(\"$(i) next: $(nvertices(next)) $(nfacets(next))\")\n",
    "    println(next == PF)\n",
    "    global PF = Polyhedron(facets(next))\n",
    "    \n",
    "end"
   ]
  },
  {
   "cell_type": "markdown",
   "metadata": {},
   "source": [
    "Now we change our coordinate type to `Float64` and repeat the same loop. Here we see that the computation breaks down immediately, since the number of vertices and facets is wrong.\n",
    "\n",
    "The loop cannot even finish since the programs involved sense that something is off. This is actually a good thing, but not all programs (can) check for errors due to inexactness."
   ]
  },
  {
   "cell_type": "code",
   "execution_count": 3,
   "metadata": {},
   "outputs": [
    {
     "name": "stdout",
     "output_type": "stream",
     "text": [
      "1: 697 228\n"
     ]
    },
    {
     "name": "stderr",
     "output_type": "stream",
     "text": [
      "polymake:  WARNING: rule cdd.convex_hull.canon: POINTED, RAYS, LINEALITY_SPACE : INPUT_RAYS failed: Error in dd_MatrixCanonicalize: 15\n",
      "polymake:  WARNING: rule cdd.convex_hull.redund: RAYS, RAY_SEPARATORS, LINEALITY_SPACE : INPUT_RAYS failed: Error in dd_Redundant: 15\n",
      "polymake:  WARNING: rule cdd.convex_hull.primal: FACETS, LINEAR_SPAN : RAYS | INPUT_RAYS failed: Error in dd_DDMatrix2Poly: 16\n"
     ]
    },
    {
     "ename": "LoadError",
     "evalue": "Exception occured at Polymake side:\nno more rules available to compute 'VERTICES'\n",
     "output_type": "error",
     "traceback": [
      "Exception occured at Polymake side:\nno more rules available to compute 'VERTICES'\n",
      "",
      "Stacktrace:",
      " [1] give(obj::Polymake.BigObjectAllocated, prop::String)",
      "   @ Polymake ~/.julia/packages/Polymake/OsXom/src/perlobj.jl:53",
      " [2] getproperty(obj::Polymake.BigObjectAllocated, prop::Symbol)",
      "   @ Polymake ~/.julia/packages/Polymake/OsXom/src/perlobj.jl:67",
      " [3] nvertices(P::Polyhedron{Float64})",
      "   @ Oscar ~/repos/Oscar.jl/src/PolyhedralGeometry/Polyhedron/properties.jl:187",
      " [4] (::var\"#1#2\"{Int64})()",
      "   @ Main ./In[3]:6",
      " [5] prefer(f::var\"#1#2\"{Int64}, label_expression::String; application::String)",
      "   @ Polymake ~/.julia/packages/Polymake/OsXom/src/util.jl:108",
      " [6] top-level scope",
      "   @ In[3]:3",
      " [7] eval",
      "   @ ./boot.jl:373 [inlined]",
      " [8] include_string(mapexpr::typeof(REPL.softscope), mod::Module, code::String, filename::String)",
      "   @ Base ./loading.jl:1196"
     ]
    }
   ],
   "source": [
    "PF = Polyhedron{Float64}(facets(P))\n",
    "for i in 1:5\n",
    "    Polymake.prefer(\"cdd\"; application=\"polytope\") do\n",
    "        println(\"$(i): $(nvertices(PF)) $(nfacets(PF))\")\n",
    "        next = convex_hull(Float64, vertices(PF))\n",
    "        println(\"$(i) next: $(nvertices(next)) $(nfacets(next))\")\n",
    "        global PF = Polyhedron{Float64}(facets(next))\n",
    "    end\n",
    "end"
   ]
  },
  {
   "cell_type": "markdown",
   "metadata": {},
   "source": [
    "Another example. Here the loop degenerates to something stable, nevertheless, the end result is wrong."
   ]
  },
  {
   "cell_type": "code",
   "execution_count": 4,
   "metadata": {},
   "outputs": [
    {
     "name": "stdout",
     "output_type": "stream",
     "text": [
      "1: 21 18\n",
      "1 next: 10 42\n",
      "2: 10 4\n",
      "2 next: 6 6\n",
      "3: 6 6\n",
      "3 next: 6 6\n",
      "4: 6 6\n",
      "4 next: 6 6\n",
      "5: 6 6\n",
      "5 next: 6 6\n"
     ]
    }
   ],
   "source": [
    "P = cyclic_polytope(5,20)\n",
    "PF = Polyhedron{Float64}(facets(P))\n",
    "for i in 1:5\n",
    "    Polymake.prefer(\"cdd\"; application=\"polytope\") do\n",
    "        println(\"$(i): $(nvertices(PF)) $(nfacets(PF))\")\n",
    "        next = convex_hull(Float64, vertices(PF))\n",
    "        println(\"$(i) next: $(nvertices(next)) $(nfacets(next))\")\n",
    "        global PF = Polyhedron{Float64}(facets(next))\n",
    "    end\n",
    "end"
   ]
  },
  {
   "cell_type": "code",
   "execution_count": null,
   "metadata": {},
   "outputs": [],
   "source": []
  }
 ],
 "metadata": {
  "kernelspec": {
   "display_name": "Julia 1.7.2",
   "language": "julia",
   "name": "julia-1.7"
  },
  "language_info": {
   "file_extension": ".jl",
   "mimetype": "application/julia",
   "name": "julia",
   "version": "1.7.2"
  }
 },
 "nbformat": 4,
 "nbformat_minor": 4
}
