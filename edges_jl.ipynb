{
 "cells": [
  {
   "cell_type": "markdown",
   "metadata": {},
   "source": [
    "# Edges with Polymake.jl\n",
    "\n",
    "We compute the edges of the cube using Polymake.jl in Julia"
   ]
  },
  {
   "cell_type": "code",
   "execution_count": 1,
   "metadata": {},
   "outputs": [
    {
     "name": "stdout",
     "output_type": "stream",
     "text": [
      "polymake version 4.4\n",
      "Copyright (c) 1997-2021\n",
      "Ewgenij Gawrilow, Michael Joswig, and the polymake team\n",
      "Technische Universität Berlin, Germany\n",
      "https://polymake.org\n",
      "\n",
      "This is free software licensed under GPL; see the source for copying conditions.\n",
      "There is NO warranty; not even for MERCHANTABILITY or FITNESS FOR A PARTICULAR PURPOSE.\n",
      "\n"
     ]
    }
   ],
   "source": [
    "using Polymake"
   ]
  },
  {
   "cell_type": "markdown",
   "metadata": {},
   "source": [
    "We start by making a cube:"
   ]
  },
  {
   "cell_type": "code",
   "execution_count": 2,
   "metadata": {},
   "outputs": [
    {
     "data": {
      "text/html": [
       "<dl> <dt>type</dt><dd> Polytope<Rational></dd>\n",
       "<dt>description</dt><dd> cube of dimension 3</dd> </dl>   <details>\n",
       "       <summary style='display:list-item;'>AFFINE_HULL</summary>\n",
       "       <pre></pre>\n",
       "   </details>\n",
       "\n",
       "   <details>\n",
       "       <summary style='display:list-item;'>BOUNDED</summary>\n",
       "       <pre>true</pre>\n",
       "   </details>\n",
       "\n",
       "   <details>\n",
       "       <summary style='display:list-item;'>CONE_AMBIENT_DIM</summary>\n",
       "       <pre>4</pre>\n",
       "   </details>\n",
       "\n",
       "   <details>\n",
       "       <summary style='display:list-item;'>CONE_DIM</summary>\n",
       "       <pre>4</pre>\n",
       "   </details>\n",
       "\n",
       "   <details>\n",
       "       <summary style='display:list-item;'>FACETS</summary>\n",
       "       <pre>1 1 0 0\n",
       "1 -1 0 0\n",
       "1 0 1 0\n",
       "1 0 -1 0\n",
       "1 0 0 1\n",
       "1 0 0 -1</pre>\n",
       "   </details>\n",
       "\n",
       "   <details>\n",
       "       <summary style='display:list-item;'>VERTICES_IN_FACETS</summary>\n",
       "       <pre>{0 2 4 6}\n",
       "{1 3 5 7}\n",
       "{0 1 4 5}\n",
       "{2 3 6 7}\n",
       "{0 1 2 3}\n",
       "{4 5 6 7}</pre>\n",
       "   </details>\n"
      ],
      "text/plain": [
       "type: Polytope<Rational>\n",
       "description: cube of dimension 3\n",
       "\n",
       "AFFINE_HULL\n",
       "\t\n",
       "\n",
       "BOUNDED\n",
       "\ttrue\n",
       "\n",
       "CONE_AMBIENT_DIM\n",
       "\t4\n",
       "\n",
       "CONE_DIM\n",
       "\t4\n",
       "\n",
       "FACETS\n",
       "  1   1   0   0\n",
       "  1  -1   0   0\n",
       "  1   0   1   0\n",
       "  1   0  -1   0\n",
       "  1   0   0   1\n",
       "  1   0   0  -1\n",
       "\n",
       "VERTICES_IN_FACETS\n",
       "\t{0 2 4 6}\n",
       "\t{1 3 5 7}\n",
       "\t{0 1 4 5}\n",
       "\t{2 3 6 7}\n",
       "\t{0 1 2 3}\n",
       "\t{4 5 6 7}\n"
      ]
     },
     "execution_count": 2,
     "metadata": {},
     "output_type": "execute_result"
    }
   ],
   "source": [
    "c = Polymake.polytope.cube(3)"
   ]
  },
  {
   "cell_type": "markdown",
   "metadata": {},
   "source": [
    "Edges of the cube are its one-dimensional faces. To access these we may use the `faces_of_dim` method:"
   ]
  },
  {
   "cell_type": "code",
   "execution_count": 5,
   "metadata": {},
   "outputs": [
    {
     "data": {
      "text/plain": [
       "pm::Array<pm::Set<long, pm::operations::cmp>>\n",
       "{0 4}\n",
       "{2 6}\n",
       "{0 2}\n",
       "{4 6}\n",
       "{1 5}\n",
       "{3 7}\n",
       "{1 3}\n",
       "{5 7}\n",
       "{0 1}\n",
       "{4 5}\n",
       "{2 3}\n",
       "{6 7}\n"
      ]
     },
     "execution_count": 5,
     "metadata": {},
     "output_type": "execute_result"
    }
   ],
   "source": [
    "Polymake.polytope.faces_of_dim(c, 1)"
   ]
  },
  {
   "cell_type": "markdown",
   "metadata": {},
   "source": [
    "The encoding again means that `{0 4}` corresponds to an edge between the 0th and the 4th vertex of the cube.\n",
    "\n",
    "However, Julia uses `1` based encodings, so we can use a convenience function of Polymake.jl to fix this issue:"
   ]
  },
  {
   "cell_type": "code",
   "execution_count": 40,
   "metadata": {},
   "outputs": [
    {
     "data": {
      "text/plain": [
       "12-element Vector{Polymake.SetAllocated{Int64}}:\n",
       " pm::Set<long, pm::operations::cmp>\n",
       "{1 5}\n",
       " pm::Set<long, pm::operations::cmp>\n",
       "{3 7}\n",
       " pm::Set<long, pm::operations::cmp>\n",
       "{1 3}\n",
       " pm::Set<long, pm::operations::cmp>\n",
       "{5 7}\n",
       " pm::Set<long, pm::operations::cmp>\n",
       "{2 6}\n",
       " pm::Set<long, pm::operations::cmp>\n",
       "{4 8}\n",
       " pm::Set<long, pm::operations::cmp>\n",
       "{2 4}\n",
       " pm::Set<long, pm::operations::cmp>\n",
       "{6 8}\n",
       " pm::Set<long, pm::operations::cmp>\n",
       "{1 2}\n",
       " pm::Set<long, pm::operations::cmp>\n",
       "{5 6}\n",
       " pm::Set<long, pm::operations::cmp>\n",
       "{3 4}\n",
       " pm::Set<long, pm::operations::cmp>\n",
       "{7 8}"
      ]
     },
     "execution_count": 40,
     "metadata": {},
     "output_type": "execute_result"
    }
   ],
   "source": [
    "Polymake.to_one_based_indexing(Polymake.polytope.faces_of_dim(c,1))"
   ]
  },
  {
   "cell_type": "markdown",
   "metadata": {},
   "source": [
    "Now the first entry becomes `{1 5}` and indicates an edge between the first and the fifth vertex.\n",
    "\n",
    "Accessing and conversion can be done in the following way:"
   ]
  },
  {
   "cell_type": "code",
   "execution_count": 41,
   "metadata": {},
   "outputs": [
    {
     "name": "stdout",
     "output_type": "stream",
     "text": [
      "Set([5, 1])\n",
      "[1, 5]\n"
     ]
    }
   ],
   "source": [
    "A = Polymake.to_one_based_indexing(Polymake.polytope.faces_of_dim(c, 1));\n",
    "println(Set{Int}(A[1]))\n",
    "println(Vector{Int}(A[1]))"
   ]
  },
  {
   "cell_type": "markdown",
   "metadata": {},
   "source": [
    "The edge directions would have to be computed separately, e.g. in the following way:\n",
    "\n",
    "(I cheated a little, by choosing `Int` for the type of the matrix entries, `Rational` would be more honest, but less aesthetic)"
   ]
  },
  {
   "cell_type": "code",
   "execution_count": 42,
   "metadata": {},
   "outputs": [
    {
     "name": "stdout",
     "output_type": "stream",
     "text": [
      "[1, 5] has dir [0, 0, 0, -2]\n",
      "[3, 7] has dir [0, 0, 0, -2]\n",
      "[1, 3] has dir [0, 0, -2, 0]\n",
      "[5, 7] has dir [0, 0, -2, 0]\n",
      "[2, 6] has dir [0, 0, 0, -2]\n",
      "[4, 8] has dir [0, 0, 0, -2]\n",
      "[2, 4] has dir [0, 0, -2, 0]\n",
      "[6, 8] has dir [0, 0, -2, 0]\n",
      "[1, 2] has dir [0, -2, 0, 0]\n",
      "[5, 6] has dir [0, -2, 0, 0]\n",
      "[3, 4] has dir [0, -2, 0, 0]\n",
      "[7, 8] has dir [0, -2, 0, 0]\n"
     ]
    }
   ],
   "source": [
    "V = Matrix{Int}(c.VERTICES)\n",
    "for edge in A\n",
    "    v = Vector{Int}(edge)\n",
    "    dir = V[v[1], :] - V[v[2], :]\n",
    "    println(\"$(v) has dir $(dir)\")\n",
    "end"
   ]
  },
  {
   "cell_type": "markdown",
   "metadata": {},
   "source": [
    "One can see that the edge directions are the correct ones, i.e. only one non-zero entry."
   ]
  },
  {
   "cell_type": "markdown",
   "metadata": {},
   "source": []
  }
 ],
 "metadata": {
  "kernelspec": {
   "display_name": "Julia 1.6.1",
   "language": "julia",
   "name": "julia-1.6"
  },
  "language_info": {
   "file_extension": ".jl",
   "mimetype": "application/julia",
   "name": "julia",
   "version": "1.6.1"
  }
 },
 "nbformat": 4,
 "nbformat_minor": 4
}
